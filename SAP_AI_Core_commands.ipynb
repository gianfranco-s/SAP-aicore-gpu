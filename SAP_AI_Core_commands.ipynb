{
 "cells": [
  {
   "cell_type": "code",
   "execution_count": 1,
   "id": "9e67bf95-d4c7-400b-b271-ed502c4372a1",
   "metadata": {},
   "outputs": [],
   "source": [
    "import json\n",
    "\n",
    "from configparser import ConfigParser\n",
    "\n",
    "from ai_core_sdk.ai_core_v2_client import AICoreV2Client\n",
    "from ai_api_client_sdk.exception import AIAPINotFoundException, AIAPIServerException, AIAPIInvalidRequestException\n",
    "\n",
    "from sapaicore_utils import (AWS_CREDENTIALS_PATH,\n",
    "                             DOCKER_TOKEN,\n",
    "                             DOCKER_USER,\n",
    "                             get_conn_details,\n",
    "                             GITHUB_TOKEN,\n",
    "                             GITHUB_USER,\n",
    "                             onboard_repository,\n",
    "                             onboard_docker,\n",
    "                             show_docker_registries,\n",
    "                             show_repositories,)\n",
    "\n",
    "conn_details = get_conn_details()\n",
    "ai_core_client = AICoreV2Client(**conn_details)"
   ]
  },
  {
   "cell_type": "markdown",
   "id": "472bcbee",
   "metadata": {},
   "source": [
    "## Step 0. Onboard a repository and Docker account"
   ]
  },
  {
   "cell_type": "markdown",
   "id": "8905b611",
   "metadata": {},
   "source": [
    "### GitHub repository\n",
    "We'll need a GitHub username and token"
   ]
  },
  {
   "cell_type": "code",
   "execution_count": null,
   "id": "be294b18",
   "metadata": {},
   "outputs": [],
   "source": [
    "# First, let's see which repositories have been onboarded\n",
    "show_repositories(ai_core_client)"
   ]
  },
  {
   "cell_type": "code",
   "execution_count": null,
   "id": "0f532b6e",
   "metadata": {},
   "outputs": [],
   "source": [
    "PROJECT_NAME = 'gsalomone-tf-gpu'\n",
    "github_repo_url = 'https://github.com/gianfranco-s/SAP-aicore-gpu'"
   ]
  },
  {
   "cell_type": "code",
   "execution_count": null,
   "id": "d0bf811b",
   "metadata": {},
   "outputs": [],
   "source": [
    "# If project does not exist, AIAPINotFoundException is raised when `get()` is invoked\n",
    "try:\n",
    "    ai_core_client.repositories.get(PROJECT_NAME)\n",
    "    print('Repository already exists')\n",
    "\n",
    "except AIAPINotFoundException:\n",
    "    onboard_repository(github_repo_url,\n",
    "                    GITHUB_USER,\n",
    "                    GITHUB_TOKEN,\n",
    "                    PROJECT_NAME,\n",
    "                    ai_core_client)\n",
    "    print('Repository created')"
   ]
  },
  {
   "cell_type": "markdown",
   "id": "7c9eb0ea",
   "metadata": {},
   "source": [
    "### Docker account"
   ]
  },
  {
   "cell_type": "code",
   "execution_count": null,
   "id": "c4abed6a",
   "metadata": {},
   "outputs": [],
   "source": [
    "# First, let's see which registries have been onboarded\n",
    "show_docker_registries(ai_core_client)"
   ]
  },
  {
   "cell_type": "code",
   "execution_count": null,
   "id": "50ce0742",
   "metadata": {},
   "outputs": [],
   "source": [
    "docker_registry_name = 'gsalomone-docker'\n",
    "\n",
    "# If project does not exist, AIAPINotFoundException is raised when `get()` is invoked\n",
    "try:\n",
    "    ai_core_client.docker_registry_secrets.get(docker_registry_name)\n",
    "    print('Docker registry already exists')\n",
    "\n",
    "except AIAPINotFoundException:\n",
    "    onboard_docker(docker_registry_name, DOCKER_USER, DOCKER_TOKEN, ai_core_client)\n",
    "    print('Docker registry created')"
   ]
  },
  {
   "cell_type": "markdown",
   "id": "a03fec94",
   "metadata": {},
   "source": [
    "## Step 1. Create workspace\n",
    "Using default resource group because when I tried to create `tf-demo`, I got the message \"Resource Group cannot be created for free tier tenant\""
   ]
  },
  {
   "cell_type": "code",
   "execution_count": null,
   "id": "ef95d95a-d6b4-445a-b708-d30a670bcfaa",
   "metadata": {},
   "outputs": [],
   "source": [
    "try:\n",
    "    response = ai_core_client.resource_groups.create(\"tf-demo\")\n",
    "\n",
    "except AIAPIServerException as e:\n",
    "    print(e)"
   ]
  },
  {
   "cell_type": "code",
   "execution_count": null,
   "id": "b7fff6d7-94ff-416c-a781-e45d31a05e1d",
   "metadata": {},
   "outputs": [],
   "source": [
    "def show_resource_groups() -> None:\n",
    "    response = ai_core_client.resource_groups.query()\n",
    "\n",
    "    for rg in response.resources:\n",
    "        print(rg.resource_group_id)\n",
    "\n",
    "show_resource_groups()"
   ]
  },
  {
   "cell_type": "markdown",
   "id": "a90aef5d-58f4-4a61-801d-6f46b6ba13d3",
   "metadata": {},
   "source": [
    "## Step 2: upload model files to AWS S3\n",
    "Create bucket\n",
    "```\n",
    "aws s3api create-bucket --bucket gsalomone-celestial-bucket --region us-east-1\n",
    "```\n",
    "\n",
    "Upload files\n",
    "```\n",
    "cd tf_files\n",
    "aws s3 cp model.h5 s3://gsalomone-celestial-bucket/movie-clf/model/\n",
    "aws s3 cp max_pad_len.txt s3://gsalomone-celestial-bucket/movie-clf/model/\n",
    "aws s3 cp label_encoded_classes.npy s3://gsalomone-celestial-bucket/movie-clf/model/\n",
    "aws s3 cp tokens.json s3://gsalomone-celestial-bucket/movie-clf/model/\n",
    "```\n",
    "\n",
    "Check files\n",
    "```\n",
    "aws s3 ls s3://gsalomone-celestial-bucket/movie-clf/model/\n",
    "```\n",
    "\n",
    "Alternatively, it can be done using the AWS SDK"
   ]
  },
  {
   "cell_type": "code",
   "execution_count": null,
   "id": "f95e6dd4",
   "metadata": {},
   "outputs": [],
   "source": [
    "import boto3\n",
    "\n",
    "\n",
    "def file_exists_in_s3(bucket_name: str, s3_key: str, file_name: str) -> bool:\n",
    "    s3 = boto3.client('s3')\n",
    "    try:\n",
    "        s3.head_object(Bucket=bucket_name, Key=s3_key + file_name)\n",
    "        return True\n",
    "    except Exception as e:\n",
    "        return False\n",
    "\n",
    "\n",
    "def upload_file_to_s3(file_dir: str, file_name: str, bucket_name: str, s3_key: str) -> None:\n",
    "    if file_exists_in_s3(bucket_name, s3_key, file_name):\n",
    "        print(f'file {file_name} already exists in key: {s3_key}, bucket: {bucket_name}')\n",
    "        return\n",
    "\n",
    "    try:\n",
    "        s3 = boto3.client('s3')\n",
    "        s3.upload_file(file_dir + file_name, bucket_name, s3_key + file_name)\n",
    "        print(f\"File uploaded successfully to S3 bucket: {bucket_name} with key: {s3_key}\")\n",
    "    except Exception as e:\n",
    "        print(f\"Error uploading file to S3: {e}\")\n",
    "\n",
    "\n",
    "bucket_name = 'gsalomone-celestial-bucket'\n",
    "s3_key = 'movie-clf/model/'\n",
    "file_dir = 'tf_files/'"
   ]
  },
  {
   "cell_type": "code",
   "execution_count": null,
   "id": "29993d52",
   "metadata": {},
   "outputs": [],
   "source": [
    "upload_file_to_s3(file_dir, 'model.h5', bucket_name, s3_key)\n",
    "upload_file_to_s3(file_dir, 'max_pad_len.txt', bucket_name, s3_key)\n",
    "upload_file_to_s3(file_dir, 'label_encoded_classes.npy', bucket_name, s3_key)\n",
    "upload_file_to_s3(file_dir, 'tokens.json', bucket_name, s3_key)"
   ]
  },
  {
   "cell_type": "markdown",
   "id": "1b94cf5e",
   "metadata": {},
   "source": [
    "## Step 3: connect AWS S3 to SAP AI Core\n",
    "Keep in mind that the attribute `endpoint` only uses the availability zone only if the bucket resides outside `us-east-1`\n",
    "Examples:\n",
    "- if region is `us-east-one`, endpoint is `s3.amazonaws.com`\n",
    "- if region is `eu-central-1`, endpoint is `s3-eu-central-1.amazonaws.com`"
   ]
  },
  {
   "cell_type": "code",
   "execution_count": null,
   "id": "6c93e76a-a7d8-4896-a0e9-a81caea935de",
   "metadata": {},
   "outputs": [],
   "source": [
    "config = ConfigParser()\n",
    "config.read(AWS_CREDENTIALS_PATH)\n",
    "\n",
    "aws_access_key_id = config.get('default', 'aws_access_key_id')\n",
    "aws_secret_access_key = config.get('default', 'aws_secret_access_key')\n",
    "\n",
    "aws_az = 'us-east-1'\n",
    "object_store_name = 'gs-tf-gpu-tutorial-secret'"
   ]
  },
  {
   "cell_type": "code",
   "execution_count": null,
   "id": "020e1e4a-7b98-4a1b-91f6-f22df8462577",
   "metadata": {},
   "outputs": [],
   "source": [
    "def create_s3_object_store(object_store_name: str, bucket_name: str, s3_key: str, aws_az: str) -> str:\n",
    "    response = ai_core_client.object_store_secrets.create(\n",
    "        resource_group = 'default',\n",
    "        type = \"S3\",\n",
    "        name = object_store_name,\n",
    "        path_prefix = s3_key,\n",
    "        endpoint = f\"s3.{aws_az}.amazonaws.com\",  # https://docs.aws.amazon.com/general/latest/gr/s3.html\n",
    "        bucket = bucket_name,\n",
    "        region = aws_az,\n",
    "        data = {\n",
    "            \"AWS_ACCESS_KEY_ID\": aws_access_key_id,\n",
    "            \"AWS_SECRET_ACCESS_KEY\": aws_secret_access_key\n",
    "        }\n",
    "    )\n",
    "\n",
    "    return response.message\n",
    "\n",
    "res = create_s3_object_store(object_store_name, 'gsalomone-celestial-bucket', s3_key='movie-clf', aws_az=aws_az)\n",
    "res"
   ]
  },
  {
   "cell_type": "markdown",
   "id": "d2139160",
   "metadata": {},
   "source": [
    "## Step 4: register model as Artifact\n",
    "Let's follow the tutorial to the letter.\n",
    "\n",
    "Spoiler: it will not work.\n",
    "```\n",
    "Invalid Request, Could not create Artifact due to invalid Scenario ID <id-here>. Please check the Scenario ID.\n",
    "```\n",
    "**We'll follow step 6 first**"
   ]
  },
  {
   "cell_type": "code",
   "execution_count": null,
   "id": "72320208",
   "metadata": {},
   "outputs": [],
   "source": [
    "# Register model as artifact\n",
    "from ai_core_sdk.models import Artifact\n",
    "\n",
    "def create_model(model_name: str, object_store_name: str, scenario_id: str, description: str) -> str:\n",
    "    \"\"\"Create artifact as model\n",
    "    \n",
    "    Keyword arguments:\n",
    "    model_name -- self explanatory\n",
    "    object_store_name -- s3 object store\n",
    "    scenario_id -- taken form the yaml file, found under `scenarios.ai.sap.com/id`\n",
    "    Return: return_description\n",
    "    \"\"\"\n",
    "    \n",
    "    response = ai_core_client.artifact.create(\n",
    "        resource_group = 'default',\n",
    "        name = model_name,\n",
    "        kind = Artifact.Kind.MODEL,\n",
    "        url = f\"ai://{object_store_name}/model\",\n",
    "        scenario_id = scenario_id,\n",
    "        description = description\n",
    "    )\n",
    "    return response.message"
   ]
  },
  {
   "cell_type": "code",
   "execution_count": null,
   "id": "a8ab4e42",
   "metadata": {},
   "outputs": [],
   "source": [
    "# If you run this code AFTER creating the scenario, it will work ok\n",
    "# because scenario_id will already be available\n",
    "\n",
    "try:\n",
    "    msg = create_model(model_name='gsalomone-model',\n",
    "                       scenario_id='tf-text-clf',\n",
    "                       description='Review Classification Model',\n",
    "                       object_store_name=object_store_name,)\n",
    "\n",
    "    print(msg)\n",
    "except AIAPIInvalidRequestException as e:\n",
    "    print(e)"
   ]
  },
  {
   "cell_type": "markdown",
   "id": "789b0580",
   "metadata": {},
   "source": [
    "### Step 4 -> Step 6: we need to set up the scenario_id FIRST\n",
    "It turns out that `scenario_id` is created from the yaml file. So we'll move to step 6 of the tutorial\n",
    "\n",
    "- Copy [`serving_executable.yaml`](https://raw.githubusercontent.com/sap-tutorials/Tutorials/master/tutorials/ai-core-tensorflow-byod/files/workflow/serving_executable.yaml)\n",
    "- set `resourcePlan` to `infer.s` which will enable GPU. ATTENTION: free tier only allows for `starter`\n",
    "- set `imagePullSecrets > name` to the appropriate docker registry secret. In this tutorial you'll find it in variable `docker_registry_name`\n",
    "- set `containers > image` is set to `\"docker.io/DOCKER_USER/movie-review-clf-serve:0.0.1\"`"
   ]
  },
  {
   "cell_type": "markdown",
   "id": "c945ec69",
   "metadata": {},
   "source": [
    "### Step 4 -> Step 7: sync with SAP AI Core\n",
    "- Push `serving_executable.yaml` to GitHub\n",
    "- Create the application in SAP AI Core\n",
    "- Check for typos in yaml file `executables.ai.sap.com/name: \"serve-executuable\"` -> `executables.ai.sap.com/name: \"serve-executable\"`\n"
   ]
  },
  {
   "cell_type": "code",
   "execution_count": null,
   "id": "80064c3a-b1e0-4b60-b872-55775fc255c4",
   "metadata": {},
   "outputs": [],
   "source": [
    "# Create application\n",
    "application_name = 'gsalomone-tf-app'\n",
    "\n",
    "try:\n",
    "    response = ai_core_client.applications.create(\n",
    "        application_name = application_name,\n",
    "        revision = \"HEAD\",\n",
    "        repository_url = github_repo_url,\n",
    "        path = \"tf-text-classifier\"  # path to the yaml file in the repository\n",
    "    )\n",
    "except AIAPIServerException as e:\n",
    "    reason = json.loads(e.error_message).get('reason')\n",
    "    print(f'Application cannot be created because: {reason}')"
   ]
  },
  {
   "cell_type": "code",
   "execution_count": null,
   "id": "86f9ae74-3fd3-4b60-9c71-8c5bdb9a593e",
   "metadata": {},
   "outputs": [],
   "source": [
    "response = ai_core_client.applications.get_status(application_name=application_name)\n",
    "print(response.message)\n",
    "\n",
    "for workflow_sync_status in response.sync_ressources_status:\n",
    "    print(f'\\napplication status: ', workflow_sync_status.status)\n",
    "    print(f'workflow message: ', workflow_sync_status.message)\n",
    "    print(f'application name (from yaml file): ', workflow_sync_status.name)"
   ]
  },
  {
   "cell_type": "markdown",
   "id": "15c00b06",
   "metadata": {},
   "source": [
    "### Step 4 -> Step 4: NOW register model as artifact"
   ]
  },
  {
   "cell_type": "code",
   "execution_count": null,
   "id": "ee1d2184-ab79-432d-a287-a1abc0186ce5",
   "metadata": {},
   "outputs": [],
   "source": [
    "SCENARIO_ID = 'tf-text-clf'  # Remember to take it from the yaml file: `scenarios.ai.sap.com/id`\n",
    "msg = create_model(model_name='gsalomone-model',\n",
    "                    scenario_id=SCENARIO_ID,\n",
    "                    description='Review Classification Model',\n",
    "                    object_store_name=object_store_name,)\n",
    "\n",
    "print(msg)"
   ]
  },
  {
   "cell_type": "code",
   "execution_count": null,
   "id": "740a2c5e",
   "metadata": {},
   "outputs": [],
   "source": [
    "# Show artifacts\n",
    "artifacts = ai_core_client.artifact.query(resource_group='default')\n",
    "\n",
    "artifact_resources = artifacts.resources\n",
    "\n",
    "for resource in artifact_resources:\n",
    "    print(f\"artifact_id: {resource.id}\")\n",
    "    print(f\"created_at: {resource.created_at}\")\n",
    "    print(f\"execution_id: {resource.execution_id}\")\n",
    "    print(f\"kind: {resource.kind}\")\n",
    "    print(f\"name: {resource.name}\")\n",
    "    print(f\"scenario_id: {resource.scenario_id}\")\n",
    "    print(f\"url: {resource.url}\\n\")"
   ]
  },
  {
   "cell_type": "code",
   "execution_count": 15,
   "id": "8cab0e5e",
   "metadata": {},
   "outputs": [
    {
     "data": {
      "text/plain": [
       "'1f0f72ab-51ab-4ea4-98c8-bf535b4bb8f2'"
      ]
     },
     "execution_count": 15,
     "metadata": {},
     "output_type": "execute_result"
    }
   ],
   "source": [
    "# Latest artifact is apparently at the top of the list, so let's define\n",
    "artifact_resources = ai_core_client.artifact.query(resource_group='default').resources\n",
    "artifact_id = artifact_resources[0].id\n",
    "artifact_id"
   ]
  },
  {
   "cell_type": "code",
   "execution_count": null,
   "id": "e9feeeb2",
   "metadata": {},
   "outputs": [],
   "source": [
    "# Just showing another way to get artifact data\n",
    "from pprint import pprint\n",
    "\n",
    "res = ai_core_client.artifact.get(artifact_id=artifact_id, resource_group='default')\n",
    "pprint(res.__dict__)"
   ]
  },
  {
   "cell_type": "markdown",
   "id": "5b56878e",
   "metadata": {},
   "source": [
    "## Step 5: set up serving code\n",
    "```\n",
    "cd server\n",
    "sudo docker login docker.io  # Password is the Personal Access Token\n",
    "sudo docker build -t docker.io/gsalomone/movie-review-clf-serve:0.0.1 .\n",
    "sudo docker push docker.io/gsalomone/movie-review-clf-serve:0.0.1\n",
    "```\n",
    "- Modify requirements to install latest versions\n",
    "- Use flag `--ignore-installed` in Dockerfile\n"
   ]
  },
  {
   "cell_type": "markdown",
   "id": "56c4125c",
   "metadata": {},
   "source": [
    "## Step 8: create configuration"
   ]
  },
  {
   "cell_type": "code",
   "execution_count": 16,
   "id": "5a37bf0d-1677-47cb-8a08-a680d3e73b61",
   "metadata": {},
   "outputs": [
    {
     "name": "stdout",
     "output_type": "stream",
     "text": [
      "{'id': 'b14e6fb9-5423-4937-85c2-59f09e6e82d0', 'message': 'Configuration created'}\n"
     ]
    }
   ],
   "source": [
    "\n",
    "# Create configuration\n",
    "from ai_core_sdk.models import InputArtifactBinding\n",
    "\n",
    "EXECUTABLE_ID = \"tf-text-clf-serve\"  # It's the (first) `name` key in the yaml file\n",
    "\n",
    "response = ai_core_client.configuration.create(\n",
    "    name = \"gsalomone-tf-gpu-conf\",\n",
    "    resource_group = \"default\",\n",
    "    scenario_id = SCENARIO_ID,\n",
    "    executable_id = EXECUTABLE_ID,\n",
    "    input_artifact_bindings = [\n",
    "        InputArtifactBinding(key=\"modelArtifact\", artifact_id = artifact_id), # Change artifact id\n",
    "    ]\n",
    ")\n",
    "\n",
    "print(response.__dict__)\n",
    "config_id = response.id"
   ]
  },
  {
   "cell_type": "code",
   "execution_count": 17,
   "id": "41f687cc",
   "metadata": {},
   "outputs": [
    {
     "name": "stdout",
     "output_type": "stream",
     "text": [
      "{'id': 'b14e6fb9-5423-4937-85c2-59f09e6e82d0', 'name': 'gsalomone-tf-gpu-conf', 'scenario_id': 'tf-text-clf', 'executable_id': 'tf-text-clf-serve', 'parameter_bindings': [], 'input_artifact_bindings': [<ai_api_client_sdk.models.input_artifact_binding.InputArtifactBinding object at 0x7d66a5c70760>], 'created_at': datetime.datetime(2024, 2, 29, 15, 56, 56, tzinfo=datetime.timezone.utc), 'scenario': None}\n",
      "{'id': '91442fbc-9577-4839-beb0-6d0611ddceab', 'name': 'gsalomone-tf-gpu-conf', 'scenario_id': 'tf-text-clf', 'executable_id': 'tf-text-clf-serve', 'parameter_bindings': [], 'input_artifact_bindings': [<ai_api_client_sdk.models.input_artifact_binding.InputArtifactBinding object at 0x7d66a5c72170>], 'created_at': datetime.datetime(2024, 2, 26, 22, 4, 30, tzinfo=datetime.timezone.utc), 'scenario': None}\n",
      "{'id': 'd8674084-b83b-4b65-9120-398efd4edb38', 'name': 'gsalomone-tf-gpu-conf', 'scenario_id': 'tf-text-clf', 'executable_id': 'tf-text-clf-serve', 'parameter_bindings': [], 'input_artifact_bindings': [<ai_api_client_sdk.models.input_artifact_binding.InputArtifactBinding object at 0x7d66a5c70790>], 'created_at': datetime.datetime(2024, 2, 26, 20, 23, 37, tzinfo=datetime.timezone.utc), 'scenario': None}\n",
      "{'id': 'bd2b393d-025e-4518-8b99-e6297d1e1b83', 'name': 'gsalomone-tf-gpu-conf', 'scenario_id': 'tf-text-clf', 'executable_id': 'tf-text-clf-serve', 'parameter_bindings': [], 'input_artifact_bindings': [<ai_api_client_sdk.models.input_artifact_binding.InputArtifactBinding object at 0x7d66a5c72590>], 'created_at': datetime.datetime(2024, 2, 26, 19, 9, 59, tzinfo=datetime.timezone.utc), 'scenario': None}\n",
      "{'id': '5e4247a5-849e-4c90-813b-87e1795496db', 'name': 'gsalomone-tf-gpu-conf', 'scenario_id': 'tf-text-clf', 'executable_id': 'tf-text-clf-serve', 'parameter_bindings': [], 'input_artifact_bindings': [<ai_api_client_sdk.models.input_artifact_binding.InputArtifactBinding object at 0x7d66a5c73370>], 'created_at': datetime.datetime(2024, 2, 25, 4, 40, 5, tzinfo=datetime.timezone.utc), 'scenario': None}\n",
      "{'id': 'd1f12b53-1b32-4164-930b-b58a6ecd60df', 'name': 'gsalomone-tf-gpu-conf', 'scenario_id': 'tf-text-clf', 'executable_id': 'tf-text-clf-serve', 'parameter_bindings': [], 'input_artifact_bindings': [<ai_api_client_sdk.models.input_artifact_binding.InputArtifactBinding object at 0x7d66a5c70520>], 'created_at': datetime.datetime(2024, 2, 24, 21, 13, 31, tzinfo=datetime.timezone.utc), 'scenario': None}\n",
      "{'id': '15aeaeb7-1df5-4682-b29c-8df71dde7242', 'name': 'House Price (Jan) metrics', 'scenario_id': 'learning-datalines', 'executable_id': 'house-metrics-train', 'parameter_bindings': [<ai_api_client_sdk.models.parameter_binding.ParameterBinding object at 0x7d66a5c72fb0>], 'input_artifact_bindings': [<ai_api_client_sdk.models.input_artifact_binding.InputArtifactBinding object at 0x7d66a5c70880>], 'created_at': datetime.datetime(2024, 2, 22, 19, 1, 7, tzinfo=datetime.timezone.utc), 'scenario': None}\n",
      "{'id': '31d166ff-b0c9-4563-a8d9-136112a346a3', 'name': 'code-workflow-1-ncellini', 'scenario_id': 'learning-code', 'executable_id': 'code-pipeline-ncellini', 'parameter_bindings': [], 'input_artifact_bindings': [], 'created_at': datetime.datetime(2024, 2, 19, 18, 59, 23, tzinfo=datetime.timezone.utc), 'scenario': None}\n",
      "{'id': '78942804-7938-4a00-b66d-09116deea3ee', 'name': 'gsalomone-tf-gpu-conf', 'scenario_id': 'tf-text-clf', 'executable_id': 'tf-text-clf-serve', 'parameter_bindings': [], 'input_artifact_bindings': [<ai_api_client_sdk.models.input_artifact_binding.InputArtifactBinding object at 0x7d66a5c738b0>], 'created_at': datetime.datetime(2024, 2, 13, 22, 27, 18, tzinfo=datetime.timezone.utc), 'scenario': None}\n",
      "{'id': '9ba56439-644b-40ac-b51e-080d4c4de918', 'name': 'gsalomone-tf-gpu-conf', 'scenario_id': 'tf-text-clf', 'executable_id': 'tf-text-clf-serve', 'parameter_bindings': [], 'input_artifact_bindings': [<ai_api_client_sdk.models.input_artifact_binding.InputArtifactBinding object at 0x7d66a5c73070>], 'created_at': datetime.datetime(2024, 2, 13, 22, 2, 31, tzinfo=datetime.timezone.utc), 'scenario': None}\n",
      "{'id': '27839d28-f67e-407b-9d4b-d40982c47eaa', 'name': 'House Price (Jan) metrics', 'scenario_id': 'learning-datalines', 'executable_id': 'data-pipeline', 'parameter_bindings': [<ai_api_client_sdk.models.parameter_binding.ParameterBinding object at 0x7d66a5c70640>], 'input_artifact_bindings': [<ai_api_client_sdk.models.input_artifact_binding.InputArtifactBinding object at 0x7d66a5c72560>], 'created_at': datetime.datetime(2024, 2, 10, 14, 50, 59, tzinfo=datetime.timezone.utc), 'scenario': None}\n",
      "{'id': '24634468-0e22-412d-8430-fda01aff8afb', 'name': 'House Price February 1', 'scenario_id': 'learning-datalines', 'executable_id': 'data-pipeline', 'parameter_bindings': [<ai_api_client_sdk.models.parameter_binding.ParameterBinding object at 0x7d66a5cd4b20>], 'input_artifact_bindings': [<ai_api_client_sdk.models.input_artifact_binding.InputArtifactBinding object at 0x7d66a5cd4ca0>], 'created_at': datetime.datetime(2024, 2, 10, 2, 1, 6, tzinfo=datetime.timezone.utc), 'scenario': None}\n",
      "{'id': 'ee0bb280-1850-4ee4-9feb-db05b56369b6', 'name': 'House Price February 1', 'scenario_id': 'learning-datalines', 'executable_id': 'data-pipeline', 'parameter_bindings': [<ai_api_client_sdk.models.parameter_binding.ParameterBinding object at 0x7d66a5cd4bb0>], 'input_artifact_bindings': [<ai_api_client_sdk.models.input_artifact_binding.InputArtifactBinding object at 0x7d66a5cd4cd0>], 'created_at': datetime.datetime(2024, 2, 10, 1, 57, 41, tzinfo=datetime.timezone.utc), 'scenario': None}\n",
      "{'id': '4fc0f712-8a49-479b-8cf5-6498ca89d221', 'name': 'House Price February 1', 'scenario_id': 'learning-datalines', 'executable_id': 'data-pipeline', 'parameter_bindings': [<ai_api_client_sdk.models.parameter_binding.ParameterBinding object at 0x7d66a5cd67d0>], 'input_artifact_bindings': [<ai_api_client_sdk.models.input_artifact_binding.InputArtifactBinding object at 0x7d66a5cd4ac0>], 'created_at': datetime.datetime(2024, 2, 10, 1, 54, 42, tzinfo=datetime.timezone.utc), 'scenario': None}\n",
      "{'id': '2da0f802-ab1c-44fd-a657-e84ff62cc7f3', 'name': 'House Price January 1', 'scenario_id': 'learning-datalines', 'executable_id': 'data-pipeline', 'parameter_bindings': [<ai_api_client_sdk.models.parameter_binding.ParameterBinding object at 0x7d66a5cd4f40>], 'input_artifact_bindings': [<ai_api_client_sdk.models.input_artifact_binding.InputArtifactBinding object at 0x7d66a5cd4a60>], 'created_at': datetime.datetime(2024, 2, 10, 1, 52, 48, tzinfo=datetime.timezone.utc), 'scenario': None}\n",
      "{'id': 'b481580c-273e-4cab-a034-c97f5e9ecaa7', 'name': 'House Price January 1', 'scenario_id': 'learning-datalines', 'executable_id': 'data-pipeline', 'parameter_bindings': [<ai_api_client_sdk.models.parameter_binding.ParameterBinding object at 0x7d66a5cd4af0>], 'input_artifact_bindings': [<ai_api_client_sdk.models.input_artifact_binding.InputArtifactBinding object at 0x7d66a5cd7df0>], 'created_at': datetime.datetime(2024, 2, 10, 1, 46, 10, tzinfo=datetime.timezone.utc), 'scenario': None}\n",
      "{'id': '46b79f8f-0d24-44a9-9156-fec225b69217', 'name': 'House Price January 1', 'scenario_id': 'learning-datalines', 'executable_id': 'data-pipeline', 'parameter_bindings': [<ai_api_client_sdk.models.parameter_binding.ParameterBinding object at 0x7d66a5cd7eb0>], 'input_artifact_bindings': [<ai_api_client_sdk.models.input_artifact_binding.InputArtifactBinding object at 0x7d66a5cd7e50>], 'created_at': datetime.datetime(2024, 2, 10, 1, 6, 41, tzinfo=datetime.timezone.utc), 'scenario': None}\n",
      "{'id': 'e632c3e7-5c45-4ffd-95da-544822fe418a', 'name': 'hello-pipeline-conf-ncellini', 'scenario_id': 'learning', 'executable_id': 'first-pipeline-ncellini', 'parameter_bindings': [], 'input_artifact_bindings': [], 'created_at': datetime.datetime(2024, 2, 8, 18, 5, 27, tzinfo=datetime.timezone.utc), 'scenario': None}\n",
      "{'id': 'a2cedfa2-08fd-44be-9d98-ab7b8205ff08', 'name': 'code-workflow-1', 'scenario_id': 'learning-code', 'executable_id': 'code-pipeline-01-gsalomone', 'parameter_bindings': [], 'input_artifact_bindings': [], 'created_at': datetime.datetime(2024, 1, 24, 23, 43, 57, tzinfo=datetime.timezone.utc), 'scenario': None}\n",
      "{'id': '1338cc7f-6e96-4d14-b475-01a250ac0352', 'name': 'code-workflow-1', 'scenario_id': 'learning-code', 'executable_id': 'code-pipeline-01-gsalomone', 'parameter_bindings': [], 'input_artifact_bindings': [], 'created_at': datetime.datetime(2024, 1, 24, 23, 40, 41, tzinfo=datetime.timezone.utc), 'scenario': None}\n",
      "{'id': '6c034d2b-d39e-4d65-b0aa-9b453bf6de1a', 'name': 'code-workflow-1', 'scenario_id': 'learning-code', 'executable_id': 'code-pipeline-01-gsalomone', 'parameter_bindings': [], 'input_artifact_bindings': [], 'created_at': datetime.datetime(2024, 1, 24, 23, 38, 54, tzinfo=datetime.timezone.utc), 'scenario': None}\n",
      "{'id': '14b14b45-5d2e-4e26-b561-60e272067610', 'name': 'code-workflow-1', 'scenario_id': 'learning-code', 'executable_id': 'code-pipeline-01-gsalomone', 'parameter_bindings': [], 'input_artifact_bindings': [], 'created_at': datetime.datetime(2024, 1, 24, 23, 33, 24, tzinfo=datetime.timezone.utc), 'scenario': None}\n",
      "{'id': 'a1e197c1-8a2f-4906-8a1d-d7bc02fe22ce', 'name': 'code-workflow-1', 'scenario_id': 'learning-code', 'executable_id': 'code-pipeline-01-gsalomone', 'parameter_bindings': [], 'input_artifact_bindings': [], 'created_at': datetime.datetime(2024, 1, 24, 23, 29, 40, tzinfo=datetime.timezone.utc), 'scenario': None}\n",
      "{'id': 'cdac5bf6-6e25-480a-a3ce-a3530ebb5a53', 'name': 'code-workflow-1', 'scenario_id': 'learning-code', 'executable_id': 'code-pipeline-01-gsalomone', 'parameter_bindings': [], 'input_artifact_bindings': [], 'created_at': datetime.datetime(2024, 1, 24, 23, 28, 40, tzinfo=datetime.timezone.utc), 'scenario': None}\n",
      "{'id': '0029478f-d127-4de8-90c5-bfde3d8dd5d1', 'name': 'hello-pipeline-conf-gsalomone', 'scenario_id': 'learning', 'executable_id': 'first-pipeline', 'parameter_bindings': [], 'input_artifact_bindings': [], 'created_at': datetime.datetime(2023, 12, 14, 22, 14, 54, tzinfo=datetime.timezone.utc), 'scenario': None}\n"
     ]
    }
   ],
   "source": [
    "configurations = ai_core_client.configuration.query(resource_group='default')\n",
    "\n",
    "for resource in configurations.resources:\n",
    "    print(resource.__dict__)"
   ]
  },
  {
   "cell_type": "code",
   "execution_count": 18,
   "id": "189f8e52",
   "metadata": {},
   "outputs": [
    {
     "data": {
      "text/plain": [
       "'b14e6fb9-5423-4937-85c2-59f09e6e82d0'"
      ]
     },
     "execution_count": 18,
     "metadata": {},
     "output_type": "execute_result"
    }
   ],
   "source": [
    "# Again, apparently the latest resource appears at the top, so\n",
    "configurations = ai_core_client.configuration.query(resource_group='default')\n",
    "configuration_id = configurations.resources[0].id\n",
    "configuration_id"
   ]
  },
  {
   "cell_type": "markdown",
   "id": "fcf24265",
   "metadata": {},
   "source": [
    "## Step 9: start deployment"
   ]
  },
  {
   "cell_type": "code",
   "execution_count": 19,
   "id": "c716d6d9-8114-4390-8233-7feb055c6268",
   "metadata": {},
   "outputs": [],
   "source": [
    "response = ai_core_client.deployment.create(\n",
    "    resource_group = \"default\",\n",
    "    configuration_id = configuration_id\n",
    ")"
   ]
  },
  {
   "cell_type": "code",
   "execution_count": null,
   "id": "8996adf4",
   "metadata": {},
   "outputs": [],
   "source": [
    "response.__dict__"
   ]
  },
  {
   "cell_type": "code",
   "execution_count": 20,
   "id": "76f2a88d",
   "metadata": {},
   "outputs": [
    {
     "data": {
      "text/plain": [
       "'d09a0f1f2a2bce82'"
      ]
     },
     "execution_count": 20,
     "metadata": {},
     "output_type": "execute_result"
    }
   ],
   "source": [
    "deployments = ai_core_client.deployment.query(resource_group=\"default\")\n",
    "\n",
    "# Following what we've learned about the query method:\n",
    "deployment_id = deployments.resources[0].id\n",
    "deployment_id"
   ]
  },
  {
   "cell_type": "code",
   "execution_count": 21,
   "id": "ecc2bbc8-3712-462e-b3a6-171d9e712100",
   "metadata": {},
   "outputs": [
    {
     "name": "stdout",
     "output_type": "stream",
     "text": [
      "Status:  Status.PENDING\n",
      "********************************************************************************\n",
      "{'id': 'd09a0f1f2a2bce82', 'configuration_id': 'b14e6fb9-5423-4937-85c2-59f09e6e82d0', 'configuration_name': 'gsalomone-tf-gpu-conf', 'scenario_id': 'tf-text-clf', 'status': <Status.PENDING: 'PENDING'>, 'target_status': <TargetStatus.RUNNING: 'RUNNING'>, 'created_at': datetime.datetime(2024, 2, 29, 15, 57, 25, tzinfo=datetime.timezone.utc), 'modified_at': datetime.datetime(2024, 2, 29, 15, 57, 37, tzinfo=datetime.timezone.utc), 'status_message': None, 'status_details': {'deployment_info': [{'last_transition_time': '2024-02-29T15:57:34Z', 'message': None, 'severity': 'Info', 'status': 'Unknown', 'type': 'PredictorConfigurationReady'}, {'last_transition_time': '2024-02-29T15:57:34Z', 'message': 'Configuration \"d09a0f1f2a2bce82-predictor-default\" is waiting for a Revision to become ready.', 'reason': 'RevisionMissing', 'status': 'Unknown', 'type': 'PredictorReady'}, {'last_transition_time': '2024-02-29T15:57:34Z', 'message': 'Configuration \"d09a0f1f2a2bce82-predictor-default\" is waiting for a Revision to become ready.', 'reason': 'RevisionMissing', 'severity': 'Info', 'status': 'Unknown', 'type': 'PredictorRouteReady'}, {'last_transition_time': '2024-02-29T15:57:34Z', 'message': 'Configuration \"d09a0f1f2a2bce82-predictor-default\" is waiting for a Revision to become ready.', 'reason': 'RevisionMissing', 'status': 'Unknown', 'type': 'Ready'}], 'details': {'default': {'predictor': {'containers': [{'container_name': 'storage-initializer', 'exit_code': '', 'last_log_messages': '', 'message': '', 'pod_name': 'd09a0f1f2a2bce82-predictor-default-00001-deployment-69857drvdss', 'ready': False}], 'revision_info': {'ready': 'Unknown'}}}}}, 'submission_time': datetime.datetime(2024, 2, 29, 15, 57, 32, tzinfo=datetime.timezone.utc), 'start_time': None, 'completion_time': None, 'deployment_url': '', 'last_operation': <Operation.CREATE: 'CREATE'>, 'latest_running_configuration_id': None, 'details': {'resources': {'backend_details': {'predictor': {'resource_plan': 'starter'}}}, 'scaling': {'backend_details': {'predictor': {'max_replicas': '2', 'min_replicas': '1', 'running_replicas': 0}}}}, 'ttl': None}\n"
     ]
    }
   ],
   "source": [
    "# Check deployment status\n",
    "# This may take 2-3 minutes to change state from UNKNOWN > PENDING > RUNNING.\n",
    "\n",
    "response = ai_core_client.deployment.get(resource_group=\"default\", deployment_id=deployment_id)\n",
    "\n",
    "print(\"Status: \", response.status)\n",
    "print('*'*80)\n",
    "print(response.__dict__)"
   ]
  },
  {
   "cell_type": "code",
   "execution_count": 22,
   "id": "e3250ee7",
   "metadata": {},
   "outputs": [
    {
     "name": "stdout",
     "output_type": "stream",
     "text": [
      "{'msg': 'INFO:root:Initializing, args: src_uri [s3://gsalomone-celestial-bucket/movie-clf/model] dest_path[ [/mnt/models]', 'timestamp': datetime.datetime(2024, 2, 29, 15, 57, 39, 284840, tzinfo=datetime.timezone.utc)}\n",
      "{'msg': 'INFO:root:Copying contents of s3://gsalomone-celestial-bucket/movie-clf/model to local', 'timestamp': datetime.datetime(2024, 2, 29, 15, 57, 39, 284885, tzinfo=datetime.timezone.utc)}\n",
      "{'msg': 'INFO:botocore.credentials:Found credentials in environment variables.', 'timestamp': datetime.datetime(2024, 2, 29, 15, 57, 39, 327069, tzinfo=datetime.timezone.utc)}\n",
      "{'msg': 'INFO:root:Successfully copied s3://gsalomone-celestial-bucket/movie-clf/model to /mnt/models', 'timestamp': datetime.datetime(2024, 2, 29, 15, 57, 41, 58931, tzinfo=datetime.timezone.utc)}\n"
     ]
    }
   ],
   "source": [
    "logs = ai_core_client.deployment.query_logs(deployment_id=deployment_id, resource_group='default').data.result\n",
    "\n",
    "for log in logs:\n",
    "    print(log.__dict__)"
   ]
  },
  {
   "cell_type": "code",
   "execution_count": 23,
   "id": "abf26193",
   "metadata": {},
   "outputs": [
    {
     "ename": "ReadTimeout",
     "evalue": "HTTPSConnectionPool(host='api.ai.prod.us-east-1.aws.ml.hana.ondemand.com', port=443): Read timed out. (read timeout=60)",
     "output_type": "error",
     "traceback": [
      "\u001b[0;31m---------------------------------------------------------------------------\u001b[0m",
      "\u001b[0;31mTimeoutError\u001b[0m                              Traceback (most recent call last)",
      "File \u001b[0;32m~/Documents/05Baitcon/SAP-aicore-gpu/.venv/lib/python3.10/site-packages/urllib3/connectionpool.py:537\u001b[0m, in \u001b[0;36mHTTPConnectionPool._make_request\u001b[0;34m(self, conn, method, url, body, headers, retries, timeout, chunked, response_conn, preload_content, decode_content, enforce_content_length)\u001b[0m\n\u001b[1;32m    536\u001b[0m \u001b[38;5;28;01mtry\u001b[39;00m:\n\u001b[0;32m--> 537\u001b[0m     response \u001b[38;5;241m=\u001b[39m \u001b[43mconn\u001b[49m\u001b[38;5;241;43m.\u001b[39;49m\u001b[43mgetresponse\u001b[49m\u001b[43m(\u001b[49m\u001b[43m)\u001b[49m\n\u001b[1;32m    538\u001b[0m \u001b[38;5;28;01mexcept\u001b[39;00m (BaseSSLError, \u001b[38;5;167;01mOSError\u001b[39;00m) \u001b[38;5;28;01mas\u001b[39;00m e:\n",
      "File \u001b[0;32m~/Documents/05Baitcon/SAP-aicore-gpu/.venv/lib/python3.10/site-packages/urllib3/connection.py:461\u001b[0m, in \u001b[0;36mHTTPConnection.getresponse\u001b[0;34m(self)\u001b[0m\n\u001b[1;32m    460\u001b[0m \u001b[38;5;66;03m# Get the response from http.client.HTTPConnection\u001b[39;00m\n\u001b[0;32m--> 461\u001b[0m httplib_response \u001b[38;5;241m=\u001b[39m \u001b[38;5;28;43msuper\u001b[39;49m\u001b[43m(\u001b[49m\u001b[43m)\u001b[49m\u001b[38;5;241;43m.\u001b[39;49m\u001b[43mgetresponse\u001b[49m\u001b[43m(\u001b[49m\u001b[43m)\u001b[49m\n\u001b[1;32m    463\u001b[0m \u001b[38;5;28;01mtry\u001b[39;00m:\n",
      "File \u001b[0;32m/usr/lib/python3.10/http/client.py:1375\u001b[0m, in \u001b[0;36mHTTPConnection.getresponse\u001b[0;34m(self)\u001b[0m\n\u001b[1;32m   1374\u001b[0m \u001b[38;5;28;01mtry\u001b[39;00m:\n\u001b[0;32m-> 1375\u001b[0m     \u001b[43mresponse\u001b[49m\u001b[38;5;241;43m.\u001b[39;49m\u001b[43mbegin\u001b[49m\u001b[43m(\u001b[49m\u001b[43m)\u001b[49m\n\u001b[1;32m   1376\u001b[0m \u001b[38;5;28;01mexcept\u001b[39;00m \u001b[38;5;167;01mConnectionError\u001b[39;00m:\n",
      "File \u001b[0;32m/usr/lib/python3.10/http/client.py:318\u001b[0m, in \u001b[0;36mHTTPResponse.begin\u001b[0;34m(self)\u001b[0m\n\u001b[1;32m    317\u001b[0m \u001b[38;5;28;01mwhile\u001b[39;00m \u001b[38;5;28;01mTrue\u001b[39;00m:\n\u001b[0;32m--> 318\u001b[0m     version, status, reason \u001b[38;5;241m=\u001b[39m \u001b[38;5;28;43mself\u001b[39;49m\u001b[38;5;241;43m.\u001b[39;49m\u001b[43m_read_status\u001b[49m\u001b[43m(\u001b[49m\u001b[43m)\u001b[49m\n\u001b[1;32m    319\u001b[0m     \u001b[38;5;28;01mif\u001b[39;00m status \u001b[38;5;241m!=\u001b[39m CONTINUE:\n",
      "File \u001b[0;32m/usr/lib/python3.10/http/client.py:279\u001b[0m, in \u001b[0;36mHTTPResponse._read_status\u001b[0;34m(self)\u001b[0m\n\u001b[1;32m    278\u001b[0m \u001b[38;5;28;01mdef\u001b[39;00m \u001b[38;5;21m_read_status\u001b[39m(\u001b[38;5;28mself\u001b[39m):\n\u001b[0;32m--> 279\u001b[0m     line \u001b[38;5;241m=\u001b[39m \u001b[38;5;28mstr\u001b[39m(\u001b[38;5;28;43mself\u001b[39;49m\u001b[38;5;241;43m.\u001b[39;49m\u001b[43mfp\u001b[49m\u001b[38;5;241;43m.\u001b[39;49m\u001b[43mreadline\u001b[49m\u001b[43m(\u001b[49m\u001b[43m_MAXLINE\u001b[49m\u001b[43m \u001b[49m\u001b[38;5;241;43m+\u001b[39;49m\u001b[43m \u001b[49m\u001b[38;5;241;43m1\u001b[39;49m\u001b[43m)\u001b[49m, \u001b[38;5;124m\"\u001b[39m\u001b[38;5;124miso-8859-1\u001b[39m\u001b[38;5;124m\"\u001b[39m)\n\u001b[1;32m    280\u001b[0m     \u001b[38;5;28;01mif\u001b[39;00m \u001b[38;5;28mlen\u001b[39m(line) \u001b[38;5;241m>\u001b[39m _MAXLINE:\n",
      "File \u001b[0;32m/usr/lib/python3.10/socket.py:705\u001b[0m, in \u001b[0;36mSocketIO.readinto\u001b[0;34m(self, b)\u001b[0m\n\u001b[1;32m    704\u001b[0m \u001b[38;5;28;01mtry\u001b[39;00m:\n\u001b[0;32m--> 705\u001b[0m     \u001b[38;5;28;01mreturn\u001b[39;00m \u001b[38;5;28;43mself\u001b[39;49m\u001b[38;5;241;43m.\u001b[39;49m\u001b[43m_sock\u001b[49m\u001b[38;5;241;43m.\u001b[39;49m\u001b[43mrecv_into\u001b[49m\u001b[43m(\u001b[49m\u001b[43mb\u001b[49m\u001b[43m)\u001b[49m\n\u001b[1;32m    706\u001b[0m \u001b[38;5;28;01mexcept\u001b[39;00m timeout:\n",
      "File \u001b[0;32m/usr/lib/python3.10/ssl.py:1303\u001b[0m, in \u001b[0;36mSSLSocket.recv_into\u001b[0;34m(self, buffer, nbytes, flags)\u001b[0m\n\u001b[1;32m   1300\u001b[0m         \u001b[38;5;28;01mraise\u001b[39;00m \u001b[38;5;167;01mValueError\u001b[39;00m(\n\u001b[1;32m   1301\u001b[0m           \u001b[38;5;124m\"\u001b[39m\u001b[38;5;124mnon-zero flags not allowed in calls to recv_into() on \u001b[39m\u001b[38;5;132;01m%s\u001b[39;00m\u001b[38;5;124m\"\u001b[39m \u001b[38;5;241m%\u001b[39m\n\u001b[1;32m   1302\u001b[0m           \u001b[38;5;28mself\u001b[39m\u001b[38;5;241m.\u001b[39m\u001b[38;5;18m__class__\u001b[39m)\n\u001b[0;32m-> 1303\u001b[0m     \u001b[38;5;28;01mreturn\u001b[39;00m \u001b[38;5;28;43mself\u001b[39;49m\u001b[38;5;241;43m.\u001b[39;49m\u001b[43mread\u001b[49m\u001b[43m(\u001b[49m\u001b[43mnbytes\u001b[49m\u001b[43m,\u001b[49m\u001b[43m \u001b[49m\u001b[43mbuffer\u001b[49m\u001b[43m)\u001b[49m\n\u001b[1;32m   1304\u001b[0m \u001b[38;5;28;01melse\u001b[39;00m:\n",
      "File \u001b[0;32m/usr/lib/python3.10/ssl.py:1159\u001b[0m, in \u001b[0;36mSSLSocket.read\u001b[0;34m(self, len, buffer)\u001b[0m\n\u001b[1;32m   1158\u001b[0m \u001b[38;5;28;01mif\u001b[39;00m buffer \u001b[38;5;129;01mis\u001b[39;00m \u001b[38;5;129;01mnot\u001b[39;00m \u001b[38;5;28;01mNone\u001b[39;00m:\n\u001b[0;32m-> 1159\u001b[0m     \u001b[38;5;28;01mreturn\u001b[39;00m \u001b[38;5;28;43mself\u001b[39;49m\u001b[38;5;241;43m.\u001b[39;49m\u001b[43m_sslobj\u001b[49m\u001b[38;5;241;43m.\u001b[39;49m\u001b[43mread\u001b[49m\u001b[43m(\u001b[49m\u001b[38;5;28;43mlen\u001b[39;49m\u001b[43m,\u001b[49m\u001b[43m \u001b[49m\u001b[43mbuffer\u001b[49m\u001b[43m)\u001b[49m\n\u001b[1;32m   1160\u001b[0m \u001b[38;5;28;01melse\u001b[39;00m:\n",
      "\u001b[0;31mTimeoutError\u001b[0m: The read operation timed out",
      "\nThe above exception was the direct cause of the following exception:\n",
      "\u001b[0;31mReadTimeoutError\u001b[0m                          Traceback (most recent call last)",
      "File \u001b[0;32m~/Documents/05Baitcon/SAP-aicore-gpu/.venv/lib/python3.10/site-packages/requests/adapters.py:486\u001b[0m, in \u001b[0;36mHTTPAdapter.send\u001b[0;34m(self, request, stream, timeout, verify, cert, proxies)\u001b[0m\n\u001b[1;32m    485\u001b[0m \u001b[38;5;28;01mtry\u001b[39;00m:\n\u001b[0;32m--> 486\u001b[0m     resp \u001b[38;5;241m=\u001b[39m \u001b[43mconn\u001b[49m\u001b[38;5;241;43m.\u001b[39;49m\u001b[43murlopen\u001b[49m\u001b[43m(\u001b[49m\n\u001b[1;32m    487\u001b[0m \u001b[43m        \u001b[49m\u001b[43mmethod\u001b[49m\u001b[38;5;241;43m=\u001b[39;49m\u001b[43mrequest\u001b[49m\u001b[38;5;241;43m.\u001b[39;49m\u001b[43mmethod\u001b[49m\u001b[43m,\u001b[49m\n\u001b[1;32m    488\u001b[0m \u001b[43m        \u001b[49m\u001b[43murl\u001b[49m\u001b[38;5;241;43m=\u001b[39;49m\u001b[43murl\u001b[49m\u001b[43m,\u001b[49m\n\u001b[1;32m    489\u001b[0m \u001b[43m        \u001b[49m\u001b[43mbody\u001b[49m\u001b[38;5;241;43m=\u001b[39;49m\u001b[43mrequest\u001b[49m\u001b[38;5;241;43m.\u001b[39;49m\u001b[43mbody\u001b[49m\u001b[43m,\u001b[49m\n\u001b[1;32m    490\u001b[0m \u001b[43m        \u001b[49m\u001b[43mheaders\u001b[49m\u001b[38;5;241;43m=\u001b[39;49m\u001b[43mrequest\u001b[49m\u001b[38;5;241;43m.\u001b[39;49m\u001b[43mheaders\u001b[49m\u001b[43m,\u001b[49m\n\u001b[1;32m    491\u001b[0m \u001b[43m        \u001b[49m\u001b[43mredirect\u001b[49m\u001b[38;5;241;43m=\u001b[39;49m\u001b[38;5;28;43;01mFalse\u001b[39;49;00m\u001b[43m,\u001b[49m\n\u001b[1;32m    492\u001b[0m \u001b[43m        \u001b[49m\u001b[43massert_same_host\u001b[49m\u001b[38;5;241;43m=\u001b[39;49m\u001b[38;5;28;43;01mFalse\u001b[39;49;00m\u001b[43m,\u001b[49m\n\u001b[1;32m    493\u001b[0m \u001b[43m        \u001b[49m\u001b[43mpreload_content\u001b[49m\u001b[38;5;241;43m=\u001b[39;49m\u001b[38;5;28;43;01mFalse\u001b[39;49;00m\u001b[43m,\u001b[49m\n\u001b[1;32m    494\u001b[0m \u001b[43m        \u001b[49m\u001b[43mdecode_content\u001b[49m\u001b[38;5;241;43m=\u001b[39;49m\u001b[38;5;28;43;01mFalse\u001b[39;49;00m\u001b[43m,\u001b[49m\n\u001b[1;32m    495\u001b[0m \u001b[43m        \u001b[49m\u001b[43mretries\u001b[49m\u001b[38;5;241;43m=\u001b[39;49m\u001b[38;5;28;43mself\u001b[39;49m\u001b[38;5;241;43m.\u001b[39;49m\u001b[43mmax_retries\u001b[49m\u001b[43m,\u001b[49m\n\u001b[1;32m    496\u001b[0m \u001b[43m        \u001b[49m\u001b[43mtimeout\u001b[49m\u001b[38;5;241;43m=\u001b[39;49m\u001b[43mtimeout\u001b[49m\u001b[43m,\u001b[49m\n\u001b[1;32m    497\u001b[0m \u001b[43m        \u001b[49m\u001b[43mchunked\u001b[49m\u001b[38;5;241;43m=\u001b[39;49m\u001b[43mchunked\u001b[49m\u001b[43m,\u001b[49m\n\u001b[1;32m    498\u001b[0m \u001b[43m    \u001b[49m\u001b[43m)\u001b[49m\n\u001b[1;32m    500\u001b[0m \u001b[38;5;28;01mexcept\u001b[39;00m (ProtocolError, \u001b[38;5;167;01mOSError\u001b[39;00m) \u001b[38;5;28;01mas\u001b[39;00m err:\n",
      "File \u001b[0;32m~/Documents/05Baitcon/SAP-aicore-gpu/.venv/lib/python3.10/site-packages/urllib3/connectionpool.py:845\u001b[0m, in \u001b[0;36mHTTPConnectionPool.urlopen\u001b[0;34m(self, method, url, body, headers, retries, redirect, assert_same_host, timeout, pool_timeout, release_conn, chunked, body_pos, preload_content, decode_content, **response_kw)\u001b[0m\n\u001b[1;32m    843\u001b[0m     new_e \u001b[38;5;241m=\u001b[39m ProtocolError(\u001b[38;5;124m\"\u001b[39m\u001b[38;5;124mConnection aborted.\u001b[39m\u001b[38;5;124m\"\u001b[39m, new_e)\n\u001b[0;32m--> 845\u001b[0m retries \u001b[38;5;241m=\u001b[39m \u001b[43mretries\u001b[49m\u001b[38;5;241;43m.\u001b[39;49m\u001b[43mincrement\u001b[49m\u001b[43m(\u001b[49m\n\u001b[1;32m    846\u001b[0m \u001b[43m    \u001b[49m\u001b[43mmethod\u001b[49m\u001b[43m,\u001b[49m\u001b[43m \u001b[49m\u001b[43murl\u001b[49m\u001b[43m,\u001b[49m\u001b[43m \u001b[49m\u001b[43merror\u001b[49m\u001b[38;5;241;43m=\u001b[39;49m\u001b[43mnew_e\u001b[49m\u001b[43m,\u001b[49m\u001b[43m \u001b[49m\u001b[43m_pool\u001b[49m\u001b[38;5;241;43m=\u001b[39;49m\u001b[38;5;28;43mself\u001b[39;49m\u001b[43m,\u001b[49m\u001b[43m \u001b[49m\u001b[43m_stacktrace\u001b[49m\u001b[38;5;241;43m=\u001b[39;49m\u001b[43msys\u001b[49m\u001b[38;5;241;43m.\u001b[39;49m\u001b[43mexc_info\u001b[49m\u001b[43m(\u001b[49m\u001b[43m)\u001b[49m\u001b[43m[\u001b[49m\u001b[38;5;241;43m2\u001b[39;49m\u001b[43m]\u001b[49m\n\u001b[1;32m    847\u001b[0m \u001b[43m\u001b[49m\u001b[43m)\u001b[49m\n\u001b[1;32m    848\u001b[0m retries\u001b[38;5;241m.\u001b[39msleep()\n",
      "File \u001b[0;32m~/Documents/05Baitcon/SAP-aicore-gpu/.venv/lib/python3.10/site-packages/urllib3/util/retry.py:470\u001b[0m, in \u001b[0;36mRetry.increment\u001b[0;34m(self, method, url, response, error, _pool, _stacktrace)\u001b[0m\n\u001b[1;32m    469\u001b[0m \u001b[38;5;28;01mif\u001b[39;00m read \u001b[38;5;129;01mis\u001b[39;00m \u001b[38;5;28;01mFalse\u001b[39;00m \u001b[38;5;129;01mor\u001b[39;00m method \u001b[38;5;129;01mis\u001b[39;00m \u001b[38;5;28;01mNone\u001b[39;00m \u001b[38;5;129;01mor\u001b[39;00m \u001b[38;5;129;01mnot\u001b[39;00m \u001b[38;5;28mself\u001b[39m\u001b[38;5;241m.\u001b[39m_is_method_retryable(method):\n\u001b[0;32m--> 470\u001b[0m     \u001b[38;5;28;01mraise\u001b[39;00m \u001b[43mreraise\u001b[49m\u001b[43m(\u001b[49m\u001b[38;5;28;43mtype\u001b[39;49m\u001b[43m(\u001b[49m\u001b[43merror\u001b[49m\u001b[43m)\u001b[49m\u001b[43m,\u001b[49m\u001b[43m \u001b[49m\u001b[43merror\u001b[49m\u001b[43m,\u001b[49m\u001b[43m \u001b[49m\u001b[43m_stacktrace\u001b[49m\u001b[43m)\u001b[49m\n\u001b[1;32m    471\u001b[0m \u001b[38;5;28;01melif\u001b[39;00m read \u001b[38;5;129;01mis\u001b[39;00m \u001b[38;5;129;01mnot\u001b[39;00m \u001b[38;5;28;01mNone\u001b[39;00m:\n",
      "File \u001b[0;32m~/Documents/05Baitcon/SAP-aicore-gpu/.venv/lib/python3.10/site-packages/urllib3/util/util.py:39\u001b[0m, in \u001b[0;36mreraise\u001b[0;34m(tp, value, tb)\u001b[0m\n\u001b[1;32m     38\u001b[0m         \u001b[38;5;28;01mraise\u001b[39;00m value\u001b[38;5;241m.\u001b[39mwith_traceback(tb)\n\u001b[0;32m---> 39\u001b[0m     \u001b[38;5;28;01mraise\u001b[39;00m value\n\u001b[1;32m     40\u001b[0m \u001b[38;5;28;01mfinally\u001b[39;00m:\n",
      "File \u001b[0;32m~/Documents/05Baitcon/SAP-aicore-gpu/.venv/lib/python3.10/site-packages/urllib3/connectionpool.py:791\u001b[0m, in \u001b[0;36mHTTPConnectionPool.urlopen\u001b[0;34m(self, method, url, body, headers, retries, redirect, assert_same_host, timeout, pool_timeout, release_conn, chunked, body_pos, preload_content, decode_content, **response_kw)\u001b[0m\n\u001b[1;32m    790\u001b[0m \u001b[38;5;66;03m# Make the request on the HTTPConnection object\u001b[39;00m\n\u001b[0;32m--> 791\u001b[0m response \u001b[38;5;241m=\u001b[39m \u001b[38;5;28;43mself\u001b[39;49m\u001b[38;5;241;43m.\u001b[39;49m\u001b[43m_make_request\u001b[49m\u001b[43m(\u001b[49m\n\u001b[1;32m    792\u001b[0m \u001b[43m    \u001b[49m\u001b[43mconn\u001b[49m\u001b[43m,\u001b[49m\n\u001b[1;32m    793\u001b[0m \u001b[43m    \u001b[49m\u001b[43mmethod\u001b[49m\u001b[43m,\u001b[49m\n\u001b[1;32m    794\u001b[0m \u001b[43m    \u001b[49m\u001b[43murl\u001b[49m\u001b[43m,\u001b[49m\n\u001b[1;32m    795\u001b[0m \u001b[43m    \u001b[49m\u001b[43mtimeout\u001b[49m\u001b[38;5;241;43m=\u001b[39;49m\u001b[43mtimeout_obj\u001b[49m\u001b[43m,\u001b[49m\n\u001b[1;32m    796\u001b[0m \u001b[43m    \u001b[49m\u001b[43mbody\u001b[49m\u001b[38;5;241;43m=\u001b[39;49m\u001b[43mbody\u001b[49m\u001b[43m,\u001b[49m\n\u001b[1;32m    797\u001b[0m \u001b[43m    \u001b[49m\u001b[43mheaders\u001b[49m\u001b[38;5;241;43m=\u001b[39;49m\u001b[43mheaders\u001b[49m\u001b[43m,\u001b[49m\n\u001b[1;32m    798\u001b[0m \u001b[43m    \u001b[49m\u001b[43mchunked\u001b[49m\u001b[38;5;241;43m=\u001b[39;49m\u001b[43mchunked\u001b[49m\u001b[43m,\u001b[49m\n\u001b[1;32m    799\u001b[0m \u001b[43m    \u001b[49m\u001b[43mretries\u001b[49m\u001b[38;5;241;43m=\u001b[39;49m\u001b[43mretries\u001b[49m\u001b[43m,\u001b[49m\n\u001b[1;32m    800\u001b[0m \u001b[43m    \u001b[49m\u001b[43mresponse_conn\u001b[49m\u001b[38;5;241;43m=\u001b[39;49m\u001b[43mresponse_conn\u001b[49m\u001b[43m,\u001b[49m\n\u001b[1;32m    801\u001b[0m \u001b[43m    \u001b[49m\u001b[43mpreload_content\u001b[49m\u001b[38;5;241;43m=\u001b[39;49m\u001b[43mpreload_content\u001b[49m\u001b[43m,\u001b[49m\n\u001b[1;32m    802\u001b[0m \u001b[43m    \u001b[49m\u001b[43mdecode_content\u001b[49m\u001b[38;5;241;43m=\u001b[39;49m\u001b[43mdecode_content\u001b[49m\u001b[43m,\u001b[49m\n\u001b[1;32m    803\u001b[0m \u001b[43m    \u001b[49m\u001b[38;5;241;43m*\u001b[39;49m\u001b[38;5;241;43m*\u001b[39;49m\u001b[43mresponse_kw\u001b[49m\u001b[43m,\u001b[49m\n\u001b[1;32m    804\u001b[0m \u001b[43m\u001b[49m\u001b[43m)\u001b[49m\n\u001b[1;32m    806\u001b[0m \u001b[38;5;66;03m# Everything went great!\u001b[39;00m\n",
      "File \u001b[0;32m~/Documents/05Baitcon/SAP-aicore-gpu/.venv/lib/python3.10/site-packages/urllib3/connectionpool.py:539\u001b[0m, in \u001b[0;36mHTTPConnectionPool._make_request\u001b[0;34m(self, conn, method, url, body, headers, retries, timeout, chunked, response_conn, preload_content, decode_content, enforce_content_length)\u001b[0m\n\u001b[1;32m    538\u001b[0m \u001b[38;5;28;01mexcept\u001b[39;00m (BaseSSLError, \u001b[38;5;167;01mOSError\u001b[39;00m) \u001b[38;5;28;01mas\u001b[39;00m e:\n\u001b[0;32m--> 539\u001b[0m     \u001b[38;5;28;43mself\u001b[39;49m\u001b[38;5;241;43m.\u001b[39;49m\u001b[43m_raise_timeout\u001b[49m\u001b[43m(\u001b[49m\u001b[43merr\u001b[49m\u001b[38;5;241;43m=\u001b[39;49m\u001b[43me\u001b[49m\u001b[43m,\u001b[49m\u001b[43m \u001b[49m\u001b[43murl\u001b[49m\u001b[38;5;241;43m=\u001b[39;49m\u001b[43murl\u001b[49m\u001b[43m,\u001b[49m\u001b[43m \u001b[49m\u001b[43mtimeout_value\u001b[49m\u001b[38;5;241;43m=\u001b[39;49m\u001b[43mread_timeout\u001b[49m\u001b[43m)\u001b[49m\n\u001b[1;32m    540\u001b[0m     \u001b[38;5;28;01mraise\u001b[39;00m\n",
      "File \u001b[0;32m~/Documents/05Baitcon/SAP-aicore-gpu/.venv/lib/python3.10/site-packages/urllib3/connectionpool.py:371\u001b[0m, in \u001b[0;36mHTTPConnectionPool._raise_timeout\u001b[0;34m(self, err, url, timeout_value)\u001b[0m\n\u001b[1;32m    370\u001b[0m \u001b[38;5;28;01mif\u001b[39;00m \u001b[38;5;28misinstance\u001b[39m(err, SocketTimeout):\n\u001b[0;32m--> 371\u001b[0m     \u001b[38;5;28;01mraise\u001b[39;00m ReadTimeoutError(\n\u001b[1;32m    372\u001b[0m         \u001b[38;5;28mself\u001b[39m, url, \u001b[38;5;124mf\u001b[39m\u001b[38;5;124m\"\u001b[39m\u001b[38;5;124mRead timed out. (read timeout=\u001b[39m\u001b[38;5;132;01m{\u001b[39;00mtimeout_value\u001b[38;5;132;01m}\u001b[39;00m\u001b[38;5;124m)\u001b[39m\u001b[38;5;124m\"\u001b[39m\n\u001b[1;32m    373\u001b[0m     ) \u001b[38;5;28;01mfrom\u001b[39;00m \u001b[38;5;21;01merr\u001b[39;00m\n\u001b[1;32m    375\u001b[0m \u001b[38;5;66;03m# See the above comment about EAGAIN in Python 3.\u001b[39;00m\n",
      "\u001b[0;31mReadTimeoutError\u001b[0m: HTTPSConnectionPool(host='api.ai.prod.us-east-1.aws.ml.hana.ondemand.com', port=443): Read timed out. (read timeout=60)",
      "\nDuring handling of the above exception, another exception occurred:\n",
      "\u001b[0;31mReadTimeout\u001b[0m                               Traceback (most recent call last)",
      "Cell \u001b[0;32mIn[23], line 6\u001b[0m\n\u001b[1;32m      2\u001b[0m deployment_id \u001b[38;5;241m=\u001b[39m deployment_id\n\u001b[1;32m      4\u001b[0m custom_endpoint \u001b[38;5;241m=\u001b[39m \u001b[38;5;124m\"\u001b[39m\u001b[38;5;124m/v1/predict\u001b[39m\u001b[38;5;124m\"\u001b[39m\n\u001b[0;32m----> 6\u001b[0m prediction \u001b[38;5;241m=\u001b[39m \u001b[43mai_core_client\u001b[49m\u001b[38;5;241;43m.\u001b[39;49m\u001b[43mrest_client\u001b[49m\u001b[38;5;241;43m.\u001b[39;49m\u001b[43mpost\u001b[49m\u001b[43m(\u001b[49m\n\u001b[1;32m      7\u001b[0m \u001b[43m    \u001b[49m\u001b[43mresource_group\u001b[49m\u001b[43m \u001b[49m\u001b[38;5;241;43m=\u001b[39;49m\u001b[43m \u001b[49m\u001b[38;5;124;43m\"\u001b[39;49m\u001b[38;5;124;43mdefault\u001b[39;49m\u001b[38;5;124;43m\"\u001b[39;49m\u001b[43m,\u001b[49m\n\u001b[1;32m      8\u001b[0m \u001b[43m    \u001b[49m\u001b[43mpath\u001b[49m\u001b[43m \u001b[49m\u001b[38;5;241;43m=\u001b[39;49m\u001b[43m \u001b[49m\u001b[38;5;124;43m\"\u001b[39;49m\u001b[38;5;124;43m/inference/deployments/\u001b[39;49m\u001b[38;5;124;43m\"\u001b[39;49m\u001b[43m \u001b[49m\u001b[38;5;241;43m+\u001b[39;49m\u001b[43m \u001b[49m\u001b[43mdeployment_id\u001b[49m\u001b[43m \u001b[49m\u001b[38;5;241;43m+\u001b[39;49m\u001b[43m \u001b[49m\u001b[43mcustom_endpoint\u001b[49m\u001b[43m,\u001b[49m\n\u001b[1;32m      9\u001b[0m \u001b[43m    \u001b[49m\u001b[43mbody\u001b[49m\u001b[43m \u001b[49m\u001b[38;5;241;43m=\u001b[39;49m\u001b[43m \u001b[49m\u001b[43m{\u001b[49m\n\u001b[1;32m     10\u001b[0m \u001b[43m        \u001b[49m\u001b[38;5;124;43m\"\u001b[39;49m\u001b[38;5;124;43mtext\u001b[39;49m\u001b[38;5;124;43m\"\u001b[39;49m\u001b[43m:\u001b[49m\u001b[43m \u001b[49m\u001b[43mquery_text\u001b[49m\n\u001b[1;32m     11\u001b[0m \u001b[43m    \u001b[49m\u001b[43m}\u001b[49m\n\u001b[1;32m     12\u001b[0m \u001b[43m)\u001b[49m\n\u001b[1;32m     14\u001b[0m \u001b[38;5;28mprint\u001b[39m(prediction)\n",
      "File \u001b[0;32m~/Documents/05Baitcon/SAP-aicore-gpu/.venv/lib/python3.10/site-packages/ai_api_client_sdk/helpers/rest_client.py:140\u001b[0m, in \u001b[0;36mRestClient.post\u001b[0;34m(self, path, body, headers, resource_group)\u001b[0m\n\u001b[1;32m    114\u001b[0m \u001b[38;5;28;01mdef\u001b[39;00m \u001b[38;5;21mpost\u001b[39m(\u001b[38;5;28mself\u001b[39m, path: \u001b[38;5;28mstr\u001b[39m, body: Dict[\u001b[38;5;28mstr\u001b[39m, Union[\u001b[38;5;28mstr\u001b[39m, \u001b[38;5;28mdict\u001b[39m]] \u001b[38;5;241m=\u001b[39m \u001b[38;5;28;01mNone\u001b[39;00m, headers: Dict[\u001b[38;5;28mstr\u001b[39m, \u001b[38;5;28mstr\u001b[39m] \u001b[38;5;241m=\u001b[39m \u001b[38;5;28;01mNone\u001b[39;00m,\n\u001b[1;32m    115\u001b[0m          resource_group: \u001b[38;5;28mstr\u001b[39m \u001b[38;5;241m=\u001b[39m \u001b[38;5;28;01mNone\u001b[39;00m) \u001b[38;5;241m-\u001b[39m\u001b[38;5;241m>\u001b[39m \u001b[38;5;28mdict\u001b[39m:\n\u001b[1;32m    116\u001b[0m \u001b[38;5;250m    \u001b[39m\u001b[38;5;124;03m\"\"\"Sends a POST request to the server.\u001b[39;00m\n\u001b[1;32m    117\u001b[0m \n\u001b[1;32m    118\u001b[0m \u001b[38;5;124;03m    :param path: path of the endpoint the request should be sent to\u001b[39;00m\n\u001b[0;32m   (...)\u001b[0m\n\u001b[1;32m    138\u001b[0m \u001b[38;5;124;03m    :rtype: dict\u001b[39;00m\n\u001b[1;32m    139\u001b[0m \u001b[38;5;124;03m    \"\"\"\u001b[39;00m\n\u001b[0;32m--> 140\u001b[0m     \u001b[38;5;28;01mreturn\u001b[39;00m \u001b[38;5;28;43mself\u001b[39;49m\u001b[38;5;241;43m.\u001b[39;49m\u001b[43m_handle_request\u001b[49m\u001b[43m(\u001b[49m\u001b[38;5;124;43m'\u001b[39;49m\u001b[38;5;124;43mpost\u001b[39;49m\u001b[38;5;124;43m'\u001b[39;49m\u001b[43m,\u001b[49m\u001b[43m \u001b[49m\u001b[43mpath\u001b[49m\u001b[38;5;241;43m=\u001b[39;49m\u001b[43mpath\u001b[49m\u001b[43m,\u001b[49m\u001b[43m \u001b[49m\u001b[43mbody_json\u001b[49m\u001b[38;5;241;43m=\u001b[39;49m\u001b[43mbody\u001b[49m\u001b[43m,\u001b[49m\u001b[43m \u001b[49m\u001b[43mheaders\u001b[49m\u001b[38;5;241;43m=\u001b[39;49m\u001b[43mheaders\u001b[49m\u001b[43m,\u001b[49m\u001b[43m \u001b[49m\u001b[43mresource_group\u001b[49m\u001b[38;5;241;43m=\u001b[39;49m\u001b[43mresource_group\u001b[49m\u001b[43m)\u001b[49m\n",
      "File \u001b[0;32m~/Documents/05Baitcon/SAP-aicore-gpu/.venv/lib/python3.10/site-packages/ai_api_client_sdk/helpers/rest_client.py:80\u001b[0m, in \u001b[0;36mRestClient._handle_request\u001b[0;34m(self, method, path, params, body_json, headers, resource_group)\u001b[0m\n\u001b[1;32m     78\u001b[0m \u001b[38;5;28;01mif\u001b[39;00m params:\n\u001b[1;32m     79\u001b[0m     params \u001b[38;5;241m=\u001b[39m humps\u001b[38;5;241m.\u001b[39mcamelize(params)\n\u001b[0;32m---> 80\u001b[0m response \u001b[38;5;241m=\u001b[39m \u001b[43mrequests_function\u001b[49m\u001b[43m(\u001b[49m\u001b[43murl\u001b[49m\u001b[38;5;241;43m=\u001b[39;49m\u001b[43murl\u001b[49m\u001b[43m,\u001b[49m\u001b[43m \u001b[49m\u001b[43mparams\u001b[49m\u001b[38;5;241;43m=\u001b[39;49m\u001b[43mparams\u001b[49m\u001b[43m,\u001b[49m\u001b[43m \u001b[49m\u001b[43mjson\u001b[49m\u001b[38;5;241;43m=\u001b[39;49m\u001b[43mbody_json\u001b[49m\u001b[43m,\u001b[49m\u001b[43m \u001b[49m\u001b[43mheaders\u001b[49m\u001b[38;5;241;43m=\u001b[39;49m\u001b[43mheaders\u001b[49m\u001b[43m,\u001b[49m\n\u001b[1;32m     81\u001b[0m \u001b[43m                             \u001b[49m\u001b[43mtimeout\u001b[49m\u001b[38;5;241;43m=\u001b[39;49m\u001b[43m(\u001b[49m\u001b[38;5;28;43mself\u001b[39;49m\u001b[38;5;241;43m.\u001b[39;49m\u001b[43mconnect_timeout\u001b[49m\u001b[43m,\u001b[49m\u001b[43m \u001b[49m\u001b[38;5;28;43mself\u001b[39;49m\u001b[38;5;241;43m.\u001b[39;49m\u001b[43mread_timeout\u001b[49m\u001b[43m)\u001b[49m\u001b[43m)\u001b[49m\n\u001b[1;32m     82\u001b[0m \u001b[38;5;28;01mif\u001b[39;00m response\u001b[38;5;241m.\u001b[39mstatus_code \u001b[38;5;241m==\u001b[39m \u001b[38;5;241m401\u001b[39m:\n\u001b[1;32m     83\u001b[0m     \u001b[38;5;28;01mraise\u001b[39;00m AIAPIAuthorizationException(description\u001b[38;5;241m=\u001b[39merror_description, error_message\u001b[38;5;241m=\u001b[39mresponse\u001b[38;5;241m.\u001b[39mtext)\n",
      "File \u001b[0;32m~/Documents/05Baitcon/SAP-aicore-gpu/.venv/lib/python3.10/site-packages/requests/sessions.py:637\u001b[0m, in \u001b[0;36mSession.post\u001b[0;34m(self, url, data, json, **kwargs)\u001b[0m\n\u001b[1;32m    626\u001b[0m \u001b[38;5;28;01mdef\u001b[39;00m \u001b[38;5;21mpost\u001b[39m(\u001b[38;5;28mself\u001b[39m, url, data\u001b[38;5;241m=\u001b[39m\u001b[38;5;28;01mNone\u001b[39;00m, json\u001b[38;5;241m=\u001b[39m\u001b[38;5;28;01mNone\u001b[39;00m, \u001b[38;5;241m*\u001b[39m\u001b[38;5;241m*\u001b[39mkwargs):\n\u001b[1;32m    627\u001b[0m \u001b[38;5;250m    \u001b[39m\u001b[38;5;124mr\u001b[39m\u001b[38;5;124;03m\"\"\"Sends a POST request. Returns :class:`Response` object.\u001b[39;00m\n\u001b[1;32m    628\u001b[0m \n\u001b[1;32m    629\u001b[0m \u001b[38;5;124;03m    :param url: URL for the new :class:`Request` object.\u001b[39;00m\n\u001b[0;32m   (...)\u001b[0m\n\u001b[1;32m    634\u001b[0m \u001b[38;5;124;03m    :rtype: requests.Response\u001b[39;00m\n\u001b[1;32m    635\u001b[0m \u001b[38;5;124;03m    \"\"\"\u001b[39;00m\n\u001b[0;32m--> 637\u001b[0m     \u001b[38;5;28;01mreturn\u001b[39;00m \u001b[38;5;28;43mself\u001b[39;49m\u001b[38;5;241;43m.\u001b[39;49m\u001b[43mrequest\u001b[49m\u001b[43m(\u001b[49m\u001b[38;5;124;43m\"\u001b[39;49m\u001b[38;5;124;43mPOST\u001b[39;49m\u001b[38;5;124;43m\"\u001b[39;49m\u001b[43m,\u001b[49m\u001b[43m \u001b[49m\u001b[43murl\u001b[49m\u001b[43m,\u001b[49m\u001b[43m \u001b[49m\u001b[43mdata\u001b[49m\u001b[38;5;241;43m=\u001b[39;49m\u001b[43mdata\u001b[49m\u001b[43m,\u001b[49m\u001b[43m \u001b[49m\u001b[43mjson\u001b[49m\u001b[38;5;241;43m=\u001b[39;49m\u001b[43mjson\u001b[49m\u001b[43m,\u001b[49m\u001b[43m \u001b[49m\u001b[38;5;241;43m*\u001b[39;49m\u001b[38;5;241;43m*\u001b[39;49m\u001b[43mkwargs\u001b[49m\u001b[43m)\u001b[49m\n",
      "File \u001b[0;32m~/Documents/05Baitcon/SAP-aicore-gpu/.venv/lib/python3.10/site-packages/requests/sessions.py:589\u001b[0m, in \u001b[0;36mSession.request\u001b[0;34m(self, method, url, params, data, headers, cookies, files, auth, timeout, allow_redirects, proxies, hooks, stream, verify, cert, json)\u001b[0m\n\u001b[1;32m    584\u001b[0m send_kwargs \u001b[38;5;241m=\u001b[39m {\n\u001b[1;32m    585\u001b[0m     \u001b[38;5;124m\"\u001b[39m\u001b[38;5;124mtimeout\u001b[39m\u001b[38;5;124m\"\u001b[39m: timeout,\n\u001b[1;32m    586\u001b[0m     \u001b[38;5;124m\"\u001b[39m\u001b[38;5;124mallow_redirects\u001b[39m\u001b[38;5;124m\"\u001b[39m: allow_redirects,\n\u001b[1;32m    587\u001b[0m }\n\u001b[1;32m    588\u001b[0m send_kwargs\u001b[38;5;241m.\u001b[39mupdate(settings)\n\u001b[0;32m--> 589\u001b[0m resp \u001b[38;5;241m=\u001b[39m \u001b[38;5;28;43mself\u001b[39;49m\u001b[38;5;241;43m.\u001b[39;49m\u001b[43msend\u001b[49m\u001b[43m(\u001b[49m\u001b[43mprep\u001b[49m\u001b[43m,\u001b[49m\u001b[43m \u001b[49m\u001b[38;5;241;43m*\u001b[39;49m\u001b[38;5;241;43m*\u001b[39;49m\u001b[43msend_kwargs\u001b[49m\u001b[43m)\u001b[49m\n\u001b[1;32m    591\u001b[0m \u001b[38;5;28;01mreturn\u001b[39;00m resp\n",
      "File \u001b[0;32m~/Documents/05Baitcon/SAP-aicore-gpu/.venv/lib/python3.10/site-packages/requests/sessions.py:703\u001b[0m, in \u001b[0;36mSession.send\u001b[0;34m(self, request, **kwargs)\u001b[0m\n\u001b[1;32m    700\u001b[0m start \u001b[38;5;241m=\u001b[39m preferred_clock()\n\u001b[1;32m    702\u001b[0m \u001b[38;5;66;03m# Send the request\u001b[39;00m\n\u001b[0;32m--> 703\u001b[0m r \u001b[38;5;241m=\u001b[39m \u001b[43madapter\u001b[49m\u001b[38;5;241;43m.\u001b[39;49m\u001b[43msend\u001b[49m\u001b[43m(\u001b[49m\u001b[43mrequest\u001b[49m\u001b[43m,\u001b[49m\u001b[43m \u001b[49m\u001b[38;5;241;43m*\u001b[39;49m\u001b[38;5;241;43m*\u001b[39;49m\u001b[43mkwargs\u001b[49m\u001b[43m)\u001b[49m\n\u001b[1;32m    705\u001b[0m \u001b[38;5;66;03m# Total elapsed time of the request (approximately)\u001b[39;00m\n\u001b[1;32m    706\u001b[0m elapsed \u001b[38;5;241m=\u001b[39m preferred_clock() \u001b[38;5;241m-\u001b[39m start\n",
      "File \u001b[0;32m~/Documents/05Baitcon/SAP-aicore-gpu/.venv/lib/python3.10/site-packages/requests/adapters.py:532\u001b[0m, in \u001b[0;36mHTTPAdapter.send\u001b[0;34m(self, request, stream, timeout, verify, cert, proxies)\u001b[0m\n\u001b[1;32m    530\u001b[0m     \u001b[38;5;28;01mraise\u001b[39;00m SSLError(e, request\u001b[38;5;241m=\u001b[39mrequest)\n\u001b[1;32m    531\u001b[0m \u001b[38;5;28;01melif\u001b[39;00m \u001b[38;5;28misinstance\u001b[39m(e, ReadTimeoutError):\n\u001b[0;32m--> 532\u001b[0m     \u001b[38;5;28;01mraise\u001b[39;00m ReadTimeout(e, request\u001b[38;5;241m=\u001b[39mrequest)\n\u001b[1;32m    533\u001b[0m \u001b[38;5;28;01melif\u001b[39;00m \u001b[38;5;28misinstance\u001b[39m(e, _InvalidHeader):\n\u001b[1;32m    534\u001b[0m     \u001b[38;5;28;01mraise\u001b[39;00m InvalidHeader(e, request\u001b[38;5;241m=\u001b[39mrequest)\n",
      "\u001b[0;31mReadTimeout\u001b[0m: HTTPSConnectionPool(host='api.ai.prod.us-east-1.aws.ml.hana.ondemand.com', port=443): Read timed out. (read timeout=60)"
     ]
    }
   ],
   "source": [
    "query_text = \"The story after the interval had predictable twist-turns.\"\n",
    "deployment_id = deployment_id\n",
    "\n",
    "custom_endpoint = \"/v1/predict\"\n",
    "\n",
    "prediction = ai_core_client.rest_client.post(\n",
    "    resource_group = \"default\",\n",
    "    path = \"/inference/deployments/\" + deployment_id + custom_endpoint,\n",
    "    body = {\n",
    "        \"text\": query_text\n",
    "    }\n",
    ")\n",
    "\n",
    "print(prediction)"
   ]
  },
  {
   "cell_type": "markdown",
   "id": "28d8e604",
   "metadata": {},
   "source": [
    "## Server updates\n",
    "If there are changes needed on the server\n",
    "\n",
    "\n",
    "1. Create and push a new docker image\n",
    "```\n",
    "cd server\n",
    "sudo docker login docker.io\n",
    "sudo docker build -t docker.io/gsalomone/movie-review-clf-serve:<new_version> .\n",
    "sudo docker push docker.io/gsalomone/movie-review-clf-serve:<new_version>\n",
    "```\n",
    "\n",
    "2. Change version in yaml file\n",
    "```\n",
    "image: \"docker.io/gsalomone/movie-review-clf-serve:<new_version>\"\n",
    "```\n",
    "\n",
    "3. Push yaml file to branch main in repo\n",
    "```\n",
    "git commit -am \"Updated version in yaml file to <new_version>\" && git push\n",
    "```\n",
    "\n",
    "4. Rerun from `Create configuration`"
   ]
  }
 ],
 "metadata": {
  "kernelspec": {
   "display_name": "Python 3 (ipykernel)",
   "language": "python",
   "name": "python3"
  },
  "language_info": {
   "codemirror_mode": {
    "name": "ipython",
    "version": 3
   },
   "file_extension": ".py",
   "mimetype": "text/x-python",
   "name": "python",
   "nbconvert_exporter": "python",
   "pygments_lexer": "ipython3",
   "version": "3.10.12"
  }
 },
 "nbformat": 4,
 "nbformat_minor": 5
}
