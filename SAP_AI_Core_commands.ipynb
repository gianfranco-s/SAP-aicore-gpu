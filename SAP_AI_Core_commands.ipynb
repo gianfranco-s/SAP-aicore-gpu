{
 "cells": [
  {
   "cell_type": "code",
   "execution_count": 1,
   "id": "9e67bf95-d4c7-400b-b271-ed502c4372a1",
   "metadata": {},
   "outputs": [],
   "source": [
    "import json\n",
    "import os\n",
    "\n",
    "from ai_core_sdk.ai_core_v2_client import AICoreV2Client\n",
    "\n",
    "\n",
    "credentials_file = 'default_aicore.json'\n",
    "\n",
    "def get_conn_details(path_to_credentials: str = credentials_file) -> dict:\n",
    "    with open(path_to_credentials, 'r') as f:\n",
    "        credentials = json.load(f)\n",
    "\n",
    "    return {\n",
    "        'base_url': credentials.get('serviceurls').get('AI_API_URL') + '/v2',\n",
    "        'auth_url': credentials.get('url') + \"/oauth/token\",\n",
    "        'client_id': credentials.get('clientid'),\n",
    "        'client_secret': credentials.get('clientsecret'),\n",
    "    }\n",
    "\n",
    "\n",
    "def get_ai_core_client(path_to_credentials: str = credentials_file) -> AICoreV2Client:\n",
    "    conn_details = get_conn_details(path_to_credentials)\n",
    "    return AICoreV2Client(**conn_details)\n"
   ]
  },
  {
   "cell_type": "code",
   "execution_count": 2,
   "id": "0dc7348b-5603-49e3-911c-eabea1617540",
   "metadata": {},
   "outputs": [],
   "source": [
    "ai_core_client = get_ai_core_client()"
   ]
  },
  {
   "cell_type": "code",
   "execution_count": null,
   "id": "ef95d95a-d6b4-445a-b708-d30a670bcfaa",
   "metadata": {},
   "outputs": [],
   "source": [
    "# response = ai_core_client.resource_groups.create(\"tf-demo\")\n",
    "# Using default resource group because \"Resource Group cannot be created for free tier tenant\""
   ]
  },
  {
   "cell_type": "code",
   "execution_count": 3,
   "id": "b7fff6d7-94ff-416c-a781-e45d31a05e1d",
   "metadata": {},
   "outputs": [
    {
     "name": "stdout",
     "output_type": "stream",
     "text": [
      "default\n"
     ]
    }
   ],
   "source": [
    "response = ai_core_client.resource_groups.query()\n",
    "\n",
    "for rg in response.resources:\n",
    "    print(rg.resource_group_id)"
   ]
  },
  {
   "cell_type": "markdown",
   "id": "a90aef5d-58f4-4a61-801d-6f46b6ba13d3",
   "metadata": {},
   "source": [
    "Create bucket\n",
    "```\n",
    "aws s3api create-bucket --bucket gsalomone-celestial-bucket --region us-east-1\n",
    "```\n",
    "\n",
    "Upload files\n",
    "```\n",
    "cd tf_files\n",
    "aws s3 cp model.h5 s3://gsalomone-celestial-bucket/movie-clf/model/  \n",
    "aws s3 cp max_pad_len.txt s3://gsalomone-celestial-bucket/movie-clf/model/  \n",
    "aws s3 cp label_encoded_classes.npy s3://gsalomone-celestial-bucket/movie-clf/model/  \n",
    "aws s3 cp tokens.json s3://gsalomone-celestial-bucket/movie-clf/model/  \n",
    "```\n",
    "\n",
    "Check files\n",
    "```\n",
    "aws s3 ls s3://gsalomone-celestial-bucket/movie-clf/model/\n",
    "```"
   ]
  },
  {
   "cell_type": "code",
   "execution_count": 8,
   "id": "6c93e76a-a7d8-4896-a0e9-a81caea935de",
   "metadata": {},
   "outputs": [],
   "source": [
    "aws_credentials_file = '/home/gsalomone/Documents/gian-dev_accessKeys.csv'\n",
    "\n",
    "def get_aws_credentials(filepath: str) -> tuple:\n",
    "    with open(filepath, 'r') as f:\n",
    "        creds = f.readlines()[1:2][0]\n",
    "        aws_access_key_id, aws_secret_access_key = creds.split(',')\n",
    "        return aws_access_key_id, aws_secret_access_key\n",
    "\n",
    "aws_access_key_id, aws_secret_access_key = get_aws_credentials(aws_credentials_file)\n",
    "aws_az = 'us-east-1'\n",
    "object_store_name = 'gsalomone-tf-gpu-secret'"
   ]
  },
  {
   "cell_type": "code",
   "execution_count": null,
   "id": "020e1e4a-7b98-4a1b-91f6-f22df8462577",
   "metadata": {},
   "outputs": [],
   "source": [
    "# Create object store secret\n",
    "response = ai_core_client.object_store_secrets.create(\n",
    "    resource_group = 'default',\n",
    "    type = \"S3\",\n",
    "    name = object_store_name,\n",
    "    path_prefix = \"movie-clf\",\n",
    "    endpoint = f\"s3-{aws_az}.amazonaws.com\",\n",
    "    bucket = \"gsalomone-celestial-bucket\",\n",
    "    region = aws_az,\n",
    "    data = {\n",
    "        \"AWS_ACCESS_KEY_ID\": aws_access_key_id,\n",
    "        \"AWS_SECRET_ACCESS_KEY\": aws_secret_access_key\n",
    "    }\n",
    ")\n",
    "\n",
    "print(response.__dict__)"
   ]
  },
  {
   "cell_type": "code",
   "execution_count": 11,
   "id": "91f2357c-d495-4dd7-9654-860a0e188f93",
   "metadata": {},
   "outputs": [],
   "source": [
    "github_token_file = 'github.token'\n",
    "\n",
    "def get_github_token(filepath: str) -> str:\n",
    "    with open(filepath, 'r') as f:\n",
    "        return f.readline().split('=')[1]\n",
    "\n",
    "GITHUB_TOKEN = get_github_token(github_token_file)"
   ]
  },
  {
   "cell_type": "code",
   "execution_count": 23,
   "id": "8c73a773-fdcd-40d0-9321-8cb1bac0f12f",
   "metadata": {},
   "outputs": [
    {
     "name": "stdout",
     "output_type": "stream",
     "text": [
      "Message: Repository has been on-boarded.\n"
     ]
    }
   ],
   "source": [
    "# Onboard a repository\n",
    "github_repo_url = 'https://github.com/gianfranco-s/SAP-aicore-gpu'\n",
    "github_account_usr = 'gsalomone'\n",
    "project_name = 'sap-gpu-gsalomone'\n",
    "\n",
    "res = ai_core_client.repositories.create(\n",
    "        name=project_name,\n",
    "        url=github_repo_url,\n",
    "        username=github_account_usr,\n",
    "        password=GITHUB_TOKEN\n",
    ")\n",
    "\n",
    "print(res)"
   ]
  },
  {
   "cell_type": "code",
   "execution_count": 26,
   "id": "80064c3a-b1e0-4b60-b872-55775fc255c4",
   "metadata": {},
   "outputs": [
    {
     "name": "stdout",
     "output_type": "stream",
     "text": [
      "{'id': 'gsalomone-tf-app', 'message': 'Application has been successfully created.'}\n"
     ]
    }
   ],
   "source": [
    "# Create application\n",
    "application_name = 'gsalomone-tf-app'\n",
    "response = ai_core_client.applications.create(\n",
    "    application_name = application_name,\n",
    "    revision = \"HEAD\",\n",
    "    repository_url = github_repo_url,\n",
    "    path = \"tutorial-tf-text-clf\"\n",
    ")\n",
    "\n",
    "print(response.__dict__)"
   ]
  },
  {
   "cell_type": "code",
   "execution_count": 30,
   "id": "86f9ae74-3fd3-4b60-9c71-8c5bdb9a593e",
   "metadata": {},
   "outputs": [
    {
     "name": "stdout",
     "output_type": "stream",
     "text": [
      "successfully synced (all tasks run)\n",
      "{'name': 'tf-text-clf-serve', 'kind': 'ServingTemplate', 'status': 'Synced', 'message': 'servingtemplate.ai.sap.com/tf-text-clf-serve created'}\n"
     ]
    }
   ],
   "source": [
    "response = ai_core_client.applications.get_status(application_name=application_name)\n",
    "\n",
    "print(response.message)\n",
    "for workflow_sync_status in response.sync_ressources_status:\n",
    "    print(workflow_sync_status.__dict__)"
   ]
  },
  {
   "cell_type": "code",
   "execution_count": 31,
   "id": "fa471467-0b57-441b-85ae-606ce7b65590",
   "metadata": {},
   "outputs": [
    {
     "name": "stdout",
     "output_type": "stream",
     "text": [
      "{'id': 'fb12ac38-03b0-4e6b-b0e0-3f305fe5adc4', 'message': 'Artifact acknowledged', 'url': 'ai://gsalomone-tf-gpu-secret/model'}\n"
     ]
    }
   ],
   "source": [
    "# Register model as artifact\n",
    "from ai_core_sdk.models import Artifact\n",
    "\n",
    "response = ai_core_client.artifact.create(\n",
    "    resource_group = 'default',\n",
    "    name = \"tf-txt-clf-model\",\n",
    "    kind = Artifact.Kind.MODEL,\n",
    "    url = f\"ai://{object_store_name}/model\",\n",
    "    scenario_id = \"tf-text-clf\",  # same as under `scenarios.ai.sap.com/id`\n",
    "    description = \"Review Classification Model\"\n",
    ")\n",
    "\n",
    "print(response.__dict__)"
   ]
  },
  {
   "cell_type": "code",
   "execution_count": 32,
   "id": "ee1d2184-ab79-432d-a287-a1abc0186ce5",
   "metadata": {},
   "outputs": [
    {
     "data": {
      "text/plain": [
       "'fb12ac38-03b0-4e6b-b0e0-3f305fe5adc4'"
      ]
     },
     "execution_count": 32,
     "metadata": {},
     "output_type": "execute_result"
    }
   ],
   "source": [
    "artifact_id = response.__dict__.get('id')\n",
    "artifact_id"
   ]
  },
  {
   "cell_type": "code",
   "execution_count": 34,
   "id": "5a37bf0d-1677-47cb-8a08-a680d3e73b61",
   "metadata": {},
   "outputs": [
    {
     "name": "stdout",
     "output_type": "stream",
     "text": [
      "{'id': '9ba56439-644b-40ac-b51e-080d4c4de918', 'message': 'Configuration created'}\n"
     ]
    }
   ],
   "source": [
    "# Start deployment\n",
    "\n",
    "# Create configuration\n",
    "from ai_core_sdk.models import InputArtifactBinding\n",
    "\n",
    "response = ai_core_client.configuration.create(\n",
    "    name = \"gsalomone-tf-gpu-conf\",\n",
    "    resource_group = \"default\",\n",
    "    scenario_id = \"tf-text-clf\",\n",
    "    executable_id = \"tf-text-clf-serve\",\n",
    "    input_artifact_bindings = [\n",
    "        # list\n",
    "        InputArtifactBinding(key=\"modelArtifact\", artifact_id = artifact_id), # Change artifact id\n",
    "    ]\n",
    ")\n",
    "\n",
    "print(response.__dict__)"
   ]
  },
  {
   "cell_type": "code",
   "execution_count": 35,
   "id": "0859abdf-cc1e-4070-9448-2b93fcbf1725",
   "metadata": {},
   "outputs": [
    {
     "data": {
      "text/plain": [
       "'9ba56439-644b-40ac-b51e-080d4c4de918'"
      ]
     },
     "execution_count": 35,
     "metadata": {},
     "output_type": "execute_result"
    }
   ],
   "source": [
    "config_id = response.__dict__.get('id')\n",
    "config_id"
   ]
  },
  {
   "cell_type": "code",
   "execution_count": 36,
   "id": "c716d6d9-8114-4390-8233-7feb055c6268",
   "metadata": {},
   "outputs": [
    {
     "name": "stdout",
     "output_type": "stream",
     "text": [
      "{'id': 'd4228aeacadefeb7', 'message': 'Deployment scheduled.', 'deployment_url': '', 'status': <Status.UNKNOWN: 'UNKNOWN'>, 'ttl': None}\n"
     ]
    }
   ],
   "source": [
    "# Create deployment\n",
    "response = ai_core_client.deployment.create(\n",
    "    resource_group = \"default\",\n",
    "    configuration_id = config_id # change this\n",
    ")\n",
    "print(response.__dict__)"
   ]
  },
  {
   "cell_type": "code",
   "execution_count": 37,
   "id": "0563f9e0-e83b-4da9-bdc2-1e7fe6413076",
   "metadata": {},
   "outputs": [
    {
     "data": {
      "text/plain": [
       "'d4228aeacadefeb7'"
      ]
     },
     "execution_count": 37,
     "metadata": {},
     "output_type": "execute_result"
    }
   ],
   "source": [
    "deployment_id = response.__dict__.get('id')\n",
    "deployment_id"
   ]
  },
  {
   "cell_type": "code",
   "execution_count": 38,
   "id": "ecc2bbc8-3712-462e-b3a6-171d9e712100",
   "metadata": {},
   "outputs": [
    {
     "name": "stdout",
     "output_type": "stream",
     "text": [
      "Status:  Status.UNKNOWN\n",
      "********************************************************************************\n",
      "{'id': 'd4228aeacadefeb7', 'configuration_id': '9ba56439-644b-40ac-b51e-080d4c4de918', 'configuration_name': 'gsalomone-tf-gpu-conf', 'scenario_id': 'tf-text-clf', 'status': <Status.UNKNOWN: 'UNKNOWN'>, 'target_status': <TargetStatus.RUNNING: 'RUNNING'>, 'created_at': datetime.datetime(2024, 2, 13, 22, 3, 42, tzinfo=datetime.timezone.utc), 'modified_at': datetime.datetime(2024, 2, 13, 22, 4, 17, tzinfo=datetime.timezone.utc), 'status_message': None, 'status_details': {'ai_api_details': {'status_updater': {'message': [{'code': '05010016', 'message': 'Deployment id d4228aeacadefeb7 not found'}]}}}, 'submission_time': datetime.datetime(2024, 2, 13, 22, 4, 22, tzinfo=datetime.timezone.utc), 'start_time': None, 'completion_time': None, 'deployment_url': '', 'last_operation': None, 'latest_running_configuration_id': None, 'details': None, 'ttl': None}\n"
     ]
    }
   ],
   "source": [
    "# Check deployment status\n",
    "response = ai_core_client.deployment.get(\n",
    "    resource_group = \"default\",\n",
    "    deployment_id = deployment_id # Change this\n",
    ")\n",
    "\n",
    "print(\"Status: \", response.status)\n",
    "print('*'*80)\n",
    "print(response.__dict__)"
   ]
  },
  {
   "cell_type": "code",
   "execution_count": 48,
   "id": "9facb831-7444-42b0-87ef-68b505a19f39",
   "metadata": {},
   "outputs": [
    {
     "name": "stdout",
     "output_type": "stream",
     "text": [
      "Status:  Status.UNKNOWN\n",
      "********************************************************************************\n",
      "{'completion_time': None,\n",
      " 'configuration_id': '9ba56439-644b-40ac-b51e-080d4c4de918',\n",
      " 'configuration_name': 'gsalomone-tf-gpu-conf',\n",
      " 'created_at': datetime.datetime(2024, 2, 13, 22, 3, 42, tzinfo=datetime.timezone.utc),\n",
      " 'deployment_url': '',\n",
      " 'details': None,\n",
      " 'id': 'd4228aeacadefeb7',\n",
      " 'last_operation': None,\n",
      " 'latest_running_configuration_id': None,\n",
      " 'modified_at': datetime.datetime(2024, 2, 13, 22, 4, 17, tzinfo=datetime.timezone.utc),\n",
      " 'scenario_id': 'tf-text-clf',\n",
      " 'start_time': None,\n",
      " 'status': <Status.UNKNOWN: 'UNKNOWN'>,\n",
      " 'status_details': {'ai_api_details': {'status_updater': {'message': [{'code': '05010016',\n",
      "                                                                       'message': 'Deployment '\n",
      "                                                                                  'id '\n",
      "                                                                                  'd4228aeacadefeb7 '\n",
      "                                                                                  'not '\n",
      "                                                                                  'found'}]}}},\n",
      " 'status_message': None,\n",
      " 'submission_time': datetime.datetime(2024, 2, 13, 22, 12, 52, tzinfo=datetime.timezone.utc),\n",
      " 'target_status': <TargetStatus.RUNNING: 'RUNNING'>,\n",
      " 'ttl': None}\n"
     ]
    }
   ],
   "source": [
    "# SECOND TIME: check deployment status\n",
    "response = ai_core_client.deployment.get(\n",
    "    resource_group = \"default\",\n",
    "    deployment_id = deployment_id # Change this\n",
    ")\n",
    "\n",
    "print(\"Status: \", response.status)\n",
    "print('*'*80)\n",
    "from pprint import pprint\n",
    "pprint(response.__dict__)"
   ]
  },
  {
   "cell_type": "code",
   "execution_count": null,
   "id": "76670765-6d38-4a7b-87b9-38b60e187115",
   "metadata": {},
   "outputs": [],
   "source": []
  }
 ],
 "metadata": {
  "kernelspec": {
   "display_name": "Python 3 (ipykernel)",
   "language": "python",
   "name": "python3"
  },
  "language_info": {
   "codemirror_mode": {
    "name": "ipython",
    "version": 3
   },
   "file_extension": ".py",
   "mimetype": "text/x-python",
   "name": "python",
   "nbconvert_exporter": "python",
   "pygments_lexer": "ipython3",
   "version": "3.10.12"
  }
 },
 "nbformat": 4,
 "nbformat_minor": 5
}
