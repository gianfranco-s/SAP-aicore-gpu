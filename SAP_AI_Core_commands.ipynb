{
 "cells": [
  {
   "cell_type": "code",
   "execution_count": 1,
   "id": "9e67bf95-d4c7-400b-b271-ed502c4372a1",
   "metadata": {},
   "outputs": [],
   "source": [
    "from ai_core_sdk.ai_core_v2_client import AICoreV2Client\n",
    "\n",
    "from sapaicore_utils import get_conn_details, onboard_repository, show_repositories, GITHUB_TOKEN, GITHUB_USER, DOCKER_TOKEN, DOCKER_USER"
   ]
  },
  {
   "cell_type": "code",
   "execution_count": 2,
   "id": "0dc7348b-5603-49e3-911c-eabea1617540",
   "metadata": {},
   "outputs": [],
   "source": [
    "conn_details = get_conn_details()\n",
    "ai_core_client = AICoreV2Client(**conn_details)"
   ]
  },
  {
   "cell_type": "markdown",
   "id": "472bcbee",
   "metadata": {},
   "source": [
    "## Step 0. Onboard a repository and Docker account"
   ]
  },
  {
   "cell_type": "markdown",
   "id": "8905b611",
   "metadata": {},
   "source": [
    "### GitHub repository\n",
    "We'll need a GitHub username and token"
   ]
  },
  {
   "cell_type": "code",
   "execution_count": null,
   "id": "d0bf811b",
   "metadata": {},
   "outputs": [],
   "source": [
    "PROJECT_NAME = 'gsalomone-tf-gpu'\n",
    "onboard_repository('https://github.com/gianfranco-s/SAP-aicore-gpu',\n",
    "                    GITHUB_USER,\n",
    "                    GITHUB_TOKEN,\n",
    "                    PROJECT_NAME,\n",
    "                    ai_core_client)"
   ]
  },
  {
   "cell_type": "code",
   "execution_count": 3,
   "id": "f041f19e",
   "metadata": {},
   "outputs": [
    {
     "name": "stdout",
     "output_type": "stream",
     "text": [
      "Name: sap-training-ncellini\n",
      "URL: https://github.com/NCellini/aicore-pipelines\n",
      "Status: RepositoryStatus.COMPLETED\n",
      "\n",
      "Name: gsalomone-tf-gpu\n",
      "URL: https://github.com/gianfranco-s/SAP-aicore-gpu\n",
      "Status: RepositoryStatus.COMPLETED\n",
      "\n"
     ]
    }
   ],
   "source": [
    "show_repositories(ai_core_client)"
   ]
  },
  {
   "cell_type": "markdown",
   "id": "7c9eb0ea",
   "metadata": {},
   "source": [
    "### Docker account\n"
   ]
  },
  {
   "cell_type": "code",
   "execution_count": null,
   "id": "50ce0742",
   "metadata": {},
   "outputs": [],
   "source": []
  },
  {
   "cell_type": "code",
   "execution_count": null,
   "id": "90c6e6f4",
   "metadata": {},
   "outputs": [],
   "source": [
    "res.__dict__"
   ]
  },
  {
   "cell_type": "markdown",
   "id": "a03fec94",
   "metadata": {},
   "source": [
    "## Step 1. Create workspace\n",
    "Using default resource group because when I tried to create `tf-demo`, I got the message \"Resource Group cannot be created for free tier tenant\""
   ]
  },
  {
   "cell_type": "code",
   "execution_count": null,
   "id": "ef95d95a-d6b4-445a-b708-d30a670bcfaa",
   "metadata": {},
   "outputs": [],
   "source": [
    "try:\n",
    "    response = ai_core_client.resource_groups.create(\"tf-demo\")\n",
    "\n",
    "except Exception as e:\n",
    "    print(e)\n"
   ]
  },
  {
   "cell_type": "code",
   "execution_count": null,
   "id": "b7fff6d7-94ff-416c-a781-e45d31a05e1d",
   "metadata": {},
   "outputs": [],
   "source": [
    "def show_resource_groups() -> None:\n",
    "    response = ai_core_client.resource_groups.query()\n",
    "\n",
    "    for rg in response.resources:\n",
    "        print(rg.resource_group_id)\n",
    "\n",
    "show_resource_groups()"
   ]
  },
  {
   "cell_type": "markdown",
   "id": "a90aef5d-58f4-4a61-801d-6f46b6ba13d3",
   "metadata": {},
   "source": [
    "## Step 2: upload model files to AWS S3\n",
    "Create bucket\n",
    "```\n",
    "aws s3api create-bucket --bucket gsalomone-celestial-bucket --region us-east-1\n",
    "```\n",
    "\n",
    "Upload files\n",
    "```\n",
    "cd tf_files\n",
    "aws s3 cp model.h5 s3://gsalomone-celestial-bucket/movie-clf/model/  \n",
    "aws s3 cp max_pad_len.txt s3://gsalomone-celestial-bucket/movie-clf/model/  \n",
    "aws s3 cp label_encoded_classes.npy s3://gsalomone-celestial-bucket/movie-clf/model/  \n",
    "aws s3 cp tokens.json s3://gsalomone-celestial-bucket/movie-clf/model/  \n",
    "```\n",
    "\n",
    "Check files\n",
    "```\n",
    "aws s3 ls s3://gsalomone-celestial-bucket/movie-clf/model/\n",
    "```"
   ]
  },
  {
   "cell_type": "markdown",
   "id": "1b94cf5e",
   "metadata": {},
   "source": [
    "## Step 3: connect AWS S3 to SAP AI Core\n"
   ]
  },
  {
   "cell_type": "code",
   "execution_count": null,
   "id": "6c93e76a-a7d8-4896-a0e9-a81caea935de",
   "metadata": {},
   "outputs": [],
   "source": [
    "aws_credentials_file = '/home/gsalomone/Documents/gian-dev_accessKeys.csv'\n",
    "\n",
    "def get_aws_credentials(filepath: str) -> tuple:\n",
    "    with open(filepath, 'r') as f:\n",
    "        creds = f.readlines()[1:2][0]\n",
    "        aws_access_key_id, aws_secret_access_key = creds.split(',')\n",
    "        return aws_access_key_id, aws_secret_access_key\n",
    "\n",
    "aws_access_key_id, aws_secret_access_key = get_aws_credentials(aws_credentials_file)\n",
    "aws_az = 'us-east-1'\n",
    "object_store_name = 'gs-tf-gpu-tutorial-secret'"
   ]
  },
  {
   "cell_type": "code",
   "execution_count": null,
   "id": "020e1e4a-7b98-4a1b-91f6-f22df8462577",
   "metadata": {},
   "outputs": [],
   "source": [
    "\n",
    "def create_s3_object_store() -> str:\n",
    "    response = ai_core_client.object_store_secrets.create(\n",
    "        resource_group = 'default',\n",
    "        type = \"S3\",\n",
    "        name = object_store_name,\n",
    "        path_prefix = \"movie-clf\",\n",
    "        endpoint = f\"s3-{aws_az}.amazonaws.com\",\n",
    "        bucket = \"gsalomone-celestial-bucket\",\n",
    "        region = aws_az,\n",
    "        data = {\n",
    "            \"AWS_ACCESS_KEY_ID\": aws_access_key_id,\n",
    "            \"AWS_SECRET_ACCESS_KEY\": aws_secret_access_key\n",
    "        }\n",
    "    )\n",
    "\n",
    "    return response.message\n",
    "\n",
    "res = create_s3_object_store()\n",
    "res"
   ]
  },
  {
   "cell_type": "code",
   "execution_count": null,
   "id": "91f2357c-d495-4dd7-9654-860a0e188f93",
   "metadata": {},
   "outputs": [],
   "source": [
    "github_token_file = 'github.token'\n",
    "\n",
    "def get_github_token(filepath: str) -> str:\n",
    "    with open(filepath, 'r') as f:\n",
    "        return f.readline().split('=')[1]\n",
    "\n",
    "github_token = get_github_token(github_token_file)"
   ]
  },
  {
   "cell_type": "code",
   "execution_count": null,
   "id": "8c73a773-fdcd-40d0-9321-8cb1bac0f12f",
   "metadata": {},
   "outputs": [],
   "source": [
    "# Onboard a repository\n",
    "github_repo_url = 'https://github.com/gianfranco-s/SAP-aicore-gpu'\n",
    "github_account_usr = 'gsalomone'\n",
    "project_name = 'sap-gpu-gsalomone'\n",
    "\n",
    "res = ai_core_client.repositories.create(\n",
    "        name=project_name,\n",
    "        url=github_repo_url,\n",
    "        username=github_account_usr,\n",
    "        password=github_token\n",
    ")\n",
    "\n",
    "print(res)"
   ]
  },
  {
   "cell_type": "code",
   "execution_count": null,
   "id": "80064c3a-b1e0-4b60-b872-55775fc255c4",
   "metadata": {},
   "outputs": [],
   "source": [
    "# Create application\n",
    "application_name = 'gsalomone-tf-app'\n",
    "response = ai_core_client.applications.create(\n",
    "    application_name = application_name,\n",
    "    revision = \"HEAD\",\n",
    "    repository_url = github_repo_url,\n",
    "    path = \"tutorial-tf-text-clf\"\n",
    ")\n",
    "\n",
    "print(response.__dict__)"
   ]
  },
  {
   "cell_type": "code",
   "execution_count": null,
   "id": "86f9ae74-3fd3-4b60-9c71-8c5bdb9a593e",
   "metadata": {},
   "outputs": [],
   "source": [
    "response = ai_core_client.applications.get_status(application_name=application_name)\n",
    "\n",
    "print(response.message)\n",
    "for workflow_sync_status in response.sync_ressources_status:\n",
    "    print(workflow_sync_status.__dict__)"
   ]
  },
  {
   "cell_type": "code",
   "execution_count": null,
   "id": "fa471467-0b57-441b-85ae-606ce7b65590",
   "metadata": {},
   "outputs": [],
   "source": [
    "# Register model as artifact\n",
    "from ai_core_sdk.models import Artifact\n",
    "\n",
    "response = ai_core_client.artifact.create(\n",
    "    resource_group = 'default',\n",
    "    name = \"tf-txt-clf-model\",\n",
    "    kind = Artifact.Kind.MODEL,\n",
    "    url = f\"ai://{object_store_name}/model\",\n",
    "    scenario_id = \"tf-text-clf\",  # same as under `scenarios.ai.sap.com/id`\n",
    "    description = \"Review Classification Model\"\n",
    ")\n",
    "\n",
    "print(response.__dict__)"
   ]
  },
  {
   "cell_type": "code",
   "execution_count": null,
   "id": "ee1d2184-ab79-432d-a287-a1abc0186ce5",
   "metadata": {},
   "outputs": [],
   "source": [
    "artifact_id = response.__dict__.get('id')\n",
    "artifact_id"
   ]
  },
  {
   "cell_type": "code",
   "execution_count": null,
   "id": "5a37bf0d-1677-47cb-8a08-a680d3e73b61",
   "metadata": {},
   "outputs": [],
   "source": [
    "# Start deployment\n",
    "\n",
    "# Create configuration\n",
    "from ai_core_sdk.models import InputArtifactBinding\n",
    "\n",
    "response = ai_core_client.configuration.create(\n",
    "    name = \"gsalomone-tf-gpu-conf\",\n",
    "    resource_group = \"default\",\n",
    "    scenario_id = \"tf-text-clf\",\n",
    "    executable_id = \"tf-text-clf-serve\",\n",
    "    input_artifact_bindings = [\n",
    "        # list\n",
    "        InputArtifactBinding(key=\"modelArtifact\", artifact_id = artifact_id), # Change artifact id\n",
    "    ]\n",
    ")\n",
    "\n",
    "print(response.__dict__)\n",
    "config_id = response.__dict__.get('id')"
   ]
  },
  {
   "cell_type": "code",
   "execution_count": null,
   "id": "c716d6d9-8114-4390-8233-7feb055c6268",
   "metadata": {},
   "outputs": [],
   "source": [
    "# Create deployment\n",
    "response = ai_core_client.deployment.create(\n",
    "    resource_group = \"default\",\n",
    "    configuration_id = config_id # change this\n",
    ")\n",
    "print(response.__dict__)\n",
    "deployment_id = response.__dict__.get('id')\n",
    "deployment_id"
   ]
  },
  {
   "cell_type": "code",
   "execution_count": null,
   "id": "ecc2bbc8-3712-462e-b3a6-171d9e712100",
   "metadata": {},
   "outputs": [],
   "source": [
    "# Check deployment status\n",
    "response = ai_core_client.deployment.get(\n",
    "    resource_group = \"default\",\n",
    "    deployment_id = deployment_id # Change this\n",
    ")\n",
    "\n",
    "print(\"Status: \", response.status)\n",
    "print('*'*80)\n",
    "pprint(response.__dict__)"
   ]
  },
  {
   "cell_type": "code",
   "execution_count": null,
   "id": "9facb831-7444-42b0-87ef-68b505a19f39",
   "metadata": {},
   "outputs": [],
   "source": [
    "# SECOND TIME: check deployment status\n",
    "response = ai_core_client.deployment.get(\n",
    "    resource_group = \"default\",\n",
    "    deployment_id = deployment_id # Change this\n",
    ")\n",
    "\n",
    "print(\"Status: \", response.status)\n",
    "print('*'*80)\n",
    "from pprint import pprint\n",
    "pprint(response.__dict__)"
   ]
  },
  {
   "cell_type": "code",
   "execution_count": null,
   "id": "76670765-6d38-4a7b-87b9-38b60e187115",
   "metadata": {},
   "outputs": [],
   "source": []
  }
 ],
 "metadata": {
  "kernelspec": {
   "display_name": "Python 3 (ipykernel)",
   "language": "python",
   "name": "python3"
  },
  "language_info": {
   "codemirror_mode": {
    "name": "ipython",
    "version": 3
   },
   "file_extension": ".py",
   "mimetype": "text/x-python",
   "name": "python",
   "nbconvert_exporter": "python",
   "pygments_lexer": "ipython3",
   "version": "3.10.12"
  }
 },
 "nbformat": 4,
 "nbformat_minor": 5
}
