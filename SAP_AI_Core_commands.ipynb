{
 "cells": [
  {
   "cell_type": "code",
   "execution_count": 1,
   "id": "9e67bf95-d4c7-400b-b271-ed502c4372a1",
   "metadata": {},
   "outputs": [],
   "source": [
    "from ai_core_sdk.ai_core_v2_client import AICoreV2Client\n",
    "\n",
    "from sapaicore_utils import (DOCKER_TOKEN,\n",
    "                             DOCKER_USER,\n",
    "                             get_conn_details,\n",
    "                             GITHUB_TOKEN,\n",
    "                             GITHUB_USER,\n",
    "                             onboard_repository,\n",
    "                             onboard_docker,\n",
    "                             show_docker_secrets,\n",
    "                             show_repositories,)\n",
    "\n",
    "conn_details = get_conn_details()\n",
    "ai_core_client = AICoreV2Client(**conn_details)"
   ]
  },
  {
   "cell_type": "markdown",
   "id": "472bcbee",
   "metadata": {},
   "source": [
    "## Step 0. Onboard a repository and Docker account"
   ]
  },
  {
   "cell_type": "markdown",
   "id": "8905b611",
   "metadata": {},
   "source": [
    "### GitHub repository\n",
    "We'll need a GitHub username and token"
   ]
  },
  {
   "cell_type": "code",
   "execution_count": null,
   "id": "d0bf811b",
   "metadata": {},
   "outputs": [],
   "source": [
    "PROJECT_NAME = 'gsalomone-tf-gpu'\n",
    "github_repo_url = 'https://github.com/gianfranco-s/SAP-aicore-gpu'\n",
    "onboard_repository(github_repo_url,\n",
    "                   GITHUB_USER,\n",
    "                   GITHUB_TOKEN,\n",
    "                   PROJECT_NAME,\n",
    "                   ai_core_client)"
   ]
  },
  {
   "cell_type": "code",
   "execution_count": 3,
   "id": "f041f19e",
   "metadata": {},
   "outputs": [
    {
     "name": "stdout",
     "output_type": "stream",
     "text": [
      "Name: sap-training-ncellini\n",
      "URL: https://github.com/NCellini/aicore-pipelines\n",
      "Status: RepositoryStatus.COMPLETED\n",
      "\n",
      "Name: gsalomone-tf-gpu\n",
      "URL: https://github.com/gianfranco-s/SAP-aicore-gpu\n",
      "Status: RepositoryStatus.COMPLETED\n",
      "\n"
     ]
    }
   ],
   "source": [
    "show_repositories(ai_core_client)"
   ]
  },
  {
   "cell_type": "markdown",
   "id": "7c9eb0ea",
   "metadata": {},
   "source": [
    "### Docker account"
   ]
  },
  {
   "cell_type": "code",
   "execution_count": null,
   "id": "50ce0742",
   "metadata": {},
   "outputs": [],
   "source": [
    "docker_registry_name = 'gsalomone-docker'\n",
    "onboard_docker(docker_registry_name, DOCKER_USER, DOCKER_TOKEN, ai_core_client)"
   ]
  },
  {
   "cell_type": "code",
   "execution_count": 2,
   "id": "6a61015e",
   "metadata": {},
   "outputs": [
    {
     "name": "stdout",
     "output_type": "stream",
     "text": [
      "DockerRegistrySecret name: credstutorialrepo-ncellini\n",
      "DockerRegistrySecret name: gsalomone-docker\n"
     ]
    }
   ],
   "source": [
    "show_docker_secrets(ai_core_client)"
   ]
  },
  {
   "cell_type": "markdown",
   "id": "a03fec94",
   "metadata": {},
   "source": [
    "## Step 1. Create workspace\n",
    "Using default resource group because when I tried to create `tf-demo`, I got the message \"Resource Group cannot be created for free tier tenant\""
   ]
  },
  {
   "cell_type": "code",
   "execution_count": 4,
   "id": "ef95d95a-d6b4-445a-b708-d30a670bcfaa",
   "metadata": {},
   "outputs": [
    {
     "name": "stdout",
     "output_type": "stream",
     "text": [
      "Failed to post /admin/resourceGroups: Resource Group cannot be created for free tier tenant \n",
      " Status Code: 403, Request ID:None\n"
     ]
    }
   ],
   "source": [
    "try:\n",
    "    response = ai_core_client.resource_groups.create(\"tf-demo\")\n",
    "\n",
    "except Exception as e:\n",
    "    print(e)"
   ]
  },
  {
   "cell_type": "code",
   "execution_count": 5,
   "id": "b7fff6d7-94ff-416c-a781-e45d31a05e1d",
   "metadata": {},
   "outputs": [
    {
     "name": "stdout",
     "output_type": "stream",
     "text": [
      "default\n"
     ]
    }
   ],
   "source": [
    "def show_resource_groups() -> None:\n",
    "    response = ai_core_client.resource_groups.query()\n",
    "\n",
    "    for rg in response.resources:\n",
    "        print(rg.resource_group_id)\n",
    "\n",
    "show_resource_groups()"
   ]
  },
  {
   "cell_type": "markdown",
   "id": "a90aef5d-58f4-4a61-801d-6f46b6ba13d3",
   "metadata": {},
   "source": [
    "## Step 2: upload model files to AWS S3\n",
    "Create bucket\n",
    "```\n",
    "aws s3api create-bucket --bucket gsalomone-celestial-bucket --region us-east-1\n",
    "```\n",
    "\n",
    "Upload files\n",
    "```\n",
    "cd tf_files\n",
    "aws s3 cp model.h5 s3://gsalomone-celestial-bucket/movie-clf/model/  \n",
    "aws s3 cp max_pad_len.txt s3://gsalomone-celestial-bucket/movie-clf/model/  \n",
    "aws s3 cp label_encoded_classes.npy s3://gsalomone-celestial-bucket/movie-clf/model/  \n",
    "aws s3 cp tokens.json s3://gsalomone-celestial-bucket/movie-clf/model/  \n",
    "```\n",
    "\n",
    "Check files\n",
    "```\n",
    "aws s3 ls s3://gsalomone-celestial-bucket/movie-clf/model/\n",
    "```"
   ]
  },
  {
   "cell_type": "markdown",
   "id": "1b94cf5e",
   "metadata": {},
   "source": [
    "## Step 3: connect AWS S3 to SAP AI Core\n"
   ]
  },
  {
   "cell_type": "code",
   "execution_count": 7,
   "id": "6c93e76a-a7d8-4896-a0e9-a81caea935de",
   "metadata": {},
   "outputs": [],
   "source": [
    "aws_credentials_file = '/home/gsalomone/Documents/gian-dev_accessKeys.csv'\n",
    "\n",
    "def get_aws_credentials(filepath: str) -> tuple:\n",
    "    with open(filepath, 'r') as f:\n",
    "        creds = f.readlines()[1:2][0]\n",
    "        aws_access_key_id, aws_secret_access_key = creds.split(',')\n",
    "        return aws_access_key_id, aws_secret_access_key\n",
    "\n",
    "aws_access_key_id, aws_secret_access_key = get_aws_credentials(aws_credentials_file)\n",
    "aws_az = 'us-east-1'\n",
    "object_store_name = 'gs-tf-gpu-tutorial-secret'"
   ]
  },
  {
   "cell_type": "code",
   "execution_count": 8,
   "id": "020e1e4a-7b98-4a1b-91f6-f22df8462577",
   "metadata": {},
   "outputs": [
    {
     "data": {
      "text/plain": [
       "'secret has been created'"
      ]
     },
     "execution_count": 8,
     "metadata": {},
     "output_type": "execute_result"
    }
   ],
   "source": [
    "def create_s3_object_store() -> str:\n",
    "    response = ai_core_client.object_store_secrets.create(\n",
    "        resource_group = 'default',\n",
    "        type = \"S3\",\n",
    "        name = object_store_name,\n",
    "        path_prefix = \"movie-clf\",\n",
    "        endpoint = f\"s3-{aws_az}.amazonaws.com\",\n",
    "        bucket = \"gsalomone-celestial-bucket\",\n",
    "        region = aws_az,\n",
    "        data = {\n",
    "            \"AWS_ACCESS_KEY_ID\": aws_access_key_id,\n",
    "            \"AWS_SECRET_ACCESS_KEY\": aws_secret_access_key\n",
    "        }\n",
    "    )\n",
    "\n",
    "    return response.message\n",
    "\n",
    "res = create_s3_object_store()\n",
    "res"
   ]
  },
  {
   "cell_type": "markdown",
   "id": "d2139160",
   "metadata": {},
   "source": [
    "## Step 4: register model as Artifact\n",
    "Let's follow the tutorial to the letter.\n",
    "\n",
    "Spoiler: it will not work. **We'll follow step 6 first**"
   ]
  },
  {
   "cell_type": "code",
   "execution_count": 13,
   "id": "72320208",
   "metadata": {},
   "outputs": [
    {
     "name": "stdout",
     "output_type": "stream",
     "text": [
      "Failed to post /artifacts: Invalid Request, Could not create Artifact due to invalid Scenario ID tf-text-clf. Please check the Scenario ID. \n",
      " Status Code: 400, Request ID:6591cbff-3098-4cf6-a343-4ce3ad112424\n"
     ]
    }
   ],
   "source": [
    "# Register model as artifact\n",
    "from ai_core_sdk.models import Artifact\n",
    "\n",
    "def create_model(model_name: str, object_store_name: str, scenario_id: str, description: str) -> str:\n",
    "    response = ai_core_client.artifact.create(\n",
    "        resource_group = 'default',\n",
    "        name = model_name,\n",
    "        kind = Artifact.Kind.MODEL,\n",
    "        url = f\"ai://{object_store_name}/model\",\n",
    "        scenario_id = scenario_id,  # same as under `scenarios.ai.sap.com/id`\n",
    "        description = description\n",
    "    )\n",
    "    return response.message\n",
    "\n",
    "try:\n",
    "    msg = create_model(model_name='gsalomone-model',\n",
    "                       scenario_id='tf-text-clf',\n",
    "                       description='Review Classification Model',\n",
    "                       object_store_name=object_store_name,)\n",
    "\n",
    "    print(msg)\n",
    "except Exception as e:\n",
    "    print(e)"
   ]
  },
  {
   "cell_type": "markdown",
   "id": "789b0580",
   "metadata": {},
   "source": [
    "### Step 4 -> Step 6: we need to set up the scenario_id FIRST\n",
    "It turns out that `scenario_id` is created from the yaml file. So we'll move to step 6 of the tutorial\n",
    "\n",
    "- Copy [`serving_executable.yaml`](https://raw.githubusercontent.com/sap-tutorials/Tutorials/master/tutorials/ai-core-tensorflow-byod/files/workflow/serving_executable.yaml)\n",
    "- set `resourcePlan` to `infer.s` which will enable GPU.\n",
    "- set `imagePullSecrets > name` to the appropriate docker registry secret. In this tutorial you'll find it in variable `docker_registry_name`\n",
    "- set `containers > image` is set to `\"docker.io/DOCKER_USER/movie-review-clf-serve:0.0.1\"`"
   ]
  },
  {
   "cell_type": "markdown",
   "id": "c945ec69",
   "metadata": {},
   "source": [
    "### Step 4 -> Step 7: sync with SAP AI Core\n",
    "- Push `serving_executable.yaml` to GitHub\n",
    "- Create the application in SAP AI Core"
   ]
  },
  {
   "cell_type": "code",
   "execution_count": null,
   "id": "80064c3a-b1e0-4b60-b872-55775fc255c4",
   "metadata": {},
   "outputs": [],
   "source": [
    "# Create application\n",
    "application_name = 'gsalomone-tf-app'\n",
    "response = ai_core_client.applications.create(\n",
    "    application_name = application_name,\n",
    "    revision = \"HEAD\",\n",
    "    repository_url = github_repo_url,\n",
    "    path = \"tf-text-classifier\"  # path to the yaml file in the repository\n",
    ")"
   ]
  },
  {
   "cell_type": "code",
   "execution_count": null,
   "id": "21675f0e",
   "metadata": {},
   "outputs": [],
   "source": []
  },
  {
   "cell_type": "code",
   "execution_count": null,
   "id": "86f9ae74-3fd3-4b60-9c71-8c5bdb9a593e",
   "metadata": {},
   "outputs": [],
   "source": [
    "response = ai_core_client.applications.get_status(application_name=application_name)\n",
    "\n",
    "print(response.message)\n",
    "for workflow_sync_status in response.sync_ressources_status:\n",
    "    print(workflow_sync_status.__dict__)"
   ]
  },
  {
   "cell_type": "code",
   "execution_count": 10,
   "id": "fa471467-0b57-441b-85ae-606ce7b65590",
   "metadata": {},
   "outputs": [
    {
     "ename": "AIAPIInvalidRequestException",
     "evalue": "Failed to post /artifacts: Invalid Request, Could not create Artifact due to invalid Scenario ID tf-text-clf. Please check the Scenario ID. \n Status Code: 400, Request ID:15e41c3a-2368-4a31-a1ec-e17f9c76812a",
     "output_type": "error",
     "traceback": [
      "\u001b[0;31m---------------------------------------------------------------------------\u001b[0m",
      "\u001b[0;31mAIAPIInvalidRequestException\u001b[0m              Traceback (most recent call last)",
      "Cell \u001b[0;32mIn[10], line 4\u001b[0m\n\u001b[1;32m      1\u001b[0m \u001b[38;5;66;03m# Register model as artifact\u001b[39;00m\n\u001b[1;32m      2\u001b[0m \u001b[38;5;28;01mfrom\u001b[39;00m \u001b[38;5;21;01mai_core_sdk\u001b[39;00m\u001b[38;5;21;01m.\u001b[39;00m\u001b[38;5;21;01mmodels\u001b[39;00m \u001b[38;5;28;01mimport\u001b[39;00m Artifact\n\u001b[0;32m----> 4\u001b[0m response \u001b[38;5;241m=\u001b[39m \u001b[43mai_core_client\u001b[49m\u001b[38;5;241;43m.\u001b[39;49m\u001b[43martifact\u001b[49m\u001b[38;5;241;43m.\u001b[39;49m\u001b[43mcreate\u001b[49m\u001b[43m(\u001b[49m\n\u001b[1;32m      5\u001b[0m \u001b[43m    \u001b[49m\u001b[43mresource_group\u001b[49m\u001b[43m \u001b[49m\u001b[38;5;241;43m=\u001b[39;49m\u001b[43m \u001b[49m\u001b[38;5;124;43m'\u001b[39;49m\u001b[38;5;124;43mdefault\u001b[39;49m\u001b[38;5;124;43m'\u001b[39;49m\u001b[43m,\u001b[49m\n\u001b[1;32m      6\u001b[0m \u001b[43m    \u001b[49m\u001b[43mname\u001b[49m\u001b[43m \u001b[49m\u001b[38;5;241;43m=\u001b[39;49m\u001b[43m \u001b[49m\u001b[38;5;124;43m\"\u001b[39;49m\u001b[38;5;124;43mgsalomone-model\u001b[39;49m\u001b[38;5;124;43m\"\u001b[39;49m\u001b[43m,\u001b[49m\n\u001b[1;32m      7\u001b[0m \u001b[43m    \u001b[49m\u001b[43mkind\u001b[49m\u001b[43m \u001b[49m\u001b[38;5;241;43m=\u001b[39;49m\u001b[43m \u001b[49m\u001b[43mArtifact\u001b[49m\u001b[38;5;241;43m.\u001b[39;49m\u001b[43mKind\u001b[49m\u001b[38;5;241;43m.\u001b[39;49m\u001b[43mMODEL\u001b[49m\u001b[43m,\u001b[49m\n\u001b[1;32m      8\u001b[0m \u001b[43m    \u001b[49m\u001b[43murl\u001b[49m\u001b[43m \u001b[49m\u001b[38;5;241;43m=\u001b[39;49m\u001b[43m \u001b[49m\u001b[38;5;124;43mf\u001b[39;49m\u001b[38;5;124;43m\"\u001b[39;49m\u001b[38;5;124;43mai://\u001b[39;49m\u001b[38;5;132;43;01m{\u001b[39;49;00m\u001b[43mobject_store_name\u001b[49m\u001b[38;5;132;43;01m}\u001b[39;49;00m\u001b[38;5;124;43m/model\u001b[39;49m\u001b[38;5;124;43m\"\u001b[39;49m\u001b[43m,\u001b[49m\n\u001b[1;32m      9\u001b[0m \u001b[43m    \u001b[49m\u001b[43mscenario_id\u001b[49m\u001b[43m \u001b[49m\u001b[38;5;241;43m=\u001b[39;49m\u001b[43m \u001b[49m\u001b[38;5;124;43m\"\u001b[39;49m\u001b[38;5;124;43mtf-text-clf\u001b[39;49m\u001b[38;5;124;43m\"\u001b[39;49m\u001b[43m,\u001b[49m\u001b[43m  \u001b[49m\u001b[38;5;66;43;03m# same as under `scenarios.ai.sap.com/id`\u001b[39;49;00m\n\u001b[1;32m     10\u001b[0m \u001b[43m    \u001b[49m\u001b[43mdescription\u001b[49m\u001b[43m \u001b[49m\u001b[38;5;241;43m=\u001b[39;49m\u001b[43m \u001b[49m\u001b[38;5;124;43m\"\u001b[39;49m\u001b[38;5;124;43mReview Classification Model\u001b[39;49m\u001b[38;5;124;43m\"\u001b[39;49m\n\u001b[1;32m     11\u001b[0m \u001b[43m)\u001b[49m\n\u001b[1;32m     13\u001b[0m \u001b[38;5;28mprint\u001b[39m(response\u001b[38;5;241m.\u001b[39m\u001b[38;5;18m__dict__\u001b[39m)\n",
      "File \u001b[0;32m~/Documents/05Baitcon/SAP-aicore-gpu/.venv/lib/python3.10/site-packages/ai_api_client_sdk/resource_clients/artifact_client.py:54\u001b[0m, in \u001b[0;36mArtifactClient.create\u001b[0;34m(self, name, kind, url, scenario_id, description, labels, resource_group)\u001b[0m\n\u001b[1;32m     52\u001b[0m \u001b[38;5;28;01mif\u001b[39;00m labels:\n\u001b[1;32m     53\u001b[0m     body[\u001b[38;5;124m'\u001b[39m\u001b[38;5;124mlabels\u001b[39m\u001b[38;5;124m'\u001b[39m] \u001b[38;5;241m=\u001b[39m [l\u001b[38;5;241m.\u001b[39mto_dict() \u001b[38;5;28;01mfor\u001b[39;00m l \u001b[38;5;129;01min\u001b[39;00m labels]\n\u001b[0;32m---> 54\u001b[0m response_dict \u001b[38;5;241m=\u001b[39m \u001b[38;5;28;43mself\u001b[39;49m\u001b[38;5;241;43m.\u001b[39;49m\u001b[43mrest_client\u001b[49m\u001b[38;5;241;43m.\u001b[39;49m\u001b[43mpost\u001b[49m\u001b[43m(\u001b[49m\u001b[43mpath\u001b[49m\u001b[38;5;241;43m=\u001b[39;49m\u001b[38;5;124;43m'\u001b[39;49m\u001b[38;5;124;43m/artifacts\u001b[39;49m\u001b[38;5;124;43m'\u001b[39;49m\u001b[43m,\u001b[49m\u001b[43m \u001b[49m\u001b[43mbody\u001b[49m\u001b[38;5;241;43m=\u001b[39;49m\u001b[43mbody\u001b[49m\u001b[43m,\u001b[49m\u001b[43m \u001b[49m\u001b[43mresource_group\u001b[49m\u001b[38;5;241;43m=\u001b[39;49m\u001b[43mresource_group\u001b[49m\u001b[43m)\u001b[49m\n\u001b[1;32m     55\u001b[0m \u001b[38;5;28;01mreturn\u001b[39;00m ArtifactCreateResponse\u001b[38;5;241m.\u001b[39mfrom_dict(response_dict)\n",
      "File \u001b[0;32m~/Documents/05Baitcon/SAP-aicore-gpu/.venv/lib/python3.10/site-packages/ai_api_client_sdk/helpers/rest_client.py:140\u001b[0m, in \u001b[0;36mRestClient.post\u001b[0;34m(self, path, body, headers, resource_group)\u001b[0m\n\u001b[1;32m    114\u001b[0m \u001b[38;5;28;01mdef\u001b[39;00m \u001b[38;5;21mpost\u001b[39m(\u001b[38;5;28mself\u001b[39m, path: \u001b[38;5;28mstr\u001b[39m, body: Dict[\u001b[38;5;28mstr\u001b[39m, Union[\u001b[38;5;28mstr\u001b[39m, \u001b[38;5;28mdict\u001b[39m]] \u001b[38;5;241m=\u001b[39m \u001b[38;5;28;01mNone\u001b[39;00m, headers: Dict[\u001b[38;5;28mstr\u001b[39m, \u001b[38;5;28mstr\u001b[39m] \u001b[38;5;241m=\u001b[39m \u001b[38;5;28;01mNone\u001b[39;00m,\n\u001b[1;32m    115\u001b[0m          resource_group: \u001b[38;5;28mstr\u001b[39m \u001b[38;5;241m=\u001b[39m \u001b[38;5;28;01mNone\u001b[39;00m) \u001b[38;5;241m-\u001b[39m\u001b[38;5;241m>\u001b[39m \u001b[38;5;28mdict\u001b[39m:\n\u001b[1;32m    116\u001b[0m \u001b[38;5;250m    \u001b[39m\u001b[38;5;124;03m\"\"\"Sends a POST request to the server.\u001b[39;00m\n\u001b[1;32m    117\u001b[0m \n\u001b[1;32m    118\u001b[0m \u001b[38;5;124;03m    :param path: path of the endpoint the request should be sent to\u001b[39;00m\n\u001b[0;32m   (...)\u001b[0m\n\u001b[1;32m    138\u001b[0m \u001b[38;5;124;03m    :rtype: dict\u001b[39;00m\n\u001b[1;32m    139\u001b[0m \u001b[38;5;124;03m    \"\"\"\u001b[39;00m\n\u001b[0;32m--> 140\u001b[0m     \u001b[38;5;28;01mreturn\u001b[39;00m \u001b[38;5;28;43mself\u001b[39;49m\u001b[38;5;241;43m.\u001b[39;49m\u001b[43m_handle_request\u001b[49m\u001b[43m(\u001b[49m\u001b[38;5;124;43m'\u001b[39;49m\u001b[38;5;124;43mpost\u001b[39;49m\u001b[38;5;124;43m'\u001b[39;49m\u001b[43m,\u001b[49m\u001b[43m \u001b[49m\u001b[43mpath\u001b[49m\u001b[38;5;241;43m=\u001b[39;49m\u001b[43mpath\u001b[49m\u001b[43m,\u001b[49m\u001b[43m \u001b[49m\u001b[43mbody_json\u001b[49m\u001b[38;5;241;43m=\u001b[39;49m\u001b[43mbody\u001b[49m\u001b[43m,\u001b[49m\u001b[43m \u001b[49m\u001b[43mheaders\u001b[49m\u001b[38;5;241;43m=\u001b[39;49m\u001b[43mheaders\u001b[49m\u001b[43m,\u001b[49m\u001b[43m \u001b[49m\u001b[43mresource_group\u001b[49m\u001b[38;5;241;43m=\u001b[39;49m\u001b[43mresource_group\u001b[49m\u001b[43m)\u001b[49m\n",
      "File \u001b[0;32m~/Documents/05Baitcon/SAP-aicore-gpu/.venv/lib/python3.10/site-packages/ai_api_client_sdk/helpers/rest_client.py:96\u001b[0m, in \u001b[0;36mRestClient._handle_request\u001b[0;34m(self, method, path, params, body_json, headers, resource_group)\u001b[0m\n\u001b[1;32m     94\u001b[0m error_details \u001b[38;5;241m=\u001b[39m response_json[\u001b[38;5;124m'\u001b[39m\u001b[38;5;124merror\u001b[39m\u001b[38;5;124m'\u001b[39m]\u001b[38;5;241m.\u001b[39mget(\u001b[38;5;124m'\u001b[39m\u001b[38;5;124mdetails\u001b[39m\u001b[38;5;124m'\u001b[39m)\n\u001b[1;32m     95\u001b[0m \u001b[38;5;28;01mif\u001b[39;00m status_code \u001b[38;5;241m==\u001b[39m \u001b[38;5;241m400\u001b[39m:\n\u001b[0;32m---> 96\u001b[0m     \u001b[38;5;28;01mraise\u001b[39;00m AIAPIInvalidRequestException(description\u001b[38;5;241m=\u001b[39merror_description, error_message\u001b[38;5;241m=\u001b[39merror_message,\n\u001b[1;32m     97\u001b[0m                                        error_code\u001b[38;5;241m=\u001b[39merror_code, request_id\u001b[38;5;241m=\u001b[39mrequest_id, details\u001b[38;5;241m=\u001b[39merror_details)\n\u001b[1;32m     98\u001b[0m \u001b[38;5;28;01melif\u001b[39;00m status_code \u001b[38;5;241m==\u001b[39m \u001b[38;5;241m404\u001b[39m:\n\u001b[1;32m     99\u001b[0m     \u001b[38;5;28;01mraise\u001b[39;00m AIAPINotFoundException(description\u001b[38;5;241m=\u001b[39merror_description, error_message\u001b[38;5;241m=\u001b[39merror_message,\n\u001b[1;32m    100\u001b[0m                                  error_code\u001b[38;5;241m=\u001b[39merror_code, request_id\u001b[38;5;241m=\u001b[39mrequest_id, details\u001b[38;5;241m=\u001b[39merror_details)\n",
      "\u001b[0;31mAIAPIInvalidRequestException\u001b[0m: Failed to post /artifacts: Invalid Request, Could not create Artifact due to invalid Scenario ID tf-text-clf. Please check the Scenario ID. \n Status Code: 400, Request ID:15e41c3a-2368-4a31-a1ec-e17f9c76812a"
     ]
    }
   ],
   "source": []
  },
  {
   "cell_type": "code",
   "execution_count": null,
   "id": "ee1d2184-ab79-432d-a287-a1abc0186ce5",
   "metadata": {},
   "outputs": [],
   "source": [
    "artifact_id = response.__dict__.get('id')\n",
    "artifact_id"
   ]
  },
  {
   "cell_type": "code",
   "execution_count": null,
   "id": "5a37bf0d-1677-47cb-8a08-a680d3e73b61",
   "metadata": {},
   "outputs": [],
   "source": [
    "# Start deployment\n",
    "\n",
    "# Create configuration\n",
    "from ai_core_sdk.models import InputArtifactBinding\n",
    "\n",
    "response = ai_core_client.configuration.create(\n",
    "    name = \"gsalomone-tf-gpu-conf\",\n",
    "    resource_group = \"default\",\n",
    "    scenario_id = \"tf-text-clf\",\n",
    "    executable_id = \"tf-text-clf-serve\",\n",
    "    input_artifact_bindings = [\n",
    "        # list\n",
    "        InputArtifactBinding(key=\"modelArtifact\", artifact_id = artifact_id), # Change artifact id\n",
    "    ]\n",
    ")\n",
    "\n",
    "print(response.__dict__)\n",
    "config_id = response.__dict__.get('id')"
   ]
  },
  {
   "cell_type": "code",
   "execution_count": null,
   "id": "c716d6d9-8114-4390-8233-7feb055c6268",
   "metadata": {},
   "outputs": [],
   "source": [
    "# Create deployment\n",
    "response = ai_core_client.deployment.create(\n",
    "    resource_group = \"default\",\n",
    "    configuration_id = config_id # change this\n",
    ")\n",
    "print(response.__dict__)\n",
    "deployment_id = response.__dict__.get('id')\n",
    "deployment_id"
   ]
  },
  {
   "cell_type": "code",
   "execution_count": null,
   "id": "ecc2bbc8-3712-462e-b3a6-171d9e712100",
   "metadata": {},
   "outputs": [],
   "source": [
    "# Check deployment status\n",
    "response = ai_core_client.deployment.get(\n",
    "    resource_group = \"default\",\n",
    "    deployment_id = deployment_id # Change this\n",
    ")\n",
    "\n",
    "print(\"Status: \", response.status)\n",
    "print('*'*80)\n",
    "pprint(response.__dict__)"
   ]
  },
  {
   "cell_type": "code",
   "execution_count": null,
   "id": "9facb831-7444-42b0-87ef-68b505a19f39",
   "metadata": {},
   "outputs": [],
   "source": [
    "# SECOND TIME: check deployment status\n",
    "response = ai_core_client.deployment.get(\n",
    "    resource_group = \"default\",\n",
    "    deployment_id = deployment_id # Change this\n",
    ")\n",
    "\n",
    "print(\"Status: \", response.status)\n",
    "print('*'*80)\n",
    "from pprint import pprint\n",
    "pprint(response.__dict__)"
   ]
  },
  {
   "cell_type": "code",
   "execution_count": null,
   "id": "76670765-6d38-4a7b-87b9-38b60e187115",
   "metadata": {},
   "outputs": [],
   "source": []
  }
 ],
 "metadata": {
  "kernelspec": {
   "display_name": "Python 3 (ipykernel)",
   "language": "python",
   "name": "python3"
  },
  "language_info": {
   "codemirror_mode": {
    "name": "ipython",
    "version": 3
   },
   "file_extension": ".py",
   "mimetype": "text/x-python",
   "name": "python",
   "nbconvert_exporter": "python",
   "pygments_lexer": "ipython3",
   "version": "3.10.12"
  }
 },
 "nbformat": 4,
 "nbformat_minor": 5
}
