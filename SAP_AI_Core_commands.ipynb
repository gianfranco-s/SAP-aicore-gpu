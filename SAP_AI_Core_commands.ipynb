{
 "cells": [
  {
   "cell_type": "code",
   "execution_count": 9,
   "id": "9e67bf95-d4c7-400b-b271-ed502c4372a1",
   "metadata": {},
   "outputs": [],
   "source": [
    "import json\n",
    "\n",
    "from configparser import ConfigParser\n",
    "\n",
    "from ai_core_sdk.ai_core_v2_client import AICoreV2Client\n",
    "from ai_api_client_sdk.exception import AIAPINotFoundException, AIAPIServerException, AIAPIInvalidRequestException\n",
    "\n",
    "from sapaicore_utils import (AWS_CREDENTIALS_PATH,\n",
    "                             DOCKER_TOKEN,\n",
    "                             DOCKER_USER,\n",
    "                             get_conn_details,\n",
    "                             GITHUB_TOKEN,\n",
    "                             GITHUB_USER,\n",
    "                             onboard_repository,\n",
    "                             onboard_docker,\n",
    "                             show_docker_registries,\n",
    "                             show_repositories,)\n",
    "\n",
    "conn_details = get_conn_details()\n",
    "ai_core_client = AICoreV2Client(**conn_details)"
   ]
  },
  {
   "cell_type": "markdown",
   "id": "472bcbee",
   "metadata": {},
   "source": [
    "## Step 0. Onboard a repository and Docker account"
   ]
  },
  {
   "cell_type": "markdown",
   "id": "8905b611",
   "metadata": {},
   "source": [
    "### GitHub repository\n",
    "We'll need a GitHub username and token"
   ]
  },
  {
   "cell_type": "code",
   "execution_count": null,
   "id": "be294b18",
   "metadata": {},
   "outputs": [],
   "source": [
    "# First, let's see which repositories have been onboarded\n",
    "show_repositories(ai_core_client)"
   ]
  },
  {
   "cell_type": "code",
   "execution_count": 12,
   "id": "0f532b6e",
   "metadata": {},
   "outputs": [],
   "source": [
    "PROJECT_NAME = 'gsalomone-tf-gpu'\n",
    "github_repo_url = 'https://github.com/gianfranco-s/SAP-aicore-gpu'"
   ]
  },
  {
   "cell_type": "code",
   "execution_count": null,
   "id": "d0bf811b",
   "metadata": {},
   "outputs": [],
   "source": [
    "# If project does not exist, AIAPINotFoundException is raised when `get()` is invoked\n",
    "try:\n",
    "    ai_core_client.repositories.get(PROJECT_NAME)\n",
    "    print('Repository already exists')\n",
    "\n",
    "except AIAPINotFoundException:\n",
    "    onboard_repository(github_repo_url,\n",
    "                    GITHUB_USER,\n",
    "                    GITHUB_TOKEN,\n",
    "                    PROJECT_NAME,\n",
    "                    ai_core_client)\n",
    "    print('Repository created')"
   ]
  },
  {
   "cell_type": "markdown",
   "id": "7c9eb0ea",
   "metadata": {},
   "source": [
    "### Docker account"
   ]
  },
  {
   "cell_type": "code",
   "execution_count": null,
   "id": "c4abed6a",
   "metadata": {},
   "outputs": [],
   "source": [
    "# First, let's see which registries have been onboarded\n",
    "show_docker_registries(ai_core_client)"
   ]
  },
  {
   "cell_type": "code",
   "execution_count": null,
   "id": "50ce0742",
   "metadata": {},
   "outputs": [],
   "source": [
    "docker_registry_name = 'gsalomone-docker'\n",
    "\n",
    "# If project does not exist, AIAPINotFoundException is raised when `get()` is invoked\n",
    "try:\n",
    "    ai_core_client.docker_registry_secrets.get(docker_registry_name)\n",
    "    print('Docker registry already exists')\n",
    "\n",
    "except AIAPINotFoundException:\n",
    "    onboard_docker(docker_registry_name, DOCKER_USER, DOCKER_TOKEN, ai_core_client)\n",
    "    print('Docker registry created')"
   ]
  },
  {
   "cell_type": "markdown",
   "id": "a03fec94",
   "metadata": {},
   "source": [
    "## Step 1. Create workspace\n",
    "Using default resource group because when I tried to create `tf-demo`, I got the message \"Resource Group cannot be created for free tier tenant\""
   ]
  },
  {
   "cell_type": "code",
   "execution_count": null,
   "id": "ef95d95a-d6b4-445a-b708-d30a670bcfaa",
   "metadata": {},
   "outputs": [],
   "source": [
    "try:\n",
    "    response = ai_core_client.resource_groups.create(\"tf-demo\")\n",
    "\n",
    "except AIAPIServerException as e:\n",
    "    print(e)"
   ]
  },
  {
   "cell_type": "code",
   "execution_count": null,
   "id": "b7fff6d7-94ff-416c-a781-e45d31a05e1d",
   "metadata": {},
   "outputs": [],
   "source": [
    "def show_resource_groups() -> None:\n",
    "    response = ai_core_client.resource_groups.query()\n",
    "\n",
    "    for rg in response.resources:\n",
    "        print(rg.resource_group_id)\n",
    "\n",
    "show_resource_groups()"
   ]
  },
  {
   "cell_type": "markdown",
   "id": "a90aef5d-58f4-4a61-801d-6f46b6ba13d3",
   "metadata": {},
   "source": [
    "## Step 2: upload model files to AWS S3\n",
    "Create bucket\n",
    "```\n",
    "aws s3api create-bucket --bucket gsalomone-celestial-bucket --region us-east-1\n",
    "```\n",
    "\n",
    "Upload files\n",
    "```\n",
    "cd tf_files\n",
    "aws s3 cp model.h5 s3://gsalomone-celestial-bucket/movie-clf/model/\n",
    "aws s3 cp max_pad_len.txt s3://gsalomone-celestial-bucket/movie-clf/model/\n",
    "aws s3 cp label_encoded_classes.npy s3://gsalomone-celestial-bucket/movie-clf/model/\n",
    "aws s3 cp tokens.json s3://gsalomone-celestial-bucket/movie-clf/model/\n",
    "```\n",
    "\n",
    "Check files\n",
    "```\n",
    "aws s3 ls s3://gsalomone-celestial-bucket/movie-clf/model/\n",
    "```\n",
    "\n",
    "Alternatively, it can be done using the AWS SDK"
   ]
  },
  {
   "cell_type": "code",
   "execution_count": null,
   "id": "f95e6dd4",
   "metadata": {},
   "outputs": [],
   "source": [
    "import boto3\n",
    "\n",
    "\n",
    "def file_exists_in_s3(bucket_name: str, s3_key: str, file_name: str) -> bool:\n",
    "    s3 = boto3.client('s3')\n",
    "    try:\n",
    "        s3.head_object(Bucket=bucket_name, Key=s3_key + file_name)\n",
    "        return True\n",
    "    except Exception as e:\n",
    "        return False\n",
    "\n",
    "\n",
    "def upload_file_to_s3(file_dir: str, file_name: str, bucket_name: str, s3_key: str) -> None:\n",
    "    if file_exists_in_s3(bucket_name, s3_key, file_name):\n",
    "        print(f'file {file_name} already exists in key: {s3_key}, bucket: {bucket_name}')\n",
    "        return\n",
    "\n",
    "    try:\n",
    "        s3 = boto3.client('s3')\n",
    "        s3.upload_file(file_dir + file_name, bucket_name, s3_key + file_name)\n",
    "        print(f\"File uploaded successfully to S3 bucket: {bucket_name} with key: {s3_key}\")\n",
    "    except Exception as e:\n",
    "        print(f\"Error uploading file to S3: {e}\")\n",
    "\n",
    "\n",
    "bucket_name = 'gsalomone-celestial-bucket'\n",
    "s3_key = 'movie-clf/model/'\n",
    "file_dir = 'tf_files/'"
   ]
  },
  {
   "cell_type": "code",
   "execution_count": null,
   "id": "29993d52",
   "metadata": {},
   "outputs": [],
   "source": [
    "upload_file_to_s3(file_dir, 'model.h5', bucket_name, s3_key)\n",
    "upload_file_to_s3(file_dir, 'max_pad_len.txt', bucket_name, s3_key)\n",
    "upload_file_to_s3(file_dir, 'label_encoded_classes.npy', bucket_name, s3_key)\n",
    "upload_file_to_s3(file_dir, 'tokens.json', bucket_name, s3_key)"
   ]
  },
  {
   "cell_type": "markdown",
   "id": "1b94cf5e",
   "metadata": {},
   "source": [
    "## Step 3: connect AWS S3 to SAP AI Core\n",
    "Keep in mind that the attribute `endpoint` only uses the availability zone only if the bucket resides outside `us-east-1`\n",
    "Examples:\n",
    "- if region is `us-east-one`, endpoint is `s3.amazonaws.com`\n",
    "- if region is `eu-central-1`, endpoint is `s3-eu-central-1.amazonaws.com`"
   ]
  },
  {
   "cell_type": "code",
   "execution_count": 2,
   "id": "6c93e76a-a7d8-4896-a0e9-a81caea935de",
   "metadata": {},
   "outputs": [],
   "source": [
    "config = ConfigParser()\n",
    "config.read(AWS_CREDENTIALS_PATH)\n",
    "\n",
    "aws_access_key_id = config.get('default', 'aws_access_key_id')\n",
    "aws_secret_access_key = config.get('default', 'aws_secret_access_key')\n",
    "\n",
    "aws_az = 'us-east-1'\n",
    "object_store_name = 'gs-tf-gpu-tutorial-secret'"
   ]
  },
  {
   "cell_type": "code",
   "execution_count": 71,
   "id": "020e1e4a-7b98-4a1b-91f6-f22df8462577",
   "metadata": {},
   "outputs": [
    {
     "data": {
      "text/plain": [
       "'secret has been created'"
      ]
     },
     "execution_count": 71,
     "metadata": {},
     "output_type": "execute_result"
    }
   ],
   "source": [
    "def create_s3_object_store(bucket_name: str, s3_key: str) -> str:\n",
    "    default_endpoint = 's3.amazonaws.com'\n",
    "    response = ai_core_client.object_store_secrets.create(\n",
    "        resource_group = 'default',\n",
    "        type = \"S3\",\n",
    "        name = object_store_name,\n",
    "        path_prefix = s3_key,\n",
    "        endpoint = default_endpoint if aws_az == 'us-east-1' else f\"s3-{aws_az}.amazonaws.com\",\n",
    "        bucket = bucket_name,\n",
    "        region = aws_az,\n",
    "        data = {\n",
    "            \"AWS_ACCESS_KEY_ID\": aws_access_key_id,\n",
    "            \"AWS_SECRET_ACCESS_KEY\": aws_secret_access_key\n",
    "        }\n",
    "    )\n",
    "\n",
    "    return response.message\n",
    "\n",
    "res = create_s3_object_store('gsalomone-celestial-bucket', s3_key='movie-clf')\n",
    "res"
   ]
  },
  {
   "cell_type": "markdown",
   "id": "d2139160",
   "metadata": {},
   "source": [
    "## Step 4: register model as Artifact\n",
    "Let's follow the tutorial to the letter.\n",
    "\n",
    "Spoiler: it will not work.\n",
    "```\n",
    "Invalid Request, Could not create Artifact due to invalid Scenario ID <id-here>. Please check the Scenario ID.\n",
    "```\n",
    "**We'll follow step 6 first**"
   ]
  },
  {
   "cell_type": "code",
   "execution_count": 6,
   "id": "72320208",
   "metadata": {},
   "outputs": [],
   "source": [
    "# Register model as artifact\n",
    "from ai_core_sdk.models import Artifact\n",
    "\n",
    "def create_model(model_name: str, object_store_name: str, scenario_id: str, description: str) -> str:\n",
    "    \"\"\"Create artifact as model\n",
    "    \n",
    "    Keyword arguments:\n",
    "    model_name -- self explanatory\n",
    "    object_store_name -- s3 object store\n",
    "    scenario_id -- taken form the yaml file, found under `scenarios.ai.sap.com/id`\n",
    "    Return: return_description\n",
    "    \"\"\"\n",
    "    \n",
    "    response = ai_core_client.artifact.create(\n",
    "        resource_group = 'default',\n",
    "        name = model_name,\n",
    "        kind = Artifact.Kind.MODEL,\n",
    "        url = f\"ai://{object_store_name}/model\",\n",
    "        scenario_id = scenario_id,\n",
    "        description = description\n",
    "    )\n",
    "    return response.message"
   ]
  },
  {
   "cell_type": "code",
   "execution_count": 10,
   "id": "a8ab4e42",
   "metadata": {},
   "outputs": [
    {
     "name": "stdout",
     "output_type": "stream",
     "text": [
      "Failed to post /artifacts: Invalid Request, Could not create Artifact due to invalid Scenario ID tf-text-clf2. Please check the Scenario ID. \n",
      " Status Code: 400, Request ID:58dc09ec-fb54-490d-868c-c943da9ff610\n"
     ]
    }
   ],
   "source": [
    "# If you run this code AFTER creating the scenario, it will work ok\n",
    "# because scenario_id will already be available\n",
    "\n",
    "try:\n",
    "    msg = create_model(model_name='gsalomone-model',\n",
    "                       scenario_id='tf-text-clf',\n",
    "                       description='Review Classification Model',\n",
    "                       object_store_name=object_store_name,)\n",
    "\n",
    "    print(msg)\n",
    "except AIAPIInvalidRequestException as e:\n",
    "    print(e)"
   ]
  },
  {
   "cell_type": "markdown",
   "id": "789b0580",
   "metadata": {},
   "source": [
    "### Step 4 -> Step 6: we need to set up the scenario_id FIRST\n",
    "It turns out that `scenario_id` is created from the yaml file. So we'll move to step 6 of the tutorial\n",
    "\n",
    "- Copy [`serving_executable.yaml`](https://raw.githubusercontent.com/sap-tutorials/Tutorials/master/tutorials/ai-core-tensorflow-byod/files/workflow/serving_executable.yaml)\n",
    "- set `resourcePlan` to `infer.s` which will enable GPU. ATTENTION: free tier only allows for `starter`\n",
    "- set `imagePullSecrets > name` to the appropriate docker registry secret. In this tutorial you'll find it in variable `docker_registry_name`\n",
    "- set `containers > image` is set to `\"docker.io/DOCKER_USER/movie-review-clf-serve:0.0.1\"`"
   ]
  },
  {
   "cell_type": "markdown",
   "id": "c945ec69",
   "metadata": {},
   "source": [
    "### Step 4 -> Step 7: sync with SAP AI Core\n",
    "- Push `serving_executable.yaml` to GitHub\n",
    "- Create the application in SAP AI Core\n",
    "- Check for typos in yaml file `executables.ai.sap.com/name: \"serve-executuable\"` -> `executables.ai.sap.com/name: \"serve-executable\"`\n"
   ]
  },
  {
   "cell_type": "code",
   "execution_count": 26,
   "id": "80064c3a-b1e0-4b60-b872-55775fc255c4",
   "metadata": {},
   "outputs": [
    {
     "name": "stdout",
     "output_type": "stream",
     "text": [
      "Application cannot be created because: AlreadyExists\n"
     ]
    }
   ],
   "source": [
    "# Create application\n",
    "application_name = 'gsalomone-tf-app'\n",
    "\n",
    "try:\n",
    "    response = ai_core_client.applications.create(\n",
    "        application_name = application_name,\n",
    "        revision = \"HEAD\",\n",
    "        repository_url = github_repo_url,\n",
    "        path = \"tf-text-classifier\"  # path to the yaml file in the repository\n",
    "    )\n",
    "except AIAPIServerException as e:\n",
    "    reason = json.loads(e.error_message).get('reason')\n",
    "    print(f'Application cannot be created because: {reason}')"
   ]
  },
  {
   "cell_type": "code",
   "execution_count": 28,
   "id": "86f9ae74-3fd3-4b60-9c71-8c5bdb9a593e",
   "metadata": {},
   "outputs": [
    {
     "name": "stdout",
     "output_type": "stream",
     "text": [
      "successfully synced (all tasks run)\n",
      "\n",
      "application status:  Synced\n",
      "workflow message:  servingtemplate.ai.sap.com/tf-text-clf-serve configured\n",
      "application name (from yaml file):  tf-text-clf-serve\n"
     ]
    }
   ],
   "source": [
    "response = ai_core_client.applications.get_status(application_name=application_name)\n",
    "print(response.message)\n",
    "\n",
    "for workflow_sync_status in response.sync_ressources_status:\n",
    "    print(f'\\napplication status: ', workflow_sync_status.status)\n",
    "    print(f'workflow message: ', workflow_sync_status.message)\n",
    "    print(f'application name (from yaml file): ', workflow_sync_status.name)"
   ]
  },
  {
   "cell_type": "markdown",
   "id": "15c00b06",
   "metadata": {},
   "source": [
    "### Step 4 -> Step 4: NOW register model as artifact"
   ]
  },
  {
   "cell_type": "code",
   "execution_count": 29,
   "id": "ee1d2184-ab79-432d-a287-a1abc0186ce5",
   "metadata": {},
   "outputs": [
    {
     "name": "stdout",
     "output_type": "stream",
     "text": [
      "Artifact acknowledged\n"
     ]
    }
   ],
   "source": [
    "SCENARIO_ID = 'tf-text-clf'  # Remember to take it from the yaml file: `scenarios.ai.sap.com/id`\n",
    "msg = create_model(model_name='gsalomone-model',\n",
    "                    scenario_id=SCENARIO_ID,\n",
    "                    description='Review Classification Model',\n",
    "                    object_store_name=object_store_name,)\n",
    "\n",
    "print(msg)"
   ]
  },
  {
   "cell_type": "code",
   "execution_count": 30,
   "id": "740a2c5e",
   "metadata": {},
   "outputs": [
    {
     "name": "stdout",
     "output_type": "stream",
     "text": [
      "artifact_id: 1d3dbf2e-3bcb-466f-8396-e0583778d437\n",
      "created_at: 2024-02-26 19:08:24+00:00\n",
      "execution_id: None\n",
      "kind: Kind.MODEL\n",
      "name: gsalomone-model\n",
      "scenario_id: tf-text-clf\n",
      "url: ai://gs-tf-gpu-tutorial-secret/model\n",
      "\n",
      "artifact_id: 655cb021-31c3-407e-81d1-4ebe17177177\n",
      "created_at: 2024-02-25 04:08:05+00:00\n",
      "execution_id: None\n",
      "kind: Kind.MODEL\n",
      "name: gsalomone-model\n",
      "scenario_id: tf-text-clf\n",
      "url: ai://gs-tf-gpu-tutorial-secret/model\n",
      "\n",
      "artifact_id: 99afbbf1-602c-4793-9e62-e570b39cc95d\n",
      "created_at: 2024-02-24 22:21:44+00:00\n",
      "execution_id: None\n",
      "kind: Kind.MODEL\n",
      "name: gsalomone-model\n",
      "scenario_id: tf-text-clf\n",
      "url: ai://gs-tf-gpu-tutorial-secret/model\n",
      "\n",
      "artifact_id: 42e66790-ee60-42bf-82fd-c6425ffeabbe\n",
      "created_at: 2024-02-24 21:13:30+00:00\n",
      "execution_id: None\n",
      "kind: Kind.MODEL\n",
      "name: tf-txt-clf-model\n",
      "scenario_id: tf-text-clf\n",
      "url: ai://gs-tf-gpu-tutorial-secret/model\n",
      "\n",
      "artifact_id: 8876627d-0e8c-4970-a3f6-344ad88eabff\n",
      "created_at: 2024-02-13 22:26:53+00:00\n",
      "execution_id: None\n",
      "kind: Kind.MODEL\n",
      "name: tf-txt-clf-model\n",
      "scenario_id: tf-text-clf\n",
      "url: ai://gsalomone-tf-gpu-secret/model\n",
      "\n",
      "artifact_id: fb12ac38-03b0-4e6b-b0e0-3f305fe5adc4\n",
      "created_at: 2024-02-13 20:49:04+00:00\n",
      "execution_id: None\n",
      "kind: Kind.MODEL\n",
      "name: tf-txt-clf-model\n",
      "scenario_id: tf-text-clf\n",
      "url: ai://gsalomone-tf-gpu-secret/model\n",
      "\n",
      "artifact_id: 9f2abd1b-4331-4c1c-b76b-f73ba7a5d0e1\n",
      "created_at: 2024-02-10 00:57:58+00:00\n",
      "execution_id: None\n",
      "kind: Kind.DATASET\n",
      "name: House Price Dataset 201\n",
      "scenario_id: learning-datalines\n",
      "url: ai://gsalomone-s3/data/feb\n",
      "\n",
      "artifact_id: 017f17c8-0b93-469e-aa51-b2b6f63af247\n",
      "created_at: 2024-02-10 00:57:56+00:00\n",
      "execution_id: None\n",
      "kind: Kind.DATASET\n",
      "name: House Price Dataset 101\n",
      "scenario_id: learning-datalines\n",
      "url: ai://gsalomone-s3/data/jan\n",
      "\n"
     ]
    }
   ],
   "source": [
    "# Show artifacts\n",
    "artifacts = ai_core_client.artifact.query(resource_group='default')\n",
    "\n",
    "artifact_resources = artifacts.resources\n",
    "\n",
    "for resource in artifact_resources:\n",
    "    print(f\"artifact_id: {resource.id}\")\n",
    "    print(f\"created_at: {resource.created_at}\")\n",
    "    print(f\"execution_id: {resource.execution_id}\")\n",
    "    print(f\"kind: {resource.kind}\")\n",
    "    print(f\"name: {resource.name}\")\n",
    "    print(f\"scenario_id: {resource.scenario_id}\")\n",
    "    print(f\"url: {resource.url}\\n\")"
   ]
  },
  {
   "cell_type": "code",
   "execution_count": 31,
   "id": "8cab0e5e",
   "metadata": {},
   "outputs": [
    {
     "data": {
      "text/plain": [
       "'1d3dbf2e-3bcb-466f-8396-e0583778d437'"
      ]
     },
     "execution_count": 31,
     "metadata": {},
     "output_type": "execute_result"
    }
   ],
   "source": [
    "# Latest artifact is apparently at the top of the list, so let's define\n",
    "artifact_id = artifact_resources[0].id\n",
    "artifact_id"
   ]
  },
  {
   "cell_type": "code",
   "execution_count": null,
   "id": "e9feeeb2",
   "metadata": {},
   "outputs": [],
   "source": [
    "# Just showing another way to get artifact data\n",
    "from pprint import pprint\n",
    "\n",
    "res = ai_core_client.artifact.get(artifact_id=artifact_id, resource_group='default')\n",
    "pprint(res.__dict__)"
   ]
  },
  {
   "cell_type": "markdown",
   "id": "5b56878e",
   "metadata": {},
   "source": [
    "## Step 5: set up serving code\n",
    "```\n",
    "cd server\n",
    "sudo docker login docker.io  # Password is the Personal Access Token\n",
    "sudo docker build -t docker.io/gsalomone/movie-review-clf-serve:0.0.1 .\n",
    "sudo docker push docker.io/gsalomone/movie-review-clf-serve:0.0.1\n",
    "```\n",
    "- Modify requirements to install latest versions\n",
    "- Use flag `--ignore-installed` in Dockerfile\n"
   ]
  },
  {
   "cell_type": "markdown",
   "id": "56c4125c",
   "metadata": {},
   "source": [
    "## Step 8: create configuration"
   ]
  },
  {
   "cell_type": "code",
   "execution_count": 32,
   "id": "5a37bf0d-1677-47cb-8a08-a680d3e73b61",
   "metadata": {},
   "outputs": [
    {
     "name": "stdout",
     "output_type": "stream",
     "text": [
      "{'id': 'bd2b393d-025e-4518-8b99-e6297d1e1b83', 'message': 'Configuration created'}\n"
     ]
    }
   ],
   "source": [
    "\n",
    "# Create configuration\n",
    "from ai_core_sdk.models import InputArtifactBinding\n",
    "\n",
    "EXECUTABLE_ID = \"tf-text-clf-serve\"  # It's the (first) `name` key in the yaml file\n",
    "\n",
    "response = ai_core_client.configuration.create(\n",
    "    name = \"gsalomone-tf-gpu-conf\",\n",
    "    resource_group = \"default\",\n",
    "    scenario_id = SCENARIO_ID,\n",
    "    executable_id = EXECUTABLE_ID,\n",
    "    input_artifact_bindings = [\n",
    "        InputArtifactBinding(key=\"modelArtifact\", artifact_id = artifact_id), # Change artifact id\n",
    "    ]\n",
    ")\n",
    "\n",
    "print(response.__dict__)\n",
    "config_id = response.id"
   ]
  },
  {
   "cell_type": "code",
   "execution_count": 34,
   "id": "41f687cc",
   "metadata": {},
   "outputs": [
    {
     "name": "stdout",
     "output_type": "stream",
     "text": [
      "{'created_at': datetime.datetime(2024, 2, 26, 19, 9, 59, tzinfo=datetime.timezone.utc),\n",
      " 'executable_id': 'tf-text-clf-serve',\n",
      " 'id': 'bd2b393d-025e-4518-8b99-e6297d1e1b83',\n",
      " 'input_artifact_bindings': [<ai_api_client_sdk.models.input_artifact_binding.InputArtifactBinding object at 0x763ab65249d0>],\n",
      " 'name': 'gsalomone-tf-gpu-conf',\n",
      " 'parameter_bindings': [],\n",
      " 'scenario': None,\n",
      " 'scenario_id': 'tf-text-clf'}\n",
      "{'created_at': datetime.datetime(2024, 2, 25, 4, 40, 5, tzinfo=datetime.timezone.utc),\n",
      " 'executable_id': 'tf-text-clf-serve',\n",
      " 'id': '5e4247a5-849e-4c90-813b-87e1795496db',\n",
      " 'input_artifact_bindings': [<ai_api_client_sdk.models.input_artifact_binding.InputArtifactBinding object at 0x763ab65582b0>],\n",
      " 'name': 'gsalomone-tf-gpu-conf',\n",
      " 'parameter_bindings': [],\n",
      " 'scenario': None,\n",
      " 'scenario_id': 'tf-text-clf'}\n",
      "{'created_at': datetime.datetime(2024, 2, 24, 21, 13, 31, tzinfo=datetime.timezone.utc),\n",
      " 'executable_id': 'tf-text-clf-serve',\n",
      " 'id': 'd1f12b53-1b32-4164-930b-b58a6ecd60df',\n",
      " 'input_artifact_bindings': [<ai_api_client_sdk.models.input_artifact_binding.InputArtifactBinding object at 0x763ab64906a0>],\n",
      " 'name': 'gsalomone-tf-gpu-conf',\n",
      " 'parameter_bindings': [],\n",
      " 'scenario': None,\n",
      " 'scenario_id': 'tf-text-clf'}\n",
      "{'created_at': datetime.datetime(2024, 2, 22, 19, 1, 7, tzinfo=datetime.timezone.utc),\n",
      " 'executable_id': 'house-metrics-train',\n",
      " 'id': '15aeaeb7-1df5-4682-b29c-8df71dde7242',\n",
      " 'input_artifact_bindings': [<ai_api_client_sdk.models.input_artifact_binding.InputArtifactBinding object at 0x763ab6508070>],\n",
      " 'name': 'House Price (Jan) metrics',\n",
      " 'parameter_bindings': [<ai_api_client_sdk.models.parameter_binding.ParameterBinding object at 0x763ab650bb80>],\n",
      " 'scenario': None,\n",
      " 'scenario_id': 'learning-datalines'}\n",
      "{'created_at': datetime.datetime(2024, 2, 19, 18, 59, 23, tzinfo=datetime.timezone.utc),\n",
      " 'executable_id': 'code-pipeline-ncellini',\n",
      " 'id': '31d166ff-b0c9-4563-a8d9-136112a346a3',\n",
      " 'input_artifact_bindings': [],\n",
      " 'name': 'code-workflow-1-ncellini',\n",
      " 'parameter_bindings': [],\n",
      " 'scenario': None,\n",
      " 'scenario_id': 'learning-code'}\n",
      "{'created_at': datetime.datetime(2024, 2, 13, 22, 27, 18, tzinfo=datetime.timezone.utc),\n",
      " 'executable_id': 'tf-text-clf-serve',\n",
      " 'id': '78942804-7938-4a00-b66d-09116deea3ee',\n",
      " 'input_artifact_bindings': [<ai_api_client_sdk.models.input_artifact_binding.InputArtifactBinding object at 0x763ab6506fb0>],\n",
      " 'name': 'gsalomone-tf-gpu-conf',\n",
      " 'parameter_bindings': [],\n",
      " 'scenario': None,\n",
      " 'scenario_id': 'tf-text-clf'}\n",
      "{'created_at': datetime.datetime(2024, 2, 13, 22, 2, 31, tzinfo=datetime.timezone.utc),\n",
      " 'executable_id': 'tf-text-clf-serve',\n",
      " 'id': '9ba56439-644b-40ac-b51e-080d4c4de918',\n",
      " 'input_artifact_bindings': [<ai_api_client_sdk.models.input_artifact_binding.InputArtifactBinding object at 0x763ab6507ca0>],\n",
      " 'name': 'gsalomone-tf-gpu-conf',\n",
      " 'parameter_bindings': [],\n",
      " 'scenario': None,\n",
      " 'scenario_id': 'tf-text-clf'}\n",
      "{'created_at': datetime.datetime(2024, 2, 10, 14, 50, 59, tzinfo=datetime.timezone.utc),\n",
      " 'executable_id': 'data-pipeline',\n",
      " 'id': '27839d28-f67e-407b-9d4b-d40982c47eaa',\n",
      " 'input_artifact_bindings': [<ai_api_client_sdk.models.input_artifact_binding.InputArtifactBinding object at 0x763ab6507430>],\n",
      " 'name': 'House Price (Jan) metrics',\n",
      " 'parameter_bindings': [<ai_api_client_sdk.models.parameter_binding.ParameterBinding object at 0x763ab6504af0>],\n",
      " 'scenario': None,\n",
      " 'scenario_id': 'learning-datalines'}\n",
      "{'created_at': datetime.datetime(2024, 2, 10, 2, 1, 6, tzinfo=datetime.timezone.utc),\n",
      " 'executable_id': 'data-pipeline',\n",
      " 'id': '24634468-0e22-412d-8430-fda01aff8afb',\n",
      " 'input_artifact_bindings': [<ai_api_client_sdk.models.input_artifact_binding.InputArtifactBinding object at 0x763ab6507970>],\n",
      " 'name': 'House Price February 1',\n",
      " 'parameter_bindings': [<ai_api_client_sdk.models.parameter_binding.ParameterBinding object at 0x763ab6507130>],\n",
      " 'scenario': None,\n",
      " 'scenario_id': 'learning-datalines'}\n",
      "{'created_at': datetime.datetime(2024, 2, 10, 1, 57, 41, tzinfo=datetime.timezone.utc),\n",
      " 'executable_id': 'data-pipeline',\n",
      " 'id': 'ee0bb280-1850-4ee4-9feb-db05b56369b6',\n",
      " 'input_artifact_bindings': [<ai_api_client_sdk.models.input_artifact_binding.InputArtifactBinding object at 0x763ab65066b0>],\n",
      " 'name': 'House Price February 1',\n",
      " 'parameter_bindings': [<ai_api_client_sdk.models.parameter_binding.ParameterBinding object at 0x763ab6504820>],\n",
      " 'scenario': None,\n",
      " 'scenario_id': 'learning-datalines'}\n",
      "{'created_at': datetime.datetime(2024, 2, 10, 1, 54, 42, tzinfo=datetime.timezone.utc),\n",
      " 'executable_id': 'data-pipeline',\n",
      " 'id': '4fc0f712-8a49-479b-8cf5-6498ca89d221',\n",
      " 'input_artifact_bindings': [<ai_api_client_sdk.models.input_artifact_binding.InputArtifactBinding object at 0x763ab6504490>],\n",
      " 'name': 'House Price February 1',\n",
      " 'parameter_bindings': [<ai_api_client_sdk.models.parameter_binding.ParameterBinding object at 0x763ab6507fd0>],\n",
      " 'scenario': None,\n",
      " 'scenario_id': 'learning-datalines'}\n",
      "{'created_at': datetime.datetime(2024, 2, 10, 1, 52, 48, tzinfo=datetime.timezone.utc),\n",
      " 'executable_id': 'data-pipeline',\n",
      " 'id': '2da0f802-ab1c-44fd-a657-e84ff62cc7f3',\n",
      " 'input_artifact_bindings': [<ai_api_client_sdk.models.input_artifact_binding.InputArtifactBinding object at 0x763ab6504d90>],\n",
      " 'name': 'House Price January 1',\n",
      " 'parameter_bindings': [<ai_api_client_sdk.models.parameter_binding.ParameterBinding object at 0x763ab6504970>],\n",
      " 'scenario': None,\n",
      " 'scenario_id': 'learning-datalines'}\n",
      "{'created_at': datetime.datetime(2024, 2, 10, 1, 46, 10, tzinfo=datetime.timezone.utc),\n",
      " 'executable_id': 'data-pipeline',\n",
      " 'id': 'b481580c-273e-4cab-a034-c97f5e9ecaa7',\n",
      " 'input_artifact_bindings': [<ai_api_client_sdk.models.input_artifact_binding.InputArtifactBinding object at 0x763ab65073d0>],\n",
      " 'name': 'House Price January 1',\n",
      " 'parameter_bindings': [<ai_api_client_sdk.models.parameter_binding.ParameterBinding object at 0x763ab65070d0>],\n",
      " 'scenario': None,\n",
      " 'scenario_id': 'learning-datalines'}\n",
      "{'created_at': datetime.datetime(2024, 2, 10, 1, 6, 41, tzinfo=datetime.timezone.utc),\n",
      " 'executable_id': 'data-pipeline',\n",
      " 'id': '46b79f8f-0d24-44a9-9156-fec225b69217',\n",
      " 'input_artifact_bindings': [<ai_api_client_sdk.models.input_artifact_binding.InputArtifactBinding object at 0x763ab6506920>],\n",
      " 'name': 'House Price January 1',\n",
      " 'parameter_bindings': [<ai_api_client_sdk.models.parameter_binding.ParameterBinding object at 0x763ab6507d60>],\n",
      " 'scenario': None,\n",
      " 'scenario_id': 'learning-datalines'}\n",
      "{'created_at': datetime.datetime(2024, 2, 8, 18, 5, 27, tzinfo=datetime.timezone.utc),\n",
      " 'executable_id': 'first-pipeline-ncellini',\n",
      " 'id': 'e632c3e7-5c45-4ffd-95da-544822fe418a',\n",
      " 'input_artifact_bindings': [],\n",
      " 'name': 'hello-pipeline-conf-ncellini',\n",
      " 'parameter_bindings': [],\n",
      " 'scenario': None,\n",
      " 'scenario_id': 'learning'}\n",
      "{'created_at': datetime.datetime(2024, 1, 24, 23, 43, 57, tzinfo=datetime.timezone.utc),\n",
      " 'executable_id': 'code-pipeline-01-gsalomone',\n",
      " 'id': 'a2cedfa2-08fd-44be-9d98-ab7b8205ff08',\n",
      " 'input_artifact_bindings': [],\n",
      " 'name': 'code-workflow-1',\n",
      " 'parameter_bindings': [],\n",
      " 'scenario': None,\n",
      " 'scenario_id': 'learning-code'}\n",
      "{'created_at': datetime.datetime(2024, 1, 24, 23, 40, 41, tzinfo=datetime.timezone.utc),\n",
      " 'executable_id': 'code-pipeline-01-gsalomone',\n",
      " 'id': '1338cc7f-6e96-4d14-b475-01a250ac0352',\n",
      " 'input_artifact_bindings': [],\n",
      " 'name': 'code-workflow-1',\n",
      " 'parameter_bindings': [],\n",
      " 'scenario': None,\n",
      " 'scenario_id': 'learning-code'}\n",
      "{'created_at': datetime.datetime(2024, 1, 24, 23, 38, 54, tzinfo=datetime.timezone.utc),\n",
      " 'executable_id': 'code-pipeline-01-gsalomone',\n",
      " 'id': '6c034d2b-d39e-4d65-b0aa-9b453bf6de1a',\n",
      " 'input_artifact_bindings': [],\n",
      " 'name': 'code-workflow-1',\n",
      " 'parameter_bindings': [],\n",
      " 'scenario': None,\n",
      " 'scenario_id': 'learning-code'}\n",
      "{'created_at': datetime.datetime(2024, 1, 24, 23, 33, 24, tzinfo=datetime.timezone.utc),\n",
      " 'executable_id': 'code-pipeline-01-gsalomone',\n",
      " 'id': '14b14b45-5d2e-4e26-b561-60e272067610',\n",
      " 'input_artifact_bindings': [],\n",
      " 'name': 'code-workflow-1',\n",
      " 'parameter_bindings': [],\n",
      " 'scenario': None,\n",
      " 'scenario_id': 'learning-code'}\n",
      "{'created_at': datetime.datetime(2024, 1, 24, 23, 29, 40, tzinfo=datetime.timezone.utc),\n",
      " 'executable_id': 'code-pipeline-01-gsalomone',\n",
      " 'id': 'a1e197c1-8a2f-4906-8a1d-d7bc02fe22ce',\n",
      " 'input_artifact_bindings': [],\n",
      " 'name': 'code-workflow-1',\n",
      " 'parameter_bindings': [],\n",
      " 'scenario': None,\n",
      " 'scenario_id': 'learning-code'}\n",
      "{'created_at': datetime.datetime(2024, 1, 24, 23, 28, 40, tzinfo=datetime.timezone.utc),\n",
      " 'executable_id': 'code-pipeline-01-gsalomone',\n",
      " 'id': 'cdac5bf6-6e25-480a-a3ce-a3530ebb5a53',\n",
      " 'input_artifact_bindings': [],\n",
      " 'name': 'code-workflow-1',\n",
      " 'parameter_bindings': [],\n",
      " 'scenario': None,\n",
      " 'scenario_id': 'learning-code'}\n",
      "{'created_at': datetime.datetime(2023, 12, 14, 22, 14, 54, tzinfo=datetime.timezone.utc),\n",
      " 'executable_id': 'first-pipeline',\n",
      " 'id': '0029478f-d127-4de8-90c5-bfde3d8dd5d1',\n",
      " 'input_artifact_bindings': [],\n",
      " 'name': 'hello-pipeline-conf-gsalomone',\n",
      " 'parameter_bindings': [],\n",
      " 'scenario': None,\n",
      " 'scenario_id': 'learning'}\n"
     ]
    }
   ],
   "source": [
    "configurations = ai_core_client.configuration.query(resource_group='default')\n",
    "\n",
    "for resource in configurations.resources:\n",
    "    pprint(resource.__dict__)"
   ]
  },
  {
   "cell_type": "code",
   "execution_count": 35,
   "id": "189f8e52",
   "metadata": {},
   "outputs": [
    {
     "data": {
      "text/plain": [
       "'bd2b393d-025e-4518-8b99-e6297d1e1b83'"
      ]
     },
     "execution_count": 35,
     "metadata": {},
     "output_type": "execute_result"
    }
   ],
   "source": [
    "# Again, apparently the latest resource appears at the top, so\n",
    "configuration_id = configurations.resources[0].id\n",
    "configuration_id"
   ]
  },
  {
   "cell_type": "markdown",
   "id": "fcf24265",
   "metadata": {},
   "source": [
    "## Step 9: start deployment"
   ]
  },
  {
   "cell_type": "code",
   "execution_count": 72,
   "id": "c716d6d9-8114-4390-8233-7feb055c6268",
   "metadata": {},
   "outputs": [],
   "source": [
    "response = ai_core_client.deployment.create(\n",
    "    resource_group = \"default\",\n",
    "    configuration_id = configuration_id\n",
    ")"
   ]
  },
  {
   "cell_type": "code",
   "execution_count": 37,
   "id": "8996adf4",
   "metadata": {},
   "outputs": [
    {
     "data": {
      "text/plain": [
       "{'id': 'd5e24c30b21ad436',\n",
       " 'message': 'Deployment scheduled.',\n",
       " 'deployment_url': '',\n",
       " 'status': <Status.UNKNOWN: 'UNKNOWN'>,\n",
       " 'ttl': None}"
      ]
     },
     "execution_count": 37,
     "metadata": {},
     "output_type": "execute_result"
    }
   ],
   "source": [
    "response.__dict__"
   ]
  },
  {
   "cell_type": "code",
   "execution_count": 73,
   "id": "76f2a88d",
   "metadata": {},
   "outputs": [
    {
     "data": {
      "text/plain": [
       "'d0adb887ad48fc54'"
      ]
     },
     "execution_count": 73,
     "metadata": {},
     "output_type": "execute_result"
    }
   ],
   "source": [
    "deployments = ai_core_client.deployment.query(resource_group=\"default\")\n",
    "\n",
    "# Following what we've learned about the query method:\n",
    "deployment_id = deployments.resources[0].id\n",
    "deployment_id"
   ]
  },
  {
   "cell_type": "code",
   "execution_count": 76,
   "id": "ecc2bbc8-3712-462e-b3a6-171d9e712100",
   "metadata": {},
   "outputs": [
    {
     "name": "stdout",
     "output_type": "stream",
     "text": [
      "Status:  Status.PENDING\n",
      "********************************************************************************\n",
      "{'completion_time': None,\n",
      " 'configuration_id': 'bd2b393d-025e-4518-8b99-e6297d1e1b83',\n",
      " 'configuration_name': 'gsalomone-tf-gpu-conf',\n",
      " 'created_at': datetime.datetime(2024, 2, 26, 21, 0, 46, tzinfo=datetime.timezone.utc),\n",
      " 'deployment_url': '',\n",
      " 'details': {'resources': {'backend_details': {'predictor': {'resource_plan': 'starter'}}},\n",
      "             'scaling': {'backend_details': {'predictor': {'max_replicas': '2',\n",
      "                                                           'min_replicas': '1',\n",
      "                                                           'running_replicas': 0}}}},\n",
      " 'id': 'd0adb887ad48fc54',\n",
      " 'last_operation': <Operation.CREATE: 'CREATE'>,\n",
      " 'latest_running_configuration_id': None,\n",
      " 'modified_at': datetime.datetime(2024, 2, 26, 21, 5, 58, tzinfo=datetime.timezone.utc),\n",
      " 'scenario_id': 'tf-text-clf',\n",
      " 'start_time': None,\n",
      " 'status': <Status.PENDING: 'PENDING'>,\n",
      " 'status_details': {'deployment_info': [{'last_transition_time': '2024-02-26T21:05:04Z',\n",
      "                                         'message': None,\n",
      "                                         'status': 'True',\n",
      "                                         'type': 'IngressReady'},\n",
      "                                        {'last_transition_time': '2024-02-26T21:04:57Z',\n",
      "                                         'message': None,\n",
      "                                         'severity': 'Info',\n",
      "                                         'status': 'True',\n",
      "                                         'type': 'PredictorConfigurationReady'},\n",
      "                                        {'last_transition_time': '2024-02-26T21:05:04Z',\n",
      "                                         'message': None,\n",
      "                                         'status': 'True',\n",
      "                                         'type': 'PredictorReady'},\n",
      "                                        {'last_transition_time': '2024-02-26T21:05:04Z',\n",
      "                                         'message': None,\n",
      "                                         'severity': 'Info',\n",
      "                                         'status': 'True',\n",
      "                                         'type': 'PredictorRouteReady'},\n",
      "                                        {'last_transition_time': '2024-02-26T21:05:04Z',\n",
      "                                         'message': None,\n",
      "                                         'status': 'True',\n",
      "                                         'type': 'Ready'}],\n",
      "                    'details': {'default': {'predictor': {'revision_info': {'ready': 'True'}}}}},\n",
      " 'status_message': None,\n",
      " 'submission_time': datetime.datetime(2024, 2, 26, 21, 0, 58, tzinfo=datetime.timezone.utc),\n",
      " 'target_status': <TargetStatus.RUNNING: 'RUNNING'>,\n",
      " 'ttl': None}\n"
     ]
    }
   ],
   "source": [
    "# Check deployment status\n",
    "# This may take 2-3 minutes to change state from UNKNOWN > PENDING > RUNNING.\n",
    "\n",
    "response = ai_core_client.deployment.get(resource_group=\"default\", deployment_id=deployment_id)\n",
    "\n",
    "print(\"Status: \", response.status)\n",
    "print('*'*80)\n",
    "pprint(response.__dict__)"
   ]
  }
 ],
 "metadata": {
  "kernelspec": {
   "display_name": "Python 3 (ipykernel)",
   "language": "python",
   "name": "python3"
  },
  "language_info": {
   "codemirror_mode": {
    "name": "ipython",
    "version": 3
   },
   "file_extension": ".py",
   "mimetype": "text/x-python",
   "name": "python",
   "nbconvert_exporter": "python",
   "pygments_lexer": "ipython3",
   "version": "3.10.12"
  }
 },
 "nbformat": 4,
 "nbformat_minor": 5
}
