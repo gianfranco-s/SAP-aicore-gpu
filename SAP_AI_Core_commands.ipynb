{
 "cells": [
  {
   "cell_type": "code",
   "execution_count": 1,
   "id": "9e67bf95-d4c7-400b-b271-ed502c4372a1",
   "metadata": {},
   "outputs": [],
   "source": [
    "import json\n",
    "import os\n",
    "\n",
    "from ai_core_sdk.ai_core_v2_client import AICoreV2Client\n",
    "\n",
    "\n",
    "credentials_file = 'default_aicore.json'\n",
    "\n",
    "def get_conn_details(path_to_credentials: str = credentials_file) -> dict:\n",
    "    with open(path_to_credentials, 'r') as f:\n",
    "        credentials = json.load(f)\n",
    "\n",
    "    return {\n",
    "        'base_url': credentials.get('serviceurls').get('AI_API_URL') + '/v2',\n",
    "        'auth_url': credentials.get('url') + \"/oauth/token\",\n",
    "        'client_id': credentials.get('clientid'),\n",
    "        'client_secret': credentials.get('clientsecret'),\n",
    "    }\n",
    "\n",
    "\n",
    "def get_ai_core_client(path_to_credentials: str = credentials_file) -> AICoreV2Client:\n",
    "    conn_details = get_conn_details(path_to_credentials)\n",
    "    return AICoreV2Client(**conn_details)\n"
   ]
  },
  {
   "cell_type": "code",
   "execution_count": 2,
   "id": "0dc7348b-5603-49e3-911c-eabea1617540",
   "metadata": {},
   "outputs": [],
   "source": [
    "ai_core_client = get_ai_core_client()"
   ]
  },
  {
   "cell_type": "code",
   "execution_count": null,
   "id": "ef95d95a-d6b4-445a-b708-d30a670bcfaa",
   "metadata": {},
   "outputs": [],
   "source": [
    "# response = ai_core_client.resource_groups.create(\"tf-demo\")\n",
    "# Using default resource group because \"Resource Group cannot be created for free tier tenant\""
   ]
  },
  {
   "cell_type": "code",
   "execution_count": 3,
   "id": "b7fff6d7-94ff-416c-a781-e45d31a05e1d",
   "metadata": {},
   "outputs": [
    {
     "name": "stdout",
     "output_type": "stream",
     "text": [
      "default\n"
     ]
    }
   ],
   "source": [
    "response = ai_core_client.resource_groups.query()\n",
    "\n",
    "for rg in response.resources:\n",
    "    print(rg.resource_group_id)"
   ]
  },
  {
   "cell_type": "markdown",
   "id": "a90aef5d-58f4-4a61-801d-6f46b6ba13d3",
   "metadata": {},
   "source": [
    "Create bucket\n",
    "```\n",
    "aws s3api create-bucket --bucket gsalomone-celestial-bucket --region us-east-1\n",
    "```\n",
    "\n",
    "Upload files\n",
    "```\n",
    "cd tf_files\n",
    "aws s3 cp model.h5 s3://gsalomone-celestial-bucket/movie-clf/model/  \n",
    "aws s3 cp max_pad_len.txt s3://gsalomone-celestial-bucket/movie-clf/model/  \n",
    "aws s3 cp label_encoded_classes.npy s3://gsalomone-celestial-bucket/movie-clf/model/  \n",
    "aws s3 cp tokens.json s3://gsalomone-celestial-bucket/movie-clf/model/  \n",
    "```\n",
    "\n",
    "Check files\n",
    "```\n",
    "aws s3 ls s3://gsalomone-celestial-bucket/movie-clf/model/\n",
    "```"
   ]
  },
  {
   "cell_type": "code",
   "execution_count": null,
   "id": "020e1e4a-7b98-4a1b-91f6-f22df8462577",
   "metadata": {},
   "outputs": [],
   "source": []
  },
  {
   "cell_type": "code",
   "execution_count": null,
   "id": "fa471467-0b57-441b-85ae-606ce7b65590",
   "metadata": {},
   "outputs": [],
   "source": []
  },
  {
   "cell_type": "code",
   "execution_count": null,
   "id": "ee1d2184-ab79-432d-a287-a1abc0186ce5",
   "metadata": {},
   "outputs": [],
   "source": []
  }
 ],
 "metadata": {
  "kernelspec": {
   "display_name": "Python 3 (ipykernel)",
   "language": "python",
   "name": "python3"
  },
  "language_info": {
   "codemirror_mode": {
    "name": "ipython",
    "version": 3
   },
   "file_extension": ".py",
   "mimetype": "text/x-python",
   "name": "python",
   "nbconvert_exporter": "python",
   "pygments_lexer": "ipython3",
   "version": "3.10.12"
  }
 },
 "nbformat": 4,
 "nbformat_minor": 5
}
