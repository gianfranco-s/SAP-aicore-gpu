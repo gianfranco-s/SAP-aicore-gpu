{
 "cells": [
  {
   "cell_type": "code",
   "execution_count": 12,
   "id": "9e67bf95-d4c7-400b-b271-ed502c4372a1",
   "metadata": {},
   "outputs": [],
   "source": [
    "from ai_core_sdk.ai_core_v2_client import AICoreV2Client\n",
    "\n",
    "from sapaicore_utils import (DOCKER_TOKEN,\n",
    "                             DOCKER_USER,\n",
    "                             get_conn_details,\n",
    "                             GITHUB_TOKEN,\n",
    "                             GITHUB_USER,\n",
    "                             onboard_repository,\n",
    "                             onboard_docker,\n",
    "                             show_docker_secrets,\n",
    "                             show_repositories,)\n",
    "\n",
    "conn_details = get_conn_details()\n",
    "ai_core_client = AICoreV2Client(**conn_details)"
   ]
  },
  {
   "cell_type": "markdown",
   "id": "472bcbee",
   "metadata": {},
   "source": [
    "## Step 0. Onboard a repository and Docker account"
   ]
  },
  {
   "cell_type": "markdown",
   "id": "8905b611",
   "metadata": {},
   "source": [
    "### GitHub repository\n",
    "We'll need a GitHub username and token"
   ]
  },
  {
   "cell_type": "code",
   "execution_count": 10,
   "id": "d0bf811b",
   "metadata": {},
   "outputs": [
    {
     "ename": "NameError",
     "evalue": "name 'onboard_repository' is not defined",
     "output_type": "error",
     "traceback": [
      "\u001b[0;31m---------------------------------------------------------------------------\u001b[0m",
      "\u001b[0;31mNameError\u001b[0m                                 Traceback (most recent call last)",
      "Cell \u001b[0;32mIn[10], line 3\u001b[0m\n\u001b[1;32m      1\u001b[0m PROJECT_NAME \u001b[38;5;241m=\u001b[39m \u001b[38;5;124m'\u001b[39m\u001b[38;5;124mgsalomone-tf-gpu\u001b[39m\u001b[38;5;124m'\u001b[39m\n\u001b[1;32m      2\u001b[0m github_repo_url \u001b[38;5;241m=\u001b[39m \u001b[38;5;124m'\u001b[39m\u001b[38;5;124mhttps://github.com/gianfranco-s/SAP-aicore-gpu\u001b[39m\u001b[38;5;124m'\u001b[39m\n\u001b[0;32m----> 3\u001b[0m \u001b[43monboard_repository\u001b[49m(github_repo_url,\n\u001b[1;32m      4\u001b[0m                    GITHUB_USER,\n\u001b[1;32m      5\u001b[0m                    GITHUB_TOKEN,\n\u001b[1;32m      6\u001b[0m                    PROJECT_NAME,\n\u001b[1;32m      7\u001b[0m                    ai_core_client)\n",
      "\u001b[0;31mNameError\u001b[0m: name 'onboard_repository' is not defined"
     ]
    }
   ],
   "source": [
    "PROJECT_NAME = 'gsalomone-tf-gpu'\n",
    "github_repo_url = 'https://github.com/gianfranco-s/SAP-aicore-gpu'\n",
    "onboard_repository(github_repo_url,\n",
    "                   GITHUB_USER,\n",
    "                   GITHUB_TOKEN,\n",
    "                   PROJECT_NAME,\n",
    "                   ai_core_client)"
   ]
  },
  {
   "cell_type": "code",
   "execution_count": null,
   "id": "f041f19e",
   "metadata": {},
   "outputs": [],
   "source": [
    "show_repositories(ai_core_client)"
   ]
  },
  {
   "cell_type": "markdown",
   "id": "7c9eb0ea",
   "metadata": {},
   "source": [
    "### Docker account"
   ]
  },
  {
   "cell_type": "code",
   "execution_count": null,
   "id": "50ce0742",
   "metadata": {},
   "outputs": [],
   "source": [
    "docker_registry_name = 'gsalomone-docker'\n",
    "onboard_docker(docker_registry_name, DOCKER_USER, DOCKER_TOKEN, ai_core_client)"
   ]
  },
  {
   "cell_type": "code",
   "execution_count": null,
   "id": "6a61015e",
   "metadata": {},
   "outputs": [],
   "source": [
    "show_docker_secrets(ai_core_client)"
   ]
  },
  {
   "cell_type": "markdown",
   "id": "a03fec94",
   "metadata": {},
   "source": [
    "## Step 1. Create workspace\n",
    "Using default resource group because when I tried to create `tf-demo`, I got the message \"Resource Group cannot be created for free tier tenant\""
   ]
  },
  {
   "cell_type": "code",
   "execution_count": null,
   "id": "ef95d95a-d6b4-445a-b708-d30a670bcfaa",
   "metadata": {},
   "outputs": [],
   "source": [
    "try:\n",
    "    response = ai_core_client.resource_groups.create(\"tf-demo\")\n",
    "\n",
    "except Exception as e:\n",
    "    print(e)"
   ]
  },
  {
   "cell_type": "code",
   "execution_count": null,
   "id": "b7fff6d7-94ff-416c-a781-e45d31a05e1d",
   "metadata": {},
   "outputs": [],
   "source": [
    "def show_resource_groups() -> None:\n",
    "    response = ai_core_client.resource_groups.query()\n",
    "\n",
    "    for rg in response.resources:\n",
    "        print(rg.resource_group_id)\n",
    "\n",
    "show_resource_groups()"
   ]
  },
  {
   "cell_type": "markdown",
   "id": "a90aef5d-58f4-4a61-801d-6f46b6ba13d3",
   "metadata": {},
   "source": [
    "## Step 2: upload model files to AWS S3\n",
    "Create bucket\n",
    "```\n",
    "aws s3api create-bucket --bucket gsalomone-celestial-bucket --region us-east-1\n",
    "```\n",
    "\n",
    "Upload files\n",
    "```\n",
    "cd tf_files\n",
    "aws s3 cp model.h5 s3://gsalomone-celestial-bucket/movie-clf/model/\n",
    "aws s3 cp max_pad_len.txt s3://gsalomone-celestial-bucket/movie-clf/model/\n",
    "aws s3 cp label_encoded_classes.npy s3://gsalomone-celestial-bucket/movie-clf/model/\n",
    "aws s3 cp tokens.json s3://gsalomone-celestial-bucket/movie-clf/model/\n",
    "```\n",
    "\n",
    "Check files\n",
    "```\n",
    "aws s3 ls s3://gsalomone-celestial-bucket/movie-clf/model/\n",
    "```\n",
    "\n",
    "Alternatively, it can be done using the AWS SDK"
   ]
  },
  {
   "cell_type": "code",
   "execution_count": 8,
   "id": "f95e6dd4",
   "metadata": {},
   "outputs": [
    {
     "name": "stdout",
     "output_type": "stream",
     "text": [
      "File uploaded successfully to S3 bucket: gsalomone-celestial-bucket with key: movie-clf/model/\n",
      "File uploaded successfully to S3 bucket: gsalomone-celestial-bucket with key: movie-clf/model/\n",
      "File uploaded successfully to S3 bucket: gsalomone-celestial-bucket with key: movie-clf/model/\n"
     ]
    }
   ],
   "source": [
    "import boto3\n",
    "\n",
    "def upload_file_to_s3(file_dir: str, file_name: str, bucket_name: str, s3_key: str) -> None:\n",
    "    s3 = boto3.client('s3')\n",
    "    try:\n",
    "        s3.upload_file(file_dir + file_name, bucket_name, s3_key + file_name)\n",
    "        print(f\"File uploaded successfully to S3 bucket: {bucket_name} with key: {s3_key}\")\n",
    "    except Exception as e:\n",
    "        print(f\"Error uploading file to S3: {e}\")\n",
    "\n",
    "bucket_name = 'gsalomone-celestial-bucket'\n",
    "s3_key = 'movie-clf/model/'\n",
    "file_dir = 'tf_files/'\n",
    "\n",
    "upload_file_to_s3(file_dir, 'model.h5', bucket_name, s3_key)\n",
    "upload_file_to_s3(file_dir, 'max_pad_len.txt', bucket_name, s3_key)\n",
    "upload_file_to_s3(file_dir, 'label_encoded_classes.npy', bucket_name, s3_key)\n",
    "upload_file_to_s3(file_dir, 'tokens.json', bucket_name, s3_key)\n"
   ]
  },
  {
   "cell_type": "markdown",
   "id": "1b94cf5e",
   "metadata": {},
   "source": [
    "## Step 3: connect AWS S3 to SAP AI Core\n"
   ]
  },
  {
   "cell_type": "code",
   "execution_count": 9,
   "id": "6c93e76a-a7d8-4896-a0e9-a81caea935de",
   "metadata": {},
   "outputs": [],
   "source": [
    "# aws_credentials_file = '/home/gsalomone/Documents/gian-dev_accessKeys.csv'\n",
    "aws_credentials_file = '/home/gian/gian-dev_accessKeys.csv'\n",
    "\n",
    "def get_aws_credentials(filepath: str) -> tuple:\n",
    "    with open(filepath, 'r') as f:\n",
    "        creds = f.readlines()[1:2][0]\n",
    "        aws_access_key_id, aws_secret_access_key = creds.split(',')\n",
    "        return aws_access_key_id, aws_secret_access_key\n",
    "\n",
    "aws_access_key_id, aws_secret_access_key = get_aws_credentials(aws_credentials_file)\n",
    "aws_az = 'us-east-1'\n",
    "object_store_name = 'gs-tf-gpu-tutorial-secret'"
   ]
  },
  {
   "cell_type": "code",
   "execution_count": null,
   "id": "020e1e4a-7b98-4a1b-91f6-f22df8462577",
   "metadata": {},
   "outputs": [],
   "source": [
    "def create_s3_object_store() -> str:\n",
    "    response = ai_core_client.object_store_secrets.create(\n",
    "        resource_group = 'default',\n",
    "        type = \"S3\",\n",
    "        name = object_store_name,\n",
    "        path_prefix = \"movie-clf\",\n",
    "        endpoint = f\"s3-{aws_az}.amazonaws.com\",\n",
    "        bucket = \"gsalomone-celestial-bucket\",\n",
    "        region = aws_az,\n",
    "        data = {\n",
    "            \"AWS_ACCESS_KEY_ID\": aws_access_key_id,\n",
    "            \"AWS_SECRET_ACCESS_KEY\": aws_secret_access_key\n",
    "        }\n",
    "    )\n",
    "\n",
    "    return response.message\n",
    "\n",
    "res = create_s3_object_store()\n",
    "res"
   ]
  },
  {
   "cell_type": "markdown",
   "id": "d2139160",
   "metadata": {},
   "source": [
    "## Step 4: register model as Artifact\n",
    "Let's follow the tutorial to the letter.\n",
    "\n",
    "Spoiler: it will not work. **We'll follow step 6 first**"
   ]
  },
  {
   "cell_type": "code",
   "execution_count": 22,
   "id": "72320208",
   "metadata": {},
   "outputs": [],
   "source": [
    "# Register model as artifact\n",
    "from ai_core_sdk.models import Artifact\n",
    "\n",
    "def create_model(model_name: str, object_store_name: str, scenario_id: str, description: str) -> str:\n",
    "    \"\"\"Create artifact as model\n",
    "    \n",
    "    Keyword arguments:\n",
    "    model_name -- self explanatory\n",
    "    object_store_name -- s3 object store\n",
    "    scenario_id -- taken form the yaml file, found under `scenarios.ai.sap.com/id`\n",
    "    Return: return_description\n",
    "    \"\"\"\n",
    "    \n",
    "    response = ai_core_client.artifact.create(\n",
    "        resource_group = 'default',\n",
    "        name = model_name,\n",
    "        kind = Artifact.Kind.MODEL,\n",
    "        url = f\"ai://{object_store_name}/model\",\n",
    "        scenario_id = scenario_id,\n",
    "        description = description\n",
    "    )\n",
    "    return response.message"
   ]
  },
  {
   "cell_type": "code",
   "execution_count": null,
   "id": "a8ab4e42",
   "metadata": {},
   "outputs": [],
   "source": [
    "try:\n",
    "    msg = create_model(model_name='gsalomone-model',\n",
    "                       scenario_id='tf-text-clf',\n",
    "                       description='Review Classification Model',\n",
    "                       object_store_name=object_store_name,)\n",
    "\n",
    "    print(msg)\n",
    "except Exception as e:\n",
    "    print(e)"
   ]
  },
  {
   "cell_type": "markdown",
   "id": "789b0580",
   "metadata": {},
   "source": [
    "### Step 4 -> Step 6: we need to set up the scenario_id FIRST\n",
    "It turns out that `scenario_id` is created from the yaml file. So we'll move to step 6 of the tutorial\n",
    "\n",
    "- Copy [`serving_executable.yaml`](https://raw.githubusercontent.com/sap-tutorials/Tutorials/master/tutorials/ai-core-tensorflow-byod/files/workflow/serving_executable.yaml)\n",
    "- set `resourcePlan` to `infer.s` which will enable GPU.\n",
    "- set `imagePullSecrets > name` to the appropriate docker registry secret. In this tutorial you'll find it in variable `docker_registry_name`\n",
    "- set `containers > image` is set to `\"docker.io/DOCKER_USER/movie-review-clf-serve:0.0.1\"`"
   ]
  },
  {
   "cell_type": "markdown",
   "id": "c945ec69",
   "metadata": {},
   "source": [
    "### Step 4 -> Step 7: sync with SAP AI Core\n",
    "- Push `serving_executable.yaml` to GitHub\n",
    "- Create the application in SAP AI Core\n",
    "- Check for typos in yaml file `executables.ai.sap.com/name: \"serve-executuable\"` -> `executables.ai.sap.com/name: \"serve-executable\"`\n"
   ]
  },
  {
   "cell_type": "code",
   "execution_count": 13,
   "id": "80064c3a-b1e0-4b60-b872-55775fc255c4",
   "metadata": {},
   "outputs": [],
   "source": [
    "# Create application\n",
    "application_name = 'gsalomone-tf-app'\n",
    "response = ai_core_client.applications.create(\n",
    "    application_name = application_name,\n",
    "    revision = \"HEAD\",\n",
    "    repository_url = github_repo_url,\n",
    "    path = \"tf-text-classifier\"  # path to the yaml file in the repository\n",
    ")\n"
   ]
  },
  {
   "cell_type": "code",
   "execution_count": 14,
   "id": "21675f0e",
   "metadata": {},
   "outputs": [
    {
     "data": {
      "text/plain": [
       "{'id': 'gsalomone-tf-app',\n",
       " 'message': 'Application has been successfully created.'}"
      ]
     },
     "execution_count": 14,
     "metadata": {},
     "output_type": "execute_result"
    }
   ],
   "source": [
    "response.__dict__"
   ]
  },
  {
   "cell_type": "code",
   "execution_count": 18,
   "id": "86f9ae74-3fd3-4b60-9c71-8c5bdb9a593e",
   "metadata": {},
   "outputs": [
    {
     "name": "stdout",
     "output_type": "stream",
     "text": [
      "successfully synced (all tasks run)\n",
      "\n",
      "application status:  Synced\n",
      "workflow message:  servingtemplate.ai.sap.com/tf-text-clf-serve created\n",
      "application name (from yaml file):  tf-text-clf-serve\n"
     ]
    }
   ],
   "source": [
    "response = ai_core_client.applications.get_status(application_name=application_name)\n",
    "print(response.message)\n",
    "\n",
    "for workflow_sync_status in response.sync_ressources_status:\n",
    "    print(f'\\napplication status: ', workflow_sync_status.status)\n",
    "    print(f'workflow message: ', workflow_sync_status.message)\n",
    "    print(f'application name (from yaml file): ', workflow_sync_status.name)"
   ]
  },
  {
   "cell_type": "markdown",
   "id": "15c00b06",
   "metadata": {},
   "source": [
    "### Step 4 -> Step 4: NOW register model as artifact"
   ]
  },
  {
   "cell_type": "code",
   "execution_count": 54,
   "id": "ee1d2184-ab79-432d-a287-a1abc0186ce5",
   "metadata": {},
   "outputs": [
    {
     "name": "stdout",
     "output_type": "stream",
     "text": [
      "Artifact acknowledged\n"
     ]
    }
   ],
   "source": [
    "SCENARIO_ID = 'tf-text-clf'  # Remember to take it from the yaml file: `scenarios.ai.sap.com/id`\n",
    "msg = create_model(model_name='gsalomone-model',\n",
    "                    scenario_id=SCENARIO_ID,\n",
    "                    description='Review Classification Model',\n",
    "                    object_store_name=object_store_name,)\n",
    "\n",
    "print(msg)\n"
   ]
  },
  {
   "cell_type": "code",
   "execution_count": 51,
   "id": "740a2c5e",
   "metadata": {},
   "outputs": [
    {
     "name": "stdout",
     "output_type": "stream",
     "text": [
      "artifact_id: 655cb021-31c3-407e-81d1-4ebe17177177\n",
      "created_at: 2024-02-25 04:08:05+00:00\n",
      "execution_id: None\n",
      "kind: Kind.MODEL\n",
      "name: gsalomone-model\n",
      "scenario_id: tf-text-clf\n",
      "url: ai://gs-tf-gpu-tutorial-secret/model\n",
      "\n",
      "artifact_id: 99afbbf1-602c-4793-9e62-e570b39cc95d\n",
      "created_at: 2024-02-24 22:21:44+00:00\n",
      "execution_id: None\n",
      "kind: Kind.MODEL\n",
      "name: gsalomone-model\n",
      "scenario_id: tf-text-clf\n",
      "url: ai://gs-tf-gpu-tutorial-secret/model\n",
      "\n",
      "artifact_id: 42e66790-ee60-42bf-82fd-c6425ffeabbe\n",
      "created_at: 2024-02-24 21:13:30+00:00\n",
      "execution_id: None\n",
      "kind: Kind.MODEL\n",
      "name: tf-txt-clf-model\n",
      "scenario_id: tf-text-clf\n",
      "url: ai://gs-tf-gpu-tutorial-secret/model\n",
      "\n",
      "artifact_id: 8876627d-0e8c-4970-a3f6-344ad88eabff\n",
      "created_at: 2024-02-13 22:26:53+00:00\n",
      "execution_id: None\n",
      "kind: Kind.MODEL\n",
      "name: tf-txt-clf-model\n",
      "scenario_id: tf-text-clf\n",
      "url: ai://gsalomone-tf-gpu-secret/model\n",
      "\n",
      "artifact_id: fb12ac38-03b0-4e6b-b0e0-3f305fe5adc4\n",
      "created_at: 2024-02-13 20:49:04+00:00\n",
      "execution_id: None\n",
      "kind: Kind.MODEL\n",
      "name: tf-txt-clf-model\n",
      "scenario_id: tf-text-clf\n",
      "url: ai://gsalomone-tf-gpu-secret/model\n",
      "\n",
      "artifact_id: 9f2abd1b-4331-4c1c-b76b-f73ba7a5d0e1\n",
      "created_at: 2024-02-10 00:57:58+00:00\n",
      "execution_id: None\n",
      "kind: Kind.DATASET\n",
      "name: House Price Dataset 201\n",
      "scenario_id: learning-datalines\n",
      "url: ai://gsalomone-s3/data/feb\n",
      "\n",
      "artifact_id: 017f17c8-0b93-469e-aa51-b2b6f63af247\n",
      "created_at: 2024-02-10 00:57:56+00:00\n",
      "execution_id: None\n",
      "kind: Kind.DATASET\n",
      "name: House Price Dataset 101\n",
      "scenario_id: learning-datalines\n",
      "url: ai://gsalomone-s3/data/jan\n",
      "\n"
     ]
    }
   ],
   "source": [
    "# Show artifacts\n",
    "\n",
    "from datetime import datetime\n",
    "artifacts = ai_core_client.artifact.query(resource_group='default')\n",
    "\n",
    "artifact_resources = artifacts.resources\n",
    "\n",
    "for resource in artifact_resources:\n",
    "    print(f\"artifact_id: {resource.id}\")\n",
    "    print(f\"created_at: {resource.created_at}\")\n",
    "    print(f\"execution_id: {resource.execution_id}\")\n",
    "    print(f\"kind: {resource.kind}\")\n",
    "    print(f\"name: {resource.name}\")\n",
    "    print(f\"scenario_id: {resource.scenario_id}\")\n",
    "    print(f\"url: {resource.url}\\n\")"
   ]
  },
  {
   "cell_type": "code",
   "execution_count": 56,
   "id": "8cab0e5e",
   "metadata": {},
   "outputs": [
    {
     "data": {
      "text/plain": [
       "'655cb021-31c3-407e-81d1-4ebe17177177'"
      ]
     },
     "execution_count": 56,
     "metadata": {},
     "output_type": "execute_result"
    }
   ],
   "source": [
    "# Latest artifact is apparently at the top of the list, so let's define\n",
    "artifact_id = artifact_resources[0].id\n",
    "artifact_id"
   ]
  },
  {
   "cell_type": "code",
   "execution_count": 61,
   "id": "e9feeeb2",
   "metadata": {},
   "outputs": [
    {
     "name": "stdout",
     "output_type": "stream",
     "text": [
      "{'configuration_id': None,\n",
      " 'created_at': datetime.datetime(2024, 2, 25, 4, 8, 5, tzinfo=datetime.timezone.utc),\n",
      " 'description': 'Review Classification Model',\n",
      " 'execution_id': None,\n",
      " 'id': '655cb021-31c3-407e-81d1-4ebe17177177',\n",
      " 'kind': <Kind.MODEL: 'model'>,\n",
      " 'labels': None,\n",
      " 'modified_at': datetime.datetime(2024, 2, 25, 4, 8, 5, tzinfo=datetime.timezone.utc),\n",
      " 'name': 'gsalomone-model',\n",
      " 'scenario': None,\n",
      " 'scenario_id': 'tf-text-clf',\n",
      " 'url': 'ai://gs-tf-gpu-tutorial-secret/model'}\n"
     ]
    }
   ],
   "source": [
    "# Just showing another way to get artifact data\n",
    "from pprint import pprint\n",
    "\n",
    "res = ai_core_client.artifact.get(artifact_id=artifact_id, resource_group='default')\n",
    "pprint(res.__dict__)"
   ]
  },
  {
   "cell_type": "markdown",
   "id": "56c4125c",
   "metadata": {},
   "source": [
    "## Step 8: create configuration"
   ]
  },
  {
   "cell_type": "code",
   "execution_count": 55,
   "id": "5a37bf0d-1677-47cb-8a08-a680d3e73b61",
   "metadata": {},
   "outputs": [
    {
     "name": "stdout",
     "output_type": "stream",
     "text": [
      "{'id': '5e4247a5-849e-4c90-813b-87e1795496db', 'message': 'Configuration created'}\n"
     ]
    }
   ],
   "source": [
    "\n",
    "# Create configuration\n",
    "from ai_core_sdk.models import InputArtifactBinding\n",
    "\n",
    "EXECUTABLE_ID = \"tf-text-clf-serve\"  # It's the (first) `name` key in the yaml file\n",
    "\n",
    "response = ai_core_client.configuration.create(\n",
    "    name = \"gsalomone-tf-gpu-conf\",\n",
    "    resource_group = \"default\",\n",
    "    scenario_id = SCENARIO_ID,\n",
    "    executable_id = EXECUTABLE_ID,\n",
    "    input_artifact_bindings = [\n",
    "        # list\n",
    "        InputArtifactBinding(key=\"modelArtifact\", artifact_id = artifact_id), # Change artifact id\n",
    "    ]\n",
    ")\n",
    "\n",
    "print(response.__dict__)\n",
    "config_id = response.__dict__.get('id')"
   ]
  },
  {
   "cell_type": "code",
   "execution_count": 66,
   "id": "41f687cc",
   "metadata": {},
   "outputs": [
    {
     "name": "stdout",
     "output_type": "stream",
     "text": [
      "{'created_at': datetime.datetime(2024, 2, 25, 4, 40, 5, tzinfo=datetime.timezone.utc),\n",
      " 'executable_id': 'tf-text-clf-serve',\n",
      " 'id': '5e4247a5-849e-4c90-813b-87e1795496db',\n",
      " 'input_artifact_bindings': [<ai_api_client_sdk.models.input_artifact_binding.InputArtifactBinding object at 0x7f8d08d869b0>],\n",
      " 'name': 'gsalomone-tf-gpu-conf',\n",
      " 'parameter_bindings': [],\n",
      " 'scenario': None,\n",
      " 'scenario_id': 'tf-text-clf'}\n",
      "{'created_at': datetime.datetime(2024, 2, 24, 21, 13, 31, tzinfo=datetime.timezone.utc),\n",
      " 'executable_id': 'tf-text-clf-serve',\n",
      " 'id': 'd1f12b53-1b32-4164-930b-b58a6ecd60df',\n",
      " 'input_artifact_bindings': [<ai_api_client_sdk.models.input_artifact_binding.InputArtifactBinding object at 0x7f8d08c4b880>],\n",
      " 'name': 'gsalomone-tf-gpu-conf',\n",
      " 'parameter_bindings': [],\n",
      " 'scenario': None,\n",
      " 'scenario_id': 'tf-text-clf'}\n",
      "{'created_at': datetime.datetime(2024, 2, 22, 19, 1, 7, tzinfo=datetime.timezone.utc),\n",
      " 'executable_id': 'house-metrics-train',\n",
      " 'id': '15aeaeb7-1df5-4682-b29c-8df71dde7242',\n",
      " 'input_artifact_bindings': [<ai_api_client_sdk.models.input_artifact_binding.InputArtifactBinding object at 0x7f8d08c4bcd0>],\n",
      " 'name': 'House Price (Jan) metrics',\n",
      " 'parameter_bindings': [<ai_api_client_sdk.models.parameter_binding.ParameterBinding object at 0x7f8d08c48d00>],\n",
      " 'scenario': None,\n",
      " 'scenario_id': 'learning-datalines'}\n",
      "{'created_at': datetime.datetime(2024, 2, 19, 18, 59, 23, tzinfo=datetime.timezone.utc),\n",
      " 'executable_id': 'code-pipeline-ncellini',\n",
      " 'id': '31d166ff-b0c9-4563-a8d9-136112a346a3',\n",
      " 'input_artifact_bindings': [],\n",
      " 'name': 'code-workflow-1-ncellini',\n",
      " 'parameter_bindings': [],\n",
      " 'scenario': None,\n",
      " 'scenario_id': 'learning-code'}\n",
      "{'created_at': datetime.datetime(2024, 2, 13, 22, 27, 18, tzinfo=datetime.timezone.utc),\n",
      " 'executable_id': 'tf-text-clf-serve',\n",
      " 'id': '78942804-7938-4a00-b66d-09116deea3ee',\n",
      " 'input_artifact_bindings': [<ai_api_client_sdk.models.input_artifact_binding.InputArtifactBinding object at 0x7f8d08c49990>],\n",
      " 'name': 'gsalomone-tf-gpu-conf',\n",
      " 'parameter_bindings': [],\n",
      " 'scenario': None,\n",
      " 'scenario_id': 'tf-text-clf'}\n",
      "{'created_at': datetime.datetime(2024, 2, 13, 22, 2, 31, tzinfo=datetime.timezone.utc),\n",
      " 'executable_id': 'tf-text-clf-serve',\n",
      " 'id': '9ba56439-644b-40ac-b51e-080d4c4de918',\n",
      " 'input_artifact_bindings': [<ai_api_client_sdk.models.input_artifact_binding.InputArtifactBinding object at 0x7f8d08c4b040>],\n",
      " 'name': 'gsalomone-tf-gpu-conf',\n",
      " 'parameter_bindings': [],\n",
      " 'scenario': None,\n",
      " 'scenario_id': 'tf-text-clf'}\n",
      "{'created_at': datetime.datetime(2024, 2, 10, 14, 50, 59, tzinfo=datetime.timezone.utc),\n",
      " 'executable_id': 'data-pipeline',\n",
      " 'id': '27839d28-f67e-407b-9d4b-d40982c47eaa',\n",
      " 'input_artifact_bindings': [<ai_api_client_sdk.models.input_artifact_binding.InputArtifactBinding object at 0x7f8d08c4b640>],\n",
      " 'name': 'House Price (Jan) metrics',\n",
      " 'parameter_bindings': [<ai_api_client_sdk.models.parameter_binding.ParameterBinding object at 0x7f8d08c4bc40>],\n",
      " 'scenario': None,\n",
      " 'scenario_id': 'learning-datalines'}\n",
      "{'created_at': datetime.datetime(2024, 2, 10, 2, 1, 6, tzinfo=datetime.timezone.utc),\n",
      " 'executable_id': 'data-pipeline',\n",
      " 'id': '24634468-0e22-412d-8430-fda01aff8afb',\n",
      " 'input_artifact_bindings': [<ai_api_client_sdk.models.input_artifact_binding.InputArtifactBinding object at 0x7f8d08c4b430>],\n",
      " 'name': 'House Price February 1',\n",
      " 'parameter_bindings': [<ai_api_client_sdk.models.parameter_binding.ParameterBinding object at 0x7f8d08c4be20>],\n",
      " 'scenario': None,\n",
      " 'scenario_id': 'learning-datalines'}\n",
      "{'created_at': datetime.datetime(2024, 2, 10, 1, 57, 41, tzinfo=datetime.timezone.utc),\n",
      " 'executable_id': 'data-pipeline',\n",
      " 'id': 'ee0bb280-1850-4ee4-9feb-db05b56369b6',\n",
      " 'input_artifact_bindings': [<ai_api_client_sdk.models.input_artifact_binding.InputArtifactBinding object at 0x7f8d08c4bb50>],\n",
      " 'name': 'House Price February 1',\n",
      " 'parameter_bindings': [<ai_api_client_sdk.models.parameter_binding.ParameterBinding object at 0x7f8d08c49870>],\n",
      " 'scenario': None,\n",
      " 'scenario_id': 'learning-datalines'}\n",
      "{'created_at': datetime.datetime(2024, 2, 10, 1, 54, 42, tzinfo=datetime.timezone.utc),\n",
      " 'executable_id': 'data-pipeline',\n",
      " 'id': '4fc0f712-8a49-479b-8cf5-6498ca89d221',\n",
      " 'input_artifact_bindings': [<ai_api_client_sdk.models.input_artifact_binding.InputArtifactBinding object at 0x7f8d08c4b4c0>],\n",
      " 'name': 'House Price February 1',\n",
      " 'parameter_bindings': [<ai_api_client_sdk.models.parameter_binding.ParameterBinding object at 0x7f8d08c4b100>],\n",
      " 'scenario': None,\n",
      " 'scenario_id': 'learning-datalines'}\n",
      "{'created_at': datetime.datetime(2024, 2, 10, 1, 52, 48, tzinfo=datetime.timezone.utc),\n",
      " 'executable_id': 'data-pipeline',\n",
      " 'id': '2da0f802-ab1c-44fd-a657-e84ff62cc7f3',\n",
      " 'input_artifact_bindings': [<ai_api_client_sdk.models.input_artifact_binding.InputArtifactBinding object at 0x7f8d08c499c0>],\n",
      " 'name': 'House Price January 1',\n",
      " 'parameter_bindings': [<ai_api_client_sdk.models.parameter_binding.ParameterBinding object at 0x7f8d08c4bbb0>],\n",
      " 'scenario': None,\n",
      " 'scenario_id': 'learning-datalines'}\n",
      "{'created_at': datetime.datetime(2024, 2, 10, 1, 46, 10, tzinfo=datetime.timezone.utc),\n",
      " 'executable_id': 'data-pipeline',\n",
      " 'id': 'b481580c-273e-4cab-a034-c97f5e9ecaa7',\n",
      " 'input_artifact_bindings': [<ai_api_client_sdk.models.input_artifact_binding.InputArtifactBinding object at 0x7f8d08c4be80>],\n",
      " 'name': 'House Price January 1',\n",
      " 'parameter_bindings': [<ai_api_client_sdk.models.parameter_binding.ParameterBinding object at 0x7f8d08c4bdf0>],\n",
      " 'scenario': None,\n",
      " 'scenario_id': 'learning-datalines'}\n",
      "{'created_at': datetime.datetime(2024, 2, 10, 1, 6, 41, tzinfo=datetime.timezone.utc),\n",
      " 'executable_id': 'data-pipeline',\n",
      " 'id': '46b79f8f-0d24-44a9-9156-fec225b69217',\n",
      " 'input_artifact_bindings': [<ai_api_client_sdk.models.input_artifact_binding.InputArtifactBinding object at 0x7f8d08c4bfa0>],\n",
      " 'name': 'House Price January 1',\n",
      " 'parameter_bindings': [<ai_api_client_sdk.models.parameter_binding.ParameterBinding object at 0x7f8d08c4bf40>],\n",
      " 'scenario': None,\n",
      " 'scenario_id': 'learning-datalines'}\n",
      "{'created_at': datetime.datetime(2024, 2, 8, 18, 5, 27, tzinfo=datetime.timezone.utc),\n",
      " 'executable_id': 'first-pipeline-ncellini',\n",
      " 'id': 'e632c3e7-5c45-4ffd-95da-544822fe418a',\n",
      " 'input_artifact_bindings': [],\n",
      " 'name': 'hello-pipeline-conf-ncellini',\n",
      " 'parameter_bindings': [],\n",
      " 'scenario': None,\n",
      " 'scenario_id': 'learning'}\n",
      "{'created_at': datetime.datetime(2024, 1, 24, 23, 43, 57, tzinfo=datetime.timezone.utc),\n",
      " 'executable_id': 'code-pipeline-01-gsalomone',\n",
      " 'id': 'a2cedfa2-08fd-44be-9d98-ab7b8205ff08',\n",
      " 'input_artifact_bindings': [],\n",
      " 'name': 'code-workflow-1',\n",
      " 'parameter_bindings': [],\n",
      " 'scenario': None,\n",
      " 'scenario_id': 'learning-code'}\n",
      "{'created_at': datetime.datetime(2024, 1, 24, 23, 40, 41, tzinfo=datetime.timezone.utc),\n",
      " 'executable_id': 'code-pipeline-01-gsalomone',\n",
      " 'id': '1338cc7f-6e96-4d14-b475-01a250ac0352',\n",
      " 'input_artifact_bindings': [],\n",
      " 'name': 'code-workflow-1',\n",
      " 'parameter_bindings': [],\n",
      " 'scenario': None,\n",
      " 'scenario_id': 'learning-code'}\n",
      "{'created_at': datetime.datetime(2024, 1, 24, 23, 38, 54, tzinfo=datetime.timezone.utc),\n",
      " 'executable_id': 'code-pipeline-01-gsalomone',\n",
      " 'id': '6c034d2b-d39e-4d65-b0aa-9b453bf6de1a',\n",
      " 'input_artifact_bindings': [],\n",
      " 'name': 'code-workflow-1',\n",
      " 'parameter_bindings': [],\n",
      " 'scenario': None,\n",
      " 'scenario_id': 'learning-code'}\n",
      "{'created_at': datetime.datetime(2024, 1, 24, 23, 33, 24, tzinfo=datetime.timezone.utc),\n",
      " 'executable_id': 'code-pipeline-01-gsalomone',\n",
      " 'id': '14b14b45-5d2e-4e26-b561-60e272067610',\n",
      " 'input_artifact_bindings': [],\n",
      " 'name': 'code-workflow-1',\n",
      " 'parameter_bindings': [],\n",
      " 'scenario': None,\n",
      " 'scenario_id': 'learning-code'}\n",
      "{'created_at': datetime.datetime(2024, 1, 24, 23, 29, 40, tzinfo=datetime.timezone.utc),\n",
      " 'executable_id': 'code-pipeline-01-gsalomone',\n",
      " 'id': 'a1e197c1-8a2f-4906-8a1d-d7bc02fe22ce',\n",
      " 'input_artifact_bindings': [],\n",
      " 'name': 'code-workflow-1',\n",
      " 'parameter_bindings': [],\n",
      " 'scenario': None,\n",
      " 'scenario_id': 'learning-code'}\n",
      "{'created_at': datetime.datetime(2024, 1, 24, 23, 28, 40, tzinfo=datetime.timezone.utc),\n",
      " 'executable_id': 'code-pipeline-01-gsalomone',\n",
      " 'id': 'cdac5bf6-6e25-480a-a3ce-a3530ebb5a53',\n",
      " 'input_artifact_bindings': [],\n",
      " 'name': 'code-workflow-1',\n",
      " 'parameter_bindings': [],\n",
      " 'scenario': None,\n",
      " 'scenario_id': 'learning-code'}\n",
      "{'created_at': datetime.datetime(2023, 12, 14, 22, 14, 54, tzinfo=datetime.timezone.utc),\n",
      " 'executable_id': 'first-pipeline',\n",
      " 'id': '0029478f-d127-4de8-90c5-bfde3d8dd5d1',\n",
      " 'input_artifact_bindings': [],\n",
      " 'name': 'hello-pipeline-conf-gsalomone',\n",
      " 'parameter_bindings': [],\n",
      " 'scenario': None,\n",
      " 'scenario_id': 'learning'}\n"
     ]
    }
   ],
   "source": [
    "configurations = ai_core_client.configuration.query(resource_group='default')\n",
    "\n",
    "\n",
    "for resource in configurations.resources:\n",
    "    pprint(resource.__dict__)"
   ]
  },
  {
   "cell_type": "code",
   "execution_count": 67,
   "id": "189f8e52",
   "metadata": {},
   "outputs": [
    {
     "data": {
      "text/plain": [
       "'5e4247a5-849e-4c90-813b-87e1795496db'"
      ]
     },
     "execution_count": 67,
     "metadata": {},
     "output_type": "execute_result"
    }
   ],
   "source": [
    "# Again, apparently the latest resource appears at the top, so\n",
    "configuration_id = configurations.resources[0].id\n",
    "configuration_id"
   ]
  },
  {
   "cell_type": "markdown",
   "id": "fcf24265",
   "metadata": {},
   "source": [
    "## Step 9: start deployment"
   ]
  },
  {
   "cell_type": "code",
   "execution_count": 68,
   "id": "c716d6d9-8114-4390-8233-7feb055c6268",
   "metadata": {},
   "outputs": [],
   "source": [
    "response = ai_core_client.deployment.create(\n",
    "    resource_group = \"default\",\n",
    "    configuration_id = configuration_id\n",
    ")"
   ]
  },
  {
   "cell_type": "code",
   "execution_count": 69,
   "id": "8996adf4",
   "metadata": {},
   "outputs": [
    {
     "data": {
      "text/plain": [
       "{'id': 'd96552e611c09edd',\n",
       " 'message': 'Deployment scheduled.',\n",
       " 'deployment_url': '',\n",
       " 'status': <Status.UNKNOWN: 'UNKNOWN'>,\n",
       " 'ttl': None}"
      ]
     },
     "execution_count": 69,
     "metadata": {},
     "output_type": "execute_result"
    }
   ],
   "source": [
    "response.__dict__"
   ]
  },
  {
   "cell_type": "code",
   "execution_count": 71,
   "id": "76f2a88d",
   "metadata": {},
   "outputs": [
    {
     "data": {
      "text/plain": [
       "'d96552e611c09edd'"
      ]
     },
     "execution_count": 71,
     "metadata": {},
     "output_type": "execute_result"
    }
   ],
   "source": [
    "deployments = ai_core_client.deployment.query(resource_group=\"default\")\n",
    "\n",
    "# Following what we've learned about the query method:\n",
    "deployment_id = deployments.resources[0].id\n",
    "deployment_id"
   ]
  },
  {
   "cell_type": "code",
   "execution_count": 75,
   "id": "ecc2bbc8-3712-462e-b3a6-171d9e712100",
   "metadata": {},
   "outputs": [
    {
     "name": "stdout",
     "output_type": "stream",
     "text": [
      "Status:  Status.UNKNOWN\n",
      "********************************************************************************\n",
      "{'completion_time': None,\n",
      " 'configuration_id': '5e4247a5-849e-4c90-813b-87e1795496db',\n",
      " 'configuration_name': 'gsalomone-tf-gpu-conf',\n",
      " 'created_at': datetime.datetime(2024, 2, 25, 4, 48, 48, tzinfo=datetime.timezone.utc),\n",
      " 'deployment_url': '',\n",
      " 'details': None,\n",
      " 'id': 'd96552e611c09edd',\n",
      " 'last_operation': None,\n",
      " 'latest_running_configuration_id': None,\n",
      " 'modified_at': datetime.datetime(2024, 2, 25, 4, 48, 48, tzinfo=datetime.timezone.utc),\n",
      " 'scenario_id': 'tf-text-clf',\n",
      " 'start_time': None,\n",
      " 'status': <Status.UNKNOWN: 'UNKNOWN'>,\n",
      " 'status_details': {'ai_api_details': {'status_updater': {'message': [{'code': '05010016',\n",
      "                                                                       'message': 'Deployment '\n",
      "                                                                                  'id '\n",
      "                                                                                  'd96552e611c09edd '\n",
      "                                                                                  'not '\n",
      "                                                                                  'found'}]}}},\n",
      " 'status_message': None,\n",
      " 'submission_time': datetime.datetime(2024, 2, 25, 4, 53, 25, tzinfo=datetime.timezone.utc),\n",
      " 'target_status': <TargetStatus.RUNNING: 'RUNNING'>,\n",
      " 'ttl': None}\n"
     ]
    }
   ],
   "source": [
    "# Check deployment status\n",
    "# This may take 2-3 minutes to change state from UNKNOWN > PENDING > RUNNING.\n",
    "\n",
    "response = ai_core_client.deployment.get(resource_group=\"default\", deployment_id=deployment_id)\n",
    "\n",
    "print(\"Status: \", response.status)\n",
    "print('*'*80)\n",
    "pprint(response.__dict__)"
   ]
  },
  {
   "cell_type": "code",
   "execution_count": null,
   "id": "76670765-6d38-4a7b-87b9-38b60e187115",
   "metadata": {},
   "outputs": [],
   "source": []
  }
 ],
 "metadata": {
  "kernelspec": {
   "display_name": "Python 3 (ipykernel)",
   "language": "python",
   "name": "python3"
  },
  "language_info": {
   "codemirror_mode": {
    "name": "ipython",
    "version": 3
   },
   "file_extension": ".py",
   "mimetype": "text/x-python",
   "name": "python",
   "nbconvert_exporter": "python",
   "pygments_lexer": "ipython3",
   "version": "3.10.13"
  }
 },
 "nbformat": 4,
 "nbformat_minor": 5
}
