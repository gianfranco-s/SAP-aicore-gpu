{
 "cells": [
  {
   "cell_type": "code",
   "execution_count": 12,
   "id": "9e67bf95-d4c7-400b-b271-ed502c4372a1",
   "metadata": {},
   "outputs": [],
   "source": [
    "from ai_core_sdk.ai_core_v2_client import AICoreV2Client\n",
    "\n",
    "from sapaicore_utils import (DOCKER_TOKEN,\n",
    "                             DOCKER_USER,\n",
    "                             get_conn_details,\n",
    "                             GITHUB_TOKEN,\n",
    "                             GITHUB_USER,\n",
    "                             onboard_repository,\n",
    "                             onboard_docker,\n",
    "                             show_docker_secrets,\n",
    "                             show_repositories,)\n",
    "\n",
    "conn_details = get_conn_details()\n",
    "ai_core_client = AICoreV2Client(**conn_details)"
   ]
  },
  {
   "cell_type": "markdown",
   "id": "472bcbee",
   "metadata": {},
   "source": [
    "## Step 0. Onboard a repository and Docker account"
   ]
  },
  {
   "cell_type": "markdown",
   "id": "8905b611",
   "metadata": {},
   "source": [
    "### GitHub repository\n",
    "We'll need a GitHub username and token"
   ]
  },
  {
   "cell_type": "code",
   "execution_count": 10,
   "id": "d0bf811b",
   "metadata": {},
   "outputs": [
    {
     "ename": "NameError",
     "evalue": "name 'onboard_repository' is not defined",
     "output_type": "error",
     "traceback": [
      "\u001b[0;31m---------------------------------------------------------------------------\u001b[0m",
      "\u001b[0;31mNameError\u001b[0m                                 Traceback (most recent call last)",
      "Cell \u001b[0;32mIn[10], line 3\u001b[0m\n\u001b[1;32m      1\u001b[0m PROJECT_NAME \u001b[38;5;241m=\u001b[39m \u001b[38;5;124m'\u001b[39m\u001b[38;5;124mgsalomone-tf-gpu\u001b[39m\u001b[38;5;124m'\u001b[39m\n\u001b[1;32m      2\u001b[0m github_repo_url \u001b[38;5;241m=\u001b[39m \u001b[38;5;124m'\u001b[39m\u001b[38;5;124mhttps://github.com/gianfranco-s/SAP-aicore-gpu\u001b[39m\u001b[38;5;124m'\u001b[39m\n\u001b[0;32m----> 3\u001b[0m \u001b[43monboard_repository\u001b[49m(github_repo_url,\n\u001b[1;32m      4\u001b[0m                    GITHUB_USER,\n\u001b[1;32m      5\u001b[0m                    GITHUB_TOKEN,\n\u001b[1;32m      6\u001b[0m                    PROJECT_NAME,\n\u001b[1;32m      7\u001b[0m                    ai_core_client)\n",
      "\u001b[0;31mNameError\u001b[0m: name 'onboard_repository' is not defined"
     ]
    }
   ],
   "source": [
    "PROJECT_NAME = 'gsalomone-tf-gpu'\n",
    "github_repo_url = 'https://github.com/gianfranco-s/SAP-aicore-gpu'\n",
    "onboard_repository(github_repo_url,\n",
    "                   GITHUB_USER,\n",
    "                   GITHUB_TOKEN,\n",
    "                   PROJECT_NAME,\n",
    "                   ai_core_client)"
   ]
  },
  {
   "cell_type": "code",
   "execution_count": null,
   "id": "f041f19e",
   "metadata": {},
   "outputs": [],
   "source": [
    "show_repositories(ai_core_client)"
   ]
  },
  {
   "cell_type": "markdown",
   "id": "7c9eb0ea",
   "metadata": {},
   "source": [
    "### Docker account"
   ]
  },
  {
   "cell_type": "code",
   "execution_count": null,
   "id": "50ce0742",
   "metadata": {},
   "outputs": [],
   "source": [
    "docker_registry_name = 'gsalomone-docker'\n",
    "onboard_docker(docker_registry_name, DOCKER_USER, DOCKER_TOKEN, ai_core_client)"
   ]
  },
  {
   "cell_type": "code",
   "execution_count": null,
   "id": "6a61015e",
   "metadata": {},
   "outputs": [],
   "source": [
    "show_docker_secrets(ai_core_client)"
   ]
  },
  {
   "cell_type": "markdown",
   "id": "a03fec94",
   "metadata": {},
   "source": [
    "## Step 1. Create workspace\n",
    "Using default resource group because when I tried to create `tf-demo`, I got the message \"Resource Group cannot be created for free tier tenant\""
   ]
  },
  {
   "cell_type": "code",
   "execution_count": null,
   "id": "ef95d95a-d6b4-445a-b708-d30a670bcfaa",
   "metadata": {},
   "outputs": [],
   "source": [
    "try:\n",
    "    response = ai_core_client.resource_groups.create(\"tf-demo\")\n",
    "\n",
    "except Exception as e:\n",
    "    print(e)"
   ]
  },
  {
   "cell_type": "code",
   "execution_count": null,
   "id": "b7fff6d7-94ff-416c-a781-e45d31a05e1d",
   "metadata": {},
   "outputs": [],
   "source": [
    "def show_resource_groups() -> None:\n",
    "    response = ai_core_client.resource_groups.query()\n",
    "\n",
    "    for rg in response.resources:\n",
    "        print(rg.resource_group_id)\n",
    "\n",
    "show_resource_groups()"
   ]
  },
  {
   "cell_type": "markdown",
   "id": "a90aef5d-58f4-4a61-801d-6f46b6ba13d3",
   "metadata": {},
   "source": [
    "## Step 2: upload model files to AWS S3\n",
    "Create bucket\n",
    "```\n",
    "aws s3api create-bucket --bucket gsalomone-celestial-bucket --region us-east-1\n",
    "```\n",
    "\n",
    "Upload files\n",
    "```\n",
    "cd tf_files\n",
    "aws s3 cp model.h5 s3://gsalomone-celestial-bucket/movie-clf/model/\n",
    "aws s3 cp max_pad_len.txt s3://gsalomone-celestial-bucket/movie-clf/model/\n",
    "aws s3 cp label_encoded_classes.npy s3://gsalomone-celestial-bucket/movie-clf/model/\n",
    "aws s3 cp tokens.json s3://gsalomone-celestial-bucket/movie-clf/model/\n",
    "```\n",
    "\n",
    "Check files\n",
    "```\n",
    "aws s3 ls s3://gsalomone-celestial-bucket/movie-clf/model/\n",
    "```\n",
    "\n",
    "Alternatively, it can be done using the AWS SDK"
   ]
  },
  {
   "cell_type": "code",
   "execution_count": 8,
   "id": "f95e6dd4",
   "metadata": {},
   "outputs": [
    {
     "name": "stdout",
     "output_type": "stream",
     "text": [
      "File uploaded successfully to S3 bucket: gsalomone-celestial-bucket with key: movie-clf/model/\n",
      "File uploaded successfully to S3 bucket: gsalomone-celestial-bucket with key: movie-clf/model/\n",
      "File uploaded successfully to S3 bucket: gsalomone-celestial-bucket with key: movie-clf/model/\n"
     ]
    }
   ],
   "source": [
    "import boto3\n",
    "\n",
    "def upload_file_to_s3(file_dir: str, file_name: str, bucket_name: str, s3_key: str) -> None:\n",
    "    s3 = boto3.client('s3')\n",
    "    try:\n",
    "        s3.upload_file(file_dir + file_name, bucket_name, s3_key + file_name)\n",
    "        print(f\"File uploaded successfully to S3 bucket: {bucket_name} with key: {s3_key}\")\n",
    "    except Exception as e:\n",
    "        print(f\"Error uploading file to S3: {e}\")\n",
    "\n",
    "bucket_name = 'gsalomone-celestial-bucket'\n",
    "s3_key = 'movie-clf/model/'\n",
    "file_dir = 'tf_files/'\n",
    "\n",
    "upload_file_to_s3(file_dir, 'model.h5', bucket_name, s3_key)\n",
    "upload_file_to_s3(file_dir, 'max_pad_len.txt', bucket_name, s3_key)\n",
    "upload_file_to_s3(file_dir, 'label_encoded_classes.npy', bucket_name, s3_key)\n",
    "upload_file_to_s3(file_dir, 'tokens.json', bucket_name, s3_key)\n"
   ]
  },
  {
   "cell_type": "markdown",
   "id": "1b94cf5e",
   "metadata": {},
   "source": [
    "## Step 3: connect AWS S3 to SAP AI Core\n"
   ]
  },
  {
   "cell_type": "code",
   "execution_count": 9,
   "id": "6c93e76a-a7d8-4896-a0e9-a81caea935de",
   "metadata": {},
   "outputs": [],
   "source": [
    "# aws_credentials_file = '/home/gsalomone/Documents/gian-dev_accessKeys.csv'\n",
    "aws_credentials_file = '/home/gian/gian-dev_accessKeys.csv'\n",
    "\n",
    "def get_aws_credentials(filepath: str) -> tuple:\n",
    "    with open(filepath, 'r') as f:\n",
    "        creds = f.readlines()[1:2][0]\n",
    "        aws_access_key_id, aws_secret_access_key = creds.split(',')\n",
    "        return aws_access_key_id, aws_secret_access_key\n",
    "\n",
    "aws_access_key_id, aws_secret_access_key = get_aws_credentials(aws_credentials_file)\n",
    "aws_az = 'us-east-1'\n",
    "object_store_name = 'gs-tf-gpu-tutorial-secret'"
   ]
  },
  {
   "cell_type": "code",
   "execution_count": null,
   "id": "020e1e4a-7b98-4a1b-91f6-f22df8462577",
   "metadata": {},
   "outputs": [],
   "source": [
    "def create_s3_object_store() -> str:\n",
    "    response = ai_core_client.object_store_secrets.create(\n",
    "        resource_group = 'default',\n",
    "        type = \"S3\",\n",
    "        name = object_store_name,\n",
    "        path_prefix = \"movie-clf\",\n",
    "        endpoint = f\"s3-{aws_az}.amazonaws.com\",\n",
    "        bucket = \"gsalomone-celestial-bucket\",\n",
    "        region = aws_az,\n",
    "        data = {\n",
    "            \"AWS_ACCESS_KEY_ID\": aws_access_key_id,\n",
    "            \"AWS_SECRET_ACCESS_KEY\": aws_secret_access_key\n",
    "        }\n",
    "    )\n",
    "\n",
    "    return response.message\n",
    "\n",
    "res = create_s3_object_store()\n",
    "res"
   ]
  },
  {
   "cell_type": "markdown",
   "id": "d2139160",
   "metadata": {},
   "source": [
    "## Step 4: register model as Artifact\n",
    "Let's follow the tutorial to the letter.\n",
    "\n",
    "Spoiler: it will not work. **We'll follow step 6 first**"
   ]
  },
  {
   "cell_type": "code",
   "execution_count": null,
   "id": "72320208",
   "metadata": {},
   "outputs": [],
   "source": [
    "# Register model as artifact\n",
    "from ai_core_sdk.models import Artifact\n",
    "\n",
    "def create_model(model_name: str, object_store_name: str, scenario_id: str, description: str) -> str:\n",
    "    response = ai_core_client.artifact.create(\n",
    "        resource_group = 'default',\n",
    "        name = model_name,\n",
    "        kind = Artifact.Kind.MODEL,\n",
    "        url = f\"ai://{object_store_name}/model\",\n",
    "        scenario_id = scenario_id,  # same as under `scenarios.ai.sap.com/id`\n",
    "        description = description\n",
    "    )\n",
    "    return response.message\n",
    "\n",
    "try:\n",
    "    msg = create_model(model_name='gsalomone-model',\n",
    "                       scenario_id='tf-text-clf',\n",
    "                       description='Review Classification Model',\n",
    "                       object_store_name=object_store_name,)\n",
    "\n",
    "    print(msg)\n",
    "except Exception as e:\n",
    "    print(e)"
   ]
  },
  {
   "cell_type": "markdown",
   "id": "789b0580",
   "metadata": {},
   "source": [
    "### Step 4 -> Step 6: we need to set up the scenario_id FIRST\n",
    "It turns out that `scenario_id` is created from the yaml file. So we'll move to step 6 of the tutorial\n",
    "\n",
    "- Copy [`serving_executable.yaml`](https://raw.githubusercontent.com/sap-tutorials/Tutorials/master/tutorials/ai-core-tensorflow-byod/files/workflow/serving_executable.yaml)\n",
    "- set `resourcePlan` to `infer.s` which will enable GPU.\n",
    "- set `imagePullSecrets > name` to the appropriate docker registry secret. In this tutorial you'll find it in variable `docker_registry_name`\n",
    "- set `containers > image` is set to `\"docker.io/DOCKER_USER/movie-review-clf-serve:0.0.1\"`"
   ]
  },
  {
   "cell_type": "markdown",
   "id": "c945ec69",
   "metadata": {},
   "source": [
    "### Step 4 -> Step 7: sync with SAP AI Core\n",
    "- Push `serving_executable.yaml` to GitHub\n",
    "- Create the application in SAP AI Core"
   ]
  },
  {
   "cell_type": "code",
   "execution_count": 13,
   "id": "80064c3a-b1e0-4b60-b872-55775fc255c4",
   "metadata": {},
   "outputs": [],
   "source": [
    "# Create application\n",
    "application_name = 'gsalomone-tf-app'\n",
    "response = ai_core_client.applications.create(\n",
    "    application_name = application_name,\n",
    "    revision = \"HEAD\",\n",
    "    repository_url = github_repo_url,\n",
    "    path = \"tf-text-classifier\"  # path to the yaml file in the repository\n",
    ")\n"
   ]
  },
  {
   "cell_type": "code",
   "execution_count": 14,
   "id": "21675f0e",
   "metadata": {},
   "outputs": [
    {
     "data": {
      "text/plain": [
       "{'id': 'gsalomone-tf-app',\n",
       " 'message': 'Application has been successfully created.'}"
      ]
     },
     "execution_count": 14,
     "metadata": {},
     "output_type": "execute_result"
    }
   ],
   "source": [
    "response.__dict__"
   ]
  },
  {
   "cell_type": "code",
   "execution_count": 18,
   "id": "86f9ae74-3fd3-4b60-9c71-8c5bdb9a593e",
   "metadata": {},
   "outputs": [
    {
     "name": "stdout",
     "output_type": "stream",
     "text": [
      "successfully synced (all tasks run)\n",
      "\n",
      "application status:  Synced\n",
      "workflow message:  servingtemplate.ai.sap.com/tf-text-clf-serve created\n",
      "application name (from yaml file):  tf-text-clf-serve\n"
     ]
    }
   ],
   "source": [
    "response = ai_core_client.applications.get_status(application_name=application_name)\n",
    "print(response.message)\n",
    "\n",
    "for workflow_sync_status in response.sync_ressources_status:\n",
    "    print(f'\\napplication status: ', workflow_sync_status.status)\n",
    "    print(f'workflow message: ', workflow_sync_status.message)\n",
    "    print(f'application name (from yaml file): ', workflow_sync_status.name)"
   ]
  },
  {
   "cell_type": "code",
   "execution_count": 19,
   "id": "ee1d2184-ab79-432d-a287-a1abc0186ce5",
   "metadata": {},
   "outputs": [],
   "source": [
    "artifact_id = response.__dict__.get('id')\n",
    "artifact_id"
   ]
  },
  {
   "cell_type": "code",
   "execution_count": null,
   "id": "5a37bf0d-1677-47cb-8a08-a680d3e73b61",
   "metadata": {},
   "outputs": [],
   "source": [
    "# Start deployment\n",
    "\n",
    "# Create configuration\n",
    "from ai_core_sdk.models import InputArtifactBinding\n",
    "\n",
    "response = ai_core_client.configuration.create(\n",
    "    name = \"gsalomone-tf-gpu-conf\",\n",
    "    resource_group = \"default\",\n",
    "    scenario_id = \"tf-text-clf\",\n",
    "    executable_id = \"tf-text-clf-serve\",\n",
    "    input_artifact_bindings = [\n",
    "        # list\n",
    "        InputArtifactBinding(key=\"modelArtifact\", artifact_id = artifact_id), # Change artifact id\n",
    "    ]\n",
    ")\n",
    "\n",
    "print(response.__dict__)\n",
    "config_id = response.__dict__.get('id')"
   ]
  },
  {
   "cell_type": "code",
   "execution_count": null,
   "id": "c716d6d9-8114-4390-8233-7feb055c6268",
   "metadata": {},
   "outputs": [],
   "source": [
    "# Create deployment\n",
    "response = ai_core_client.deployment.create(\n",
    "    resource_group = \"default\",\n",
    "    configuration_id = config_id # change this\n",
    ")\n",
    "print(response.__dict__)\n",
    "deployment_id = response.__dict__.get('id')\n",
    "deployment_id"
   ]
  },
  {
   "cell_type": "code",
   "execution_count": null,
   "id": "ecc2bbc8-3712-462e-b3a6-171d9e712100",
   "metadata": {},
   "outputs": [],
   "source": [
    "# Check deployment status\n",
    "response = ai_core_client.deployment.get(\n",
    "    resource_group = \"default\",\n",
    "    deployment_id = deployment_id # Change this\n",
    ")\n",
    "\n",
    "print(\"Status: \", response.status)\n",
    "print('*'*80)\n",
    "pprint(response.__dict__)"
   ]
  },
  {
   "cell_type": "code",
   "execution_count": null,
   "id": "9facb831-7444-42b0-87ef-68b505a19f39",
   "metadata": {},
   "outputs": [],
   "source": [
    "# SECOND TIME: check deployment status\n",
    "response = ai_core_client.deployment.get(\n",
    "    resource_group = \"default\",\n",
    "    deployment_id = deployment_id # Change this\n",
    ")\n",
    "\n",
    "print(\"Status: \", response.status)\n",
    "print('*'*80)\n",
    "from pprint import pprint\n",
    "pprint(response.__dict__)"
   ]
  },
  {
   "cell_type": "code",
   "execution_count": null,
   "id": "76670765-6d38-4a7b-87b9-38b60e187115",
   "metadata": {},
   "outputs": [],
   "source": []
  }
 ],
 "metadata": {
  "kernelspec": {
   "display_name": "Python 3 (ipykernel)",
   "language": "python",
   "name": "python3"
  },
  "language_info": {
   "codemirror_mode": {
    "name": "ipython",
    "version": 3
   },
   "file_extension": ".py",
   "mimetype": "text/x-python",
   "name": "python",
   "nbconvert_exporter": "python",
   "pygments_lexer": "ipython3",
   "version": "3.10.13"
  }
 },
 "nbformat": 4,
 "nbformat_minor": 5
}
